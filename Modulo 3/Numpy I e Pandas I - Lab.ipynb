{
 "cells": [
  {
   "cell_type": "markdown",
   "metadata": {},
   "source": [
    "# Programação Python para Ciência de Dados\n",
    "\n",
    "## Exercícios Numpy e Pandas - Parte I"
   ]
  },
  {
   "cell_type": "markdown",
   "metadata": {},
   "source": [
    "### Prática dos conteúdos estudados: Processando e extraindo informações de arquivos csv"
   ]
  },
  {
   "cell_type": "code",
   "execution_count": 10,
   "metadata": {},
   "outputs": [],
   "source": [
    "import numpy as np\n",
    "import pandas as pd"
   ]
  },
  {
   "cell_type": "markdown",
   "metadata": {},
   "source": [
    "#### O arquivo 'WorldCups.csv' possui as colunas:\n",
    "- Year: ano da copa\n",
    "- Country: pais sede\n",
    "- Winner: campeão\n",
    "- RunnersUP: disputou a final com o campeão\n",
    "- Third: terceiro colocado\n",
    "- Fourth: quarto colocado\n",
    "- GoalsScored: número de gols na copa\n",
    "- QualifiedTeams:\n",
    "- MatchesPlayed: número de jogos\n",
    "- Attendance: número de espectadores"
   ]
  },
  {
   "cell_type": "markdown",
   "metadata": {},
   "source": [
    "#### 1) Leia o arquivo 'WorldCups.csv', definindo a coluna 'Year' como índice, e salve-o em uma variável. Exiba as 5 primeiras linhas e o tipo de dado de cada coluna. Quantas linhas possui o DataFrame?"
   ]
  },
  {
   "cell_type": "code",
   "execution_count": 11,
   "metadata": {},
   "outputs": [],
   "source": [
    "df = pd.read_csv('WorldCups.csv',index_col = 'Year')"
   ]
  },
  {
   "cell_type": "code",
   "execution_count": 12,
   "metadata": {},
   "outputs": [
    {
     "name": "stdout",
     "output_type": "stream",
     "text": [
      "<class 'pandas.core.frame.DataFrame'>\n",
      "Int64Index: 20 entries, 1930 to 2014\n",
      "Data columns (total 9 columns):\n",
      "Country           20 non-null object\n",
      "Winner            20 non-null object\n",
      "RunnersUp         20 non-null object\n",
      "Third             20 non-null object\n",
      "Fourth            20 non-null object\n",
      "GoalsScored       20 non-null int64\n",
      "QualifiedTeams    20 non-null int64\n",
      "MatchesPlayed     20 non-null int64\n",
      "Attendance        20 non-null object\n",
      "dtypes: int64(3), object(6)\n",
      "memory usage: 1.6+ KB\n"
     ]
    }
   ],
   "source": [
    "df.info()"
   ]
  },
  {
   "cell_type": "code",
   "execution_count": 13,
   "metadata": {},
   "outputs": [
    {
     "data": {
      "text/html": [
       "<div>\n",
       "<style scoped>\n",
       "    .dataframe tbody tr th:only-of-type {\n",
       "        vertical-align: middle;\n",
       "    }\n",
       "\n",
       "    .dataframe tbody tr th {\n",
       "        vertical-align: top;\n",
       "    }\n",
       "\n",
       "    .dataframe thead th {\n",
       "        text-align: right;\n",
       "    }\n",
       "</style>\n",
       "<table border=\"1\" class=\"dataframe\">\n",
       "  <thead>\n",
       "    <tr style=\"text-align: right;\">\n",
       "      <th></th>\n",
       "      <th>Country</th>\n",
       "      <th>Winner</th>\n",
       "      <th>RunnersUp</th>\n",
       "      <th>Third</th>\n",
       "      <th>Fourth</th>\n",
       "      <th>GoalsScored</th>\n",
       "      <th>QualifiedTeams</th>\n",
       "      <th>MatchesPlayed</th>\n",
       "      <th>Attendance</th>\n",
       "    </tr>\n",
       "    <tr>\n",
       "      <th>Year</th>\n",
       "      <th></th>\n",
       "      <th></th>\n",
       "      <th></th>\n",
       "      <th></th>\n",
       "      <th></th>\n",
       "      <th></th>\n",
       "      <th></th>\n",
       "      <th></th>\n",
       "      <th></th>\n",
       "    </tr>\n",
       "  </thead>\n",
       "  <tbody>\n",
       "    <tr>\n",
       "      <th>1930</th>\n",
       "      <td>Uruguay</td>\n",
       "      <td>Uruguay</td>\n",
       "      <td>Argentina</td>\n",
       "      <td>USA</td>\n",
       "      <td>Yugoslavia</td>\n",
       "      <td>70</td>\n",
       "      <td>13</td>\n",
       "      <td>18</td>\n",
       "      <td>590.549</td>\n",
       "    </tr>\n",
       "    <tr>\n",
       "      <th>1934</th>\n",
       "      <td>Italy</td>\n",
       "      <td>Italy</td>\n",
       "      <td>Czechoslovakia</td>\n",
       "      <td>Germany</td>\n",
       "      <td>Austria</td>\n",
       "      <td>70</td>\n",
       "      <td>16</td>\n",
       "      <td>17</td>\n",
       "      <td>363.000</td>\n",
       "    </tr>\n",
       "    <tr>\n",
       "      <th>1938</th>\n",
       "      <td>France</td>\n",
       "      <td>Italy</td>\n",
       "      <td>Hungary</td>\n",
       "      <td>Brazil</td>\n",
       "      <td>Sweden</td>\n",
       "      <td>84</td>\n",
       "      <td>15</td>\n",
       "      <td>18</td>\n",
       "      <td>375.700</td>\n",
       "    </tr>\n",
       "    <tr>\n",
       "      <th>1950</th>\n",
       "      <td>Brazil</td>\n",
       "      <td>Uruguay</td>\n",
       "      <td>Brazil</td>\n",
       "      <td>Sweden</td>\n",
       "      <td>Spain</td>\n",
       "      <td>88</td>\n",
       "      <td>13</td>\n",
       "      <td>22</td>\n",
       "      <td>1.045.246</td>\n",
       "    </tr>\n",
       "    <tr>\n",
       "      <th>1954</th>\n",
       "      <td>Switzerland</td>\n",
       "      <td>Germany FR</td>\n",
       "      <td>Hungary</td>\n",
       "      <td>Austria</td>\n",
       "      <td>Uruguay</td>\n",
       "      <td>140</td>\n",
       "      <td>16</td>\n",
       "      <td>26</td>\n",
       "      <td>768.607</td>\n",
       "    </tr>\n",
       "  </tbody>\n",
       "</table>\n",
       "</div>"
      ],
      "text/plain": [
       "          Country      Winner       RunnersUp    Third      Fourth  \\\n",
       "Year                                                                 \n",
       "1930      Uruguay     Uruguay       Argentina      USA  Yugoslavia   \n",
       "1934        Italy       Italy  Czechoslovakia  Germany     Austria   \n",
       "1938       France       Italy         Hungary   Brazil      Sweden   \n",
       "1950       Brazil     Uruguay          Brazil   Sweden       Spain   \n",
       "1954  Switzerland  Germany FR         Hungary  Austria     Uruguay   \n",
       "\n",
       "      GoalsScored  QualifiedTeams  MatchesPlayed Attendance  \n",
       "Year                                                         \n",
       "1930           70              13             18    590.549  \n",
       "1934           70              16             17    363.000  \n",
       "1938           84              15             18    375.700  \n",
       "1950           88              13             22  1.045.246  \n",
       "1954          140              16             26    768.607  "
      ]
     },
     "execution_count": 13,
     "metadata": {},
     "output_type": "execute_result"
    }
   ],
   "source": [
    "df.head()"
   ]
  },
  {
   "cell_type": "code",
   "execution_count": 14,
   "metadata": {},
   "outputs": [
    {
     "data": {
      "text/plain": [
       "20"
      ]
     },
     "execution_count": 14,
     "metadata": {},
     "output_type": "execute_result"
    }
   ],
   "source": [
    "len(df)"
   ]
  },
  {
   "cell_type": "code",
   "execution_count": 16,
   "metadata": {},
   "outputs": [
    {
     "data": {
      "text/plain": [
       "Country           object\n",
       "Winner            object\n",
       "RunnersUp         object\n",
       "Third             object\n",
       "Fourth            object\n",
       "GoalsScored        int64\n",
       "QualifiedTeams     int64\n",
       "MatchesPlayed      int64\n",
       "Attendance        object\n",
       "dtype: object"
      ]
     },
     "execution_count": 16,
     "metadata": {},
     "output_type": "execute_result"
    }
   ],
   "source": [
    "df.dtypes"
   ]
  },
  {
   "cell_type": "markdown",
   "metadata": {},
   "source": [
    "#### 2) Em quais anos o Brasil ganhou a copa? Em quais anos o Brasil jogou uma final? Qual a proporção de vitórias do Brasil em finais?"
   ]
  },
  {
   "cell_type": "code",
   "execution_count": 17,
   "metadata": {},
   "outputs": [
    {
     "data": {
      "text/plain": [
       "array([1958, 1962, 1970, 1994, 2002])"
      ]
     },
     "execution_count": 17,
     "metadata": {},
     "output_type": "execute_result"
    }
   ],
   "source": [
    "# Em quais anos o Barsil ganhou a copa:\n",
    "df[df['Winner']=='Brazil'].index.values"
   ]
  },
  {
   "cell_type": "code",
   "execution_count": 18,
   "metadata": {},
   "outputs": [
    {
     "data": {
      "text/plain": [
       "array([1958, 1962, 1970, 1994, 2002])"
      ]
     },
     "execution_count": 18,
     "metadata": {},
     "output_type": "execute_result"
    }
   ],
   "source": [
    "df.loc[df['Winner'] == 'Brazil'].index.values"
   ]
  },
  {
   "cell_type": "code",
   "execution_count": 19,
   "metadata": {},
   "outputs": [
    {
     "data": {
      "text/plain": [
       "array([1950, 1958, 1962, 1970, 1994, 1998, 2002])"
      ]
     },
     "execution_count": 19,
     "metadata": {},
     "output_type": "execute_result"
    }
   ],
   "source": [
    " df[ (df['Winner'] == 'Brazil') | (df['RunnersUp'] == 'Brazil') ].index.values"
   ]
  },
  {
   "cell_type": "code",
   "execution_count": 20,
   "metadata": {},
   "outputs": [
    {
     "data": {
      "text/plain": [
       "array([1950, 1958, 1962, 1970, 1994, 1998, 2002])"
      ]
     },
     "execution_count": 20,
     "metadata": {},
     "output_type": "execute_result"
    }
   ],
   "source": [
    "# Brasil jogou uma final: Winner or RunnersUp\n",
    "df.query(\"Winner == 'Brazil' or RunnersUp  == 'Brazil'\").index.values"
   ]
  },
  {
   "cell_type": "markdown",
   "metadata": {},
   "source": [
    "#### 3) Remova as colunas de QualifiedTeams e 'MatchesPlayed'"
   ]
  },
  {
   "cell_type": "code",
   "execution_count": 21,
   "metadata": {},
   "outputs": [
    {
     "data": {
      "text/plain": [
       "Index(['Country', 'Winner', 'RunnersUp', 'Third', 'Fourth', 'GoalsScored',\n",
       "       'Attendance'],\n",
       "      dtype='object')"
      ]
     },
     "execution_count": 21,
     "metadata": {},
     "output_type": "execute_result"
    }
   ],
   "source": [
    "df.drop(['QualifiedTeams', 'MatchesPlayed'] ,axis = 1,inplace = True)\n",
    "df.columns"
   ]
  },
  {
   "cell_type": "markdown",
   "metadata": {},
   "source": [
    "#### 4) Exiba as linhas de 4 a 8 (inclusive)"
   ]
  },
  {
   "cell_type": "code",
   "execution_count": 22,
   "metadata": {},
   "outputs": [
    {
     "data": {
      "text/html": [
       "<div>\n",
       "<style scoped>\n",
       "    .dataframe tbody tr th:only-of-type {\n",
       "        vertical-align: middle;\n",
       "    }\n",
       "\n",
       "    .dataframe tbody tr th {\n",
       "        vertical-align: top;\n",
       "    }\n",
       "\n",
       "    .dataframe thead th {\n",
       "        text-align: right;\n",
       "    }\n",
       "</style>\n",
       "<table border=\"1\" class=\"dataframe\">\n",
       "  <thead>\n",
       "    <tr style=\"text-align: right;\">\n",
       "      <th></th>\n",
       "      <th>Country</th>\n",
       "      <th>Winner</th>\n",
       "      <th>RunnersUp</th>\n",
       "      <th>Third</th>\n",
       "      <th>Fourth</th>\n",
       "      <th>GoalsScored</th>\n",
       "      <th>Attendance</th>\n",
       "    </tr>\n",
       "    <tr>\n",
       "      <th>Year</th>\n",
       "      <th></th>\n",
       "      <th></th>\n",
       "      <th></th>\n",
       "      <th></th>\n",
       "      <th></th>\n",
       "      <th></th>\n",
       "      <th></th>\n",
       "    </tr>\n",
       "  </thead>\n",
       "  <tbody>\n",
       "    <tr>\n",
       "      <th>1954</th>\n",
       "      <td>Switzerland</td>\n",
       "      <td>Germany FR</td>\n",
       "      <td>Hungary</td>\n",
       "      <td>Austria</td>\n",
       "      <td>Uruguay</td>\n",
       "      <td>140</td>\n",
       "      <td>768.607</td>\n",
       "    </tr>\n",
       "    <tr>\n",
       "      <th>1958</th>\n",
       "      <td>Sweden</td>\n",
       "      <td>Brazil</td>\n",
       "      <td>Sweden</td>\n",
       "      <td>France</td>\n",
       "      <td>Germany FR</td>\n",
       "      <td>126</td>\n",
       "      <td>819.810</td>\n",
       "    </tr>\n",
       "    <tr>\n",
       "      <th>1962</th>\n",
       "      <td>Chile</td>\n",
       "      <td>Brazil</td>\n",
       "      <td>Czechoslovakia</td>\n",
       "      <td>Chile</td>\n",
       "      <td>Yugoslavia</td>\n",
       "      <td>89</td>\n",
       "      <td>893.172</td>\n",
       "    </tr>\n",
       "    <tr>\n",
       "      <th>1966</th>\n",
       "      <td>England</td>\n",
       "      <td>England</td>\n",
       "      <td>Germany FR</td>\n",
       "      <td>Portugal</td>\n",
       "      <td>Soviet Union</td>\n",
       "      <td>89</td>\n",
       "      <td>1.563.135</td>\n",
       "    </tr>\n",
       "    <tr>\n",
       "      <th>1970</th>\n",
       "      <td>Mexico</td>\n",
       "      <td>Brazil</td>\n",
       "      <td>Italy</td>\n",
       "      <td>Germany FR</td>\n",
       "      <td>Uruguay</td>\n",
       "      <td>95</td>\n",
       "      <td>1.603.975</td>\n",
       "    </tr>\n",
       "  </tbody>\n",
       "</table>\n",
       "</div>"
      ],
      "text/plain": [
       "          Country      Winner       RunnersUp       Third        Fourth  \\\n",
       "Year                                                                      \n",
       "1954  Switzerland  Germany FR         Hungary     Austria       Uruguay   \n",
       "1958       Sweden      Brazil          Sweden      France    Germany FR   \n",
       "1962        Chile      Brazil  Czechoslovakia       Chile    Yugoslavia   \n",
       "1966      England     England      Germany FR    Portugal  Soviet Union   \n",
       "1970       Mexico      Brazil           Italy  Germany FR       Uruguay   \n",
       "\n",
       "      GoalsScored Attendance  \n",
       "Year                          \n",
       "1954          140    768.607  \n",
       "1958          126    819.810  \n",
       "1962           89    893.172  \n",
       "1966           89  1.563.135  \n",
       "1970           95  1.603.975  "
      ]
     },
     "execution_count": 22,
     "metadata": {},
     "output_type": "execute_result"
    }
   ],
   "source": [
    "df.iloc[4:9,:]"
   ]
  },
  {
   "cell_type": "markdown",
   "metadata": {},
   "source": [
    "#### 5) Utiliza os rótulos (labels) para exibir as linhas das copas de 2002 e 2006 "
   ]
  },
  {
   "cell_type": "code",
   "execution_count": 23,
   "metadata": {},
   "outputs": [
    {
     "data": {
      "text/html": [
       "<div>\n",
       "<style scoped>\n",
       "    .dataframe tbody tr th:only-of-type {\n",
       "        vertical-align: middle;\n",
       "    }\n",
       "\n",
       "    .dataframe tbody tr th {\n",
       "        vertical-align: top;\n",
       "    }\n",
       "\n",
       "    .dataframe thead th {\n",
       "        text-align: right;\n",
       "    }\n",
       "</style>\n",
       "<table border=\"1\" class=\"dataframe\">\n",
       "  <thead>\n",
       "    <tr style=\"text-align: right;\">\n",
       "      <th></th>\n",
       "      <th>Country</th>\n",
       "      <th>Winner</th>\n",
       "      <th>RunnersUp</th>\n",
       "      <th>Third</th>\n",
       "      <th>Fourth</th>\n",
       "      <th>GoalsScored</th>\n",
       "      <th>Attendance</th>\n",
       "    </tr>\n",
       "    <tr>\n",
       "      <th>Year</th>\n",
       "      <th></th>\n",
       "      <th></th>\n",
       "      <th></th>\n",
       "      <th></th>\n",
       "      <th></th>\n",
       "      <th></th>\n",
       "      <th></th>\n",
       "    </tr>\n",
       "  </thead>\n",
       "  <tbody>\n",
       "    <tr>\n",
       "      <th>2002</th>\n",
       "      <td>Korea/Japan</td>\n",
       "      <td>Brazil</td>\n",
       "      <td>Germany</td>\n",
       "      <td>Turkey</td>\n",
       "      <td>Korea Republic</td>\n",
       "      <td>161</td>\n",
       "      <td>2.705.197</td>\n",
       "    </tr>\n",
       "    <tr>\n",
       "      <th>2006</th>\n",
       "      <td>Germany</td>\n",
       "      <td>Italy</td>\n",
       "      <td>France</td>\n",
       "      <td>Germany</td>\n",
       "      <td>Portugal</td>\n",
       "      <td>147</td>\n",
       "      <td>3.359.439</td>\n",
       "    </tr>\n",
       "  </tbody>\n",
       "</table>\n",
       "</div>"
      ],
      "text/plain": [
       "          Country  Winner RunnersUp    Third          Fourth  GoalsScored  \\\n",
       "Year                                                                        \n",
       "2002  Korea/Japan  Brazil   Germany   Turkey  Korea Republic          161   \n",
       "2006      Germany   Italy    France  Germany        Portugal          147   \n",
       "\n",
       "     Attendance  \n",
       "Year             \n",
       "2002  2.705.197  \n",
       "2006  3.359.439  "
      ]
     },
     "execution_count": 23,
     "metadata": {},
     "output_type": "execute_result"
    }
   ],
   "source": [
    "df.loc[[2002,2006]]"
   ]
  },
  {
   "cell_type": "markdown",
   "metadata": {},
   "source": [
    "#### 6) Quais foram as 5 copas com mais gols? Utilize a função de ordenação."
   ]
  },
  {
   "cell_type": "code",
   "execution_count": 24,
   "metadata": {},
   "outputs": [
    {
     "data": {
      "text/html": [
       "<div>\n",
       "<style scoped>\n",
       "    .dataframe tbody tr th:only-of-type {\n",
       "        vertical-align: middle;\n",
       "    }\n",
       "\n",
       "    .dataframe tbody tr th {\n",
       "        vertical-align: top;\n",
       "    }\n",
       "\n",
       "    .dataframe thead th {\n",
       "        text-align: right;\n",
       "    }\n",
       "</style>\n",
       "<table border=\"1\" class=\"dataframe\">\n",
       "  <thead>\n",
       "    <tr style=\"text-align: right;\">\n",
       "      <th></th>\n",
       "      <th>Country</th>\n",
       "      <th>Winner</th>\n",
       "      <th>RunnersUp</th>\n",
       "      <th>Third</th>\n",
       "      <th>Fourth</th>\n",
       "      <th>GoalsScored</th>\n",
       "      <th>Attendance</th>\n",
       "    </tr>\n",
       "    <tr>\n",
       "      <th>Year</th>\n",
       "      <th></th>\n",
       "      <th></th>\n",
       "      <th></th>\n",
       "      <th></th>\n",
       "      <th></th>\n",
       "      <th></th>\n",
       "      <th></th>\n",
       "    </tr>\n",
       "  </thead>\n",
       "  <tbody>\n",
       "    <tr>\n",
       "      <th>1982</th>\n",
       "      <td>Spain</td>\n",
       "      <td>Italy</td>\n",
       "      <td>Germany FR</td>\n",
       "      <td>Poland</td>\n",
       "      <td>France</td>\n",
       "      <td>146</td>\n",
       "      <td>2.109.723</td>\n",
       "    </tr>\n",
       "    <tr>\n",
       "      <th>2006</th>\n",
       "      <td>Germany</td>\n",
       "      <td>Italy</td>\n",
       "      <td>France</td>\n",
       "      <td>Germany</td>\n",
       "      <td>Portugal</td>\n",
       "      <td>147</td>\n",
       "      <td>3.359.439</td>\n",
       "    </tr>\n",
       "    <tr>\n",
       "      <th>2002</th>\n",
       "      <td>Korea/Japan</td>\n",
       "      <td>Brazil</td>\n",
       "      <td>Germany</td>\n",
       "      <td>Turkey</td>\n",
       "      <td>Korea Republic</td>\n",
       "      <td>161</td>\n",
       "      <td>2.705.197</td>\n",
       "    </tr>\n",
       "    <tr>\n",
       "      <th>1998</th>\n",
       "      <td>France</td>\n",
       "      <td>France</td>\n",
       "      <td>Brazil</td>\n",
       "      <td>Croatia</td>\n",
       "      <td>Netherlands</td>\n",
       "      <td>171</td>\n",
       "      <td>2.785.100</td>\n",
       "    </tr>\n",
       "    <tr>\n",
       "      <th>2014</th>\n",
       "      <td>Brazil</td>\n",
       "      <td>Germany</td>\n",
       "      <td>Argentina</td>\n",
       "      <td>Netherlands</td>\n",
       "      <td>Brazil</td>\n",
       "      <td>171</td>\n",
       "      <td>3.386.810</td>\n",
       "    </tr>\n",
       "  </tbody>\n",
       "</table>\n",
       "</div>"
      ],
      "text/plain": [
       "          Country   Winner   RunnersUp        Third          Fourth  \\\n",
       "Year                                                                  \n",
       "1982        Spain    Italy  Germany FR       Poland          France   \n",
       "2006      Germany    Italy      France      Germany        Portugal   \n",
       "2002  Korea/Japan   Brazil     Germany       Turkey  Korea Republic   \n",
       "1998       France   France      Brazil      Croatia     Netherlands   \n",
       "2014       Brazil  Germany   Argentina  Netherlands          Brazil   \n",
       "\n",
       "      GoalsScored Attendance  \n",
       "Year                          \n",
       "1982          146  2.109.723  \n",
       "2006          147  3.359.439  \n",
       "2002          161  2.705.197  \n",
       "1998          171  2.785.100  \n",
       "2014          171  3.386.810  "
      ]
     },
     "execution_count": 24,
     "metadata": {},
     "output_type": "execute_result"
    }
   ],
   "source": [
    "df.sort_values('GoalsScored').iloc[-5:]"
   ]
  },
  {
   "cell_type": "code",
   "execution_count": 25,
   "metadata": {},
   "outputs": [
    {
     "data": {
      "text/html": [
       "<div>\n",
       "<style scoped>\n",
       "    .dataframe tbody tr th:only-of-type {\n",
       "        vertical-align: middle;\n",
       "    }\n",
       "\n",
       "    .dataframe tbody tr th {\n",
       "        vertical-align: top;\n",
       "    }\n",
       "\n",
       "    .dataframe thead th {\n",
       "        text-align: right;\n",
       "    }\n",
       "</style>\n",
       "<table border=\"1\" class=\"dataframe\">\n",
       "  <thead>\n",
       "    <tr style=\"text-align: right;\">\n",
       "      <th></th>\n",
       "      <th>Country</th>\n",
       "      <th>Winner</th>\n",
       "      <th>RunnersUp</th>\n",
       "      <th>Third</th>\n",
       "      <th>Fourth</th>\n",
       "      <th>GoalsScored</th>\n",
       "      <th>Attendance</th>\n",
       "    </tr>\n",
       "    <tr>\n",
       "      <th>Year</th>\n",
       "      <th></th>\n",
       "      <th></th>\n",
       "      <th></th>\n",
       "      <th></th>\n",
       "      <th></th>\n",
       "      <th></th>\n",
       "      <th></th>\n",
       "    </tr>\n",
       "  </thead>\n",
       "  <tbody>\n",
       "    <tr>\n",
       "      <th>1982</th>\n",
       "      <td>Spain</td>\n",
       "      <td>Italy</td>\n",
       "      <td>Germany FR</td>\n",
       "      <td>Poland</td>\n",
       "      <td>France</td>\n",
       "      <td>146</td>\n",
       "      <td>2.109.723</td>\n",
       "    </tr>\n",
       "    <tr>\n",
       "      <th>2006</th>\n",
       "      <td>Germany</td>\n",
       "      <td>Italy</td>\n",
       "      <td>France</td>\n",
       "      <td>Germany</td>\n",
       "      <td>Portugal</td>\n",
       "      <td>147</td>\n",
       "      <td>3.359.439</td>\n",
       "    </tr>\n",
       "    <tr>\n",
       "      <th>2002</th>\n",
       "      <td>Korea/Japan</td>\n",
       "      <td>Brazil</td>\n",
       "      <td>Germany</td>\n",
       "      <td>Turkey</td>\n",
       "      <td>Korea Republic</td>\n",
       "      <td>161</td>\n",
       "      <td>2.705.197</td>\n",
       "    </tr>\n",
       "    <tr>\n",
       "      <th>1998</th>\n",
       "      <td>France</td>\n",
       "      <td>France</td>\n",
       "      <td>Brazil</td>\n",
       "      <td>Croatia</td>\n",
       "      <td>Netherlands</td>\n",
       "      <td>171</td>\n",
       "      <td>2.785.100</td>\n",
       "    </tr>\n",
       "    <tr>\n",
       "      <th>2014</th>\n",
       "      <td>Brazil</td>\n",
       "      <td>Germany</td>\n",
       "      <td>Argentina</td>\n",
       "      <td>Netherlands</td>\n",
       "      <td>Brazil</td>\n",
       "      <td>171</td>\n",
       "      <td>3.386.810</td>\n",
       "    </tr>\n",
       "  </tbody>\n",
       "</table>\n",
       "</div>"
      ],
      "text/plain": [
       "          Country   Winner   RunnersUp        Third          Fourth  \\\n",
       "Year                                                                  \n",
       "1982        Spain    Italy  Germany FR       Poland          France   \n",
       "2006      Germany    Italy      France      Germany        Portugal   \n",
       "2002  Korea/Japan   Brazil     Germany       Turkey  Korea Republic   \n",
       "1998       France   France      Brazil      Croatia     Netherlands   \n",
       "2014       Brazil  Germany   Argentina  Netherlands          Brazil   \n",
       "\n",
       "      GoalsScored Attendance  \n",
       "Year                          \n",
       "1982          146  2.109.723  \n",
       "2006          147  3.359.439  \n",
       "2002          161  2.705.197  \n",
       "1998          171  2.785.100  \n",
       "2014          171  3.386.810  "
      ]
     },
     "execution_count": 25,
     "metadata": {},
     "output_type": "execute_result"
    }
   ],
   "source": [
    "df.sort_values('GoalsScored').tail()"
   ]
  },
  {
   "cell_type": "markdown",
   "metadata": {},
   "source": [
    "#### 7) Utiliza o método `.value_counts()` para saber o número de vezes que cada país já ganhou. Só é necessário usar a coluna 'Winner' "
   ]
  },
  {
   "cell_type": "code",
   "execution_count": 26,
   "metadata": {},
   "outputs": [
    {
     "data": {
      "text/plain": [
       "Brazil        5\n",
       "Italy         4\n",
       "Germany FR    3\n",
       "Argentina     2\n",
       "Uruguay       2\n",
       "Spain         1\n",
       "England       1\n",
       "Germany       1\n",
       "France        1\n",
       "Name: Winner, dtype: int64"
      ]
     },
     "execution_count": 26,
     "metadata": {},
     "output_type": "execute_result"
    }
   ],
   "source": [
    "df['Winner'].value_counts()"
   ]
  },
  {
   "cell_type": "markdown",
   "metadata": {},
   "source": [
    "#### 8) Deixe Pandas de lado por enquanto. Vamos para o Numpy.\n",
    "Os dados de pandas são na verdade uma matriz do Numpy. Trabalhar com a matriz Numpy é mais eficiente. Para acessar essa matriz basta fazer:\n",
    "\n",
    "```python\n",
    "nparray = dataframe.values\n",
    "```"
   ]
  },
  {
   "cell_type": "markdown",
   "metadata": {},
   "source": [
    "##### a) Com a matriz numpy, visualize apenas as colunas de 1 a 4 (inclusive). Que colunas são essas? Salve numa variável."
   ]
  },
  {
   "cell_type": "code",
   "execution_count": 27,
   "metadata": {},
   "outputs": [
    {
     "data": {
      "text/plain": [
       "array([['Uruguay', 'Argentina', 'USA', 'Yugoslavia'],\n",
       "       ['Italy', 'Czechoslovakia', 'Germany', 'Austria'],\n",
       "       ['Italy', 'Hungary', 'Brazil', 'Sweden'],\n",
       "       ['Uruguay', 'Brazil', 'Sweden', 'Spain'],\n",
       "       ['Germany FR', 'Hungary', 'Austria', 'Uruguay'],\n",
       "       ['Brazil', 'Sweden', 'France', 'Germany FR'],\n",
       "       ['Brazil', 'Czechoslovakia', 'Chile', 'Yugoslavia'],\n",
       "       ['England', 'Germany FR', 'Portugal', 'Soviet Union'],\n",
       "       ['Brazil', 'Italy', 'Germany FR', 'Uruguay'],\n",
       "       ['Germany FR', 'Netherlands', 'Poland', 'Brazil'],\n",
       "       ['Argentina', 'Netherlands', 'Brazil', 'Italy'],\n",
       "       ['Italy', 'Germany FR', 'Poland', 'France'],\n",
       "       ['Argentina', 'Germany FR', 'France', 'Belgium'],\n",
       "       ['Germany FR', 'Argentina', 'Italy', 'England'],\n",
       "       ['Brazil', 'Italy', 'Sweden', 'Bulgaria'],\n",
       "       ['France', 'Brazil', 'Croatia', 'Netherlands'],\n",
       "       ['Brazil', 'Germany', 'Turkey', 'Korea Republic'],\n",
       "       ['Italy', 'France', 'Germany', 'Portugal'],\n",
       "       ['Spain', 'Netherlands', 'Germany', 'Uruguay'],\n",
       "       ['Germany', 'Argentina', 'Netherlands', 'Brazil']], dtype=object)"
      ]
     },
     "execution_count": 27,
     "metadata": {},
     "output_type": "execute_result"
    }
   ],
   "source": [
    "matriz = df.values[:,1:5]\n",
    "matriz"
   ]
  },
  {
   "cell_type": "markdown",
   "metadata": {},
   "source": [
    "##### b) Você deve gerar um dicionário em que as chaves são os países e os valores são número de vezes que aquele país participou de uma final (Ex.: 'pais' : num_final).\n",
    "\n",
    "_Dica: o código abaixo pode te auxiliar a criar esse dicionário_\n",
    "\n",
    "```python\n",
    "# d é um dicionário que inicialmente estava vazio\n",
    "if pais in d: \n",
    "    d[pais] += 1 # se país estava no dicionário...\n",
    "else:\n",
    "    d[pais] = 1 # # se país não estava no dicionário...\n",
    "```"
   ]
  },
  {
   "cell_type": "code",
   "execution_count": 28,
   "metadata": {},
   "outputs": [
    {
     "data": {
      "text/plain": [
       "{'Uruguay': 2,\n",
       " 'Argentina': 5,\n",
       " 'Italy': 6,\n",
       " 'Czechoslovakia': 2,\n",
       " 'Hungary': 2,\n",
       " 'Brazil': 7,\n",
       " 'Germany FR': 6,\n",
       " 'Sweden': 1,\n",
       " 'England': 1,\n",
       " 'Netherlands': 3,\n",
       " 'France': 2,\n",
       " 'Germany': 2,\n",
       " 'Spain': 1}"
      ]
     },
     "execution_count": 28,
     "metadata": {},
     "output_type": "execute_result"
    }
   ],
   "source": [
    "dic = {}\n",
    "for primeiro, segundo, _, _ in matriz:\n",
    "    \n",
    "    if primeiro not in dic:\n",
    "        dic[primeiro] = 1\n",
    "        \n",
    "    else:\n",
    "        dic[primeiro] += 1\n",
    "        \n",
    "    if segundo not in dic:\n",
    "        dic[segundo] = 1\n",
    "        \n",
    "    else:\n",
    "        dic[segundo] += 1\n",
    "\n",
    "dic"
   ]
  },
  {
   "cell_type": "markdown",
   "metadata": {},
   "source": [
    "##### b) Agora faça um dicionário que mapeia cada país ao número de partidas que disputou terceiro lugar (Ex.: 'pais' : num_terc)."
   ]
  },
  {
   "cell_type": "code",
   "execution_count": 29,
   "metadata": {},
   "outputs": [
    {
     "data": {
      "text/plain": [
       "{'Uruguay': 2,\n",
       " 'Argentina': 5,\n",
       " 'Italy': 6,\n",
       " 'Czechoslovakia': 2,\n",
       " 'Hungary': 2,\n",
       " 'Brazil': 7,\n",
       " 'Germany FR': 6,\n",
       " 'Sweden': 1,\n",
       " 'England': 1,\n",
       " 'Netherlands': 3,\n",
       " 'France': 2,\n",
       " 'Germany': 2,\n",
       " 'Spain': 1}"
      ]
     },
     "execution_count": 29,
     "metadata": {},
     "output_type": "execute_result"
    }
   ],
   "source": [
    "dic2={}\n",
    "for _, _, terceiro, quarto in matriz:\n",
    "    \n",
    "    if terceiro not in dic2:\n",
    "        dic2[terceiro] = 1\n",
    "    else:\n",
    "        dic2[terceiro] += 1\n",
    "    \n",
    "    if quarto not in dic2:\n",
    "        dic2[quarto] = 1\n",
    "    else:\n",
    "        dic2[quarto] += 1\n",
    "    \n",
    "dic"
   ]
  },
  {
   "cell_type": "markdown",
   "metadata": {},
   "source": [
    "##### c) Insira esses dois dicionários em em outro dicionário da seguinte forma {'finais' : {'Brazil' : 7, ...}, 'tercs' : {USA' : 1}}. Transforme em um DataFrame e salve em um arquivo .csv."
   ]
  },
  {
   "cell_type": "code",
   "execution_count": 30,
   "metadata": {},
   "outputs": [],
   "source": [
    "dic3 = {'finais':dic,'terceiros':dic2}"
   ]
  },
  {
   "cell_type": "code",
   "execution_count": 41,
   "metadata": {},
   "outputs": [
    {
     "data": {
      "text/plain": [
       "{'finais': {'Uruguay': 2,\n",
       "  'Argentina': 5,\n",
       "  'Italy': 6,\n",
       "  'Czechoslovakia': 2,\n",
       "  'Hungary': 2,\n",
       "  'Brazil': 7,\n",
       "  'Germany FR': 6,\n",
       "  'Sweden': 1,\n",
       "  'England': 1,\n",
       "  'Netherlands': 3,\n",
       "  'France': 2,\n",
       "  'Germany': 2,\n",
       "  'Spain': 1},\n",
       " 'terceiros': {'USA': 1,\n",
       "  'Yugoslavia': 2,\n",
       "  'Germany': 3,\n",
       "  'Austria': 2,\n",
       "  'Brazil': 4,\n",
       "  'Sweden': 3,\n",
       "  'Spain': 1,\n",
       "  'Uruguay': 3,\n",
       "  'France': 3,\n",
       "  'Germany FR': 2,\n",
       "  'Chile': 1,\n",
       "  'Portugal': 2,\n",
       "  'Soviet Union': 1,\n",
       "  'Poland': 2,\n",
       "  'Italy': 2,\n",
       "  'Belgium': 1,\n",
       "  'England': 1,\n",
       "  'Bulgaria': 1,\n",
       "  'Croatia': 1,\n",
       "  'Netherlands': 2,\n",
       "  'Turkey': 1,\n",
       "  'Korea Republic': 1}}"
      ]
     },
     "execution_count": 41,
     "metadata": {},
     "output_type": "execute_result"
    }
   ],
   "source": [
    "dic3"
   ]
  },
  {
   "cell_type": "code",
   "execution_count": 42,
   "metadata": {},
   "outputs": [],
   "source": [
    "df_final = pd.DataFrame(dic3)"
   ]
  },
  {
   "cell_type": "code",
   "execution_count": 34,
   "metadata": {},
   "outputs": [
    {
     "data": {
      "text/html": [
       "<div>\n",
       "<style scoped>\n",
       "    .dataframe tbody tr th:only-of-type {\n",
       "        vertical-align: middle;\n",
       "    }\n",
       "\n",
       "    .dataframe tbody tr th {\n",
       "        vertical-align: top;\n",
       "    }\n",
       "\n",
       "    .dataframe thead th {\n",
       "        text-align: right;\n",
       "    }\n",
       "</style>\n",
       "<table border=\"1\" class=\"dataframe\">\n",
       "  <thead>\n",
       "    <tr style=\"text-align: right;\">\n",
       "      <th></th>\n",
       "      <th>finais</th>\n",
       "      <th>terceiros</th>\n",
       "    </tr>\n",
       "  </thead>\n",
       "  <tbody>\n",
       "    <tr>\n",
       "      <th>Argentina</th>\n",
       "      <td>5.0</td>\n",
       "      <td>NaN</td>\n",
       "    </tr>\n",
       "    <tr>\n",
       "      <th>Austria</th>\n",
       "      <td>NaN</td>\n",
       "      <td>2.0</td>\n",
       "    </tr>\n",
       "    <tr>\n",
       "      <th>Belgium</th>\n",
       "      <td>NaN</td>\n",
       "      <td>1.0</td>\n",
       "    </tr>\n",
       "    <tr>\n",
       "      <th>Brazil</th>\n",
       "      <td>7.0</td>\n",
       "      <td>4.0</td>\n",
       "    </tr>\n",
       "    <tr>\n",
       "      <th>Bulgaria</th>\n",
       "      <td>NaN</td>\n",
       "      <td>1.0</td>\n",
       "    </tr>\n",
       "    <tr>\n",
       "      <th>Chile</th>\n",
       "      <td>NaN</td>\n",
       "      <td>1.0</td>\n",
       "    </tr>\n",
       "    <tr>\n",
       "      <th>Croatia</th>\n",
       "      <td>NaN</td>\n",
       "      <td>1.0</td>\n",
       "    </tr>\n",
       "    <tr>\n",
       "      <th>Czechoslovakia</th>\n",
       "      <td>2.0</td>\n",
       "      <td>NaN</td>\n",
       "    </tr>\n",
       "    <tr>\n",
       "      <th>England</th>\n",
       "      <td>1.0</td>\n",
       "      <td>1.0</td>\n",
       "    </tr>\n",
       "    <tr>\n",
       "      <th>France</th>\n",
       "      <td>2.0</td>\n",
       "      <td>3.0</td>\n",
       "    </tr>\n",
       "    <tr>\n",
       "      <th>Germany</th>\n",
       "      <td>2.0</td>\n",
       "      <td>3.0</td>\n",
       "    </tr>\n",
       "    <tr>\n",
       "      <th>Germany FR</th>\n",
       "      <td>6.0</td>\n",
       "      <td>2.0</td>\n",
       "    </tr>\n",
       "    <tr>\n",
       "      <th>Hungary</th>\n",
       "      <td>2.0</td>\n",
       "      <td>NaN</td>\n",
       "    </tr>\n",
       "    <tr>\n",
       "      <th>Italy</th>\n",
       "      <td>6.0</td>\n",
       "      <td>2.0</td>\n",
       "    </tr>\n",
       "    <tr>\n",
       "      <th>Korea Republic</th>\n",
       "      <td>NaN</td>\n",
       "      <td>1.0</td>\n",
       "    </tr>\n",
       "    <tr>\n",
       "      <th>Netherlands</th>\n",
       "      <td>3.0</td>\n",
       "      <td>2.0</td>\n",
       "    </tr>\n",
       "    <tr>\n",
       "      <th>Poland</th>\n",
       "      <td>NaN</td>\n",
       "      <td>2.0</td>\n",
       "    </tr>\n",
       "    <tr>\n",
       "      <th>Portugal</th>\n",
       "      <td>NaN</td>\n",
       "      <td>2.0</td>\n",
       "    </tr>\n",
       "    <tr>\n",
       "      <th>Soviet Union</th>\n",
       "      <td>NaN</td>\n",
       "      <td>1.0</td>\n",
       "    </tr>\n",
       "    <tr>\n",
       "      <th>Spain</th>\n",
       "      <td>1.0</td>\n",
       "      <td>1.0</td>\n",
       "    </tr>\n",
       "    <tr>\n",
       "      <th>Sweden</th>\n",
       "      <td>1.0</td>\n",
       "      <td>3.0</td>\n",
       "    </tr>\n",
       "    <tr>\n",
       "      <th>Turkey</th>\n",
       "      <td>NaN</td>\n",
       "      <td>1.0</td>\n",
       "    </tr>\n",
       "    <tr>\n",
       "      <th>USA</th>\n",
       "      <td>NaN</td>\n",
       "      <td>1.0</td>\n",
       "    </tr>\n",
       "    <tr>\n",
       "      <th>Uruguay</th>\n",
       "      <td>2.0</td>\n",
       "      <td>3.0</td>\n",
       "    </tr>\n",
       "    <tr>\n",
       "      <th>Yugoslavia</th>\n",
       "      <td>NaN</td>\n",
       "      <td>2.0</td>\n",
       "    </tr>\n",
       "  </tbody>\n",
       "</table>\n",
       "</div>"
      ],
      "text/plain": [
       "                finais  terceiros\n",
       "Argentina          5.0        NaN\n",
       "Austria            NaN        2.0\n",
       "Belgium            NaN        1.0\n",
       "Brazil             7.0        4.0\n",
       "Bulgaria           NaN        1.0\n",
       "Chile              NaN        1.0\n",
       "Croatia            NaN        1.0\n",
       "Czechoslovakia     2.0        NaN\n",
       "England            1.0        1.0\n",
       "France             2.0        3.0\n",
       "Germany            2.0        3.0\n",
       "Germany FR         6.0        2.0\n",
       "Hungary            2.0        NaN\n",
       "Italy              6.0        2.0\n",
       "Korea Republic     NaN        1.0\n",
       "Netherlands        3.0        2.0\n",
       "Poland             NaN        2.0\n",
       "Portugal           NaN        2.0\n",
       "Soviet Union       NaN        1.0\n",
       "Spain              1.0        1.0\n",
       "Sweden             1.0        3.0\n",
       "Turkey             NaN        1.0\n",
       "USA                NaN        1.0\n",
       "Uruguay            2.0        3.0\n",
       "Yugoslavia         NaN        2.0"
      ]
     },
     "execution_count": 34,
     "metadata": {},
     "output_type": "execute_result"
    }
   ],
   "source": [
    "df_final"
   ]
  },
  {
   "cell_type": "code",
   "execution_count": 44,
   "metadata": {},
   "outputs": [],
   "source": [
    "df_final.to_csv('df_final_lab_modulo3')"
   ]
  },
  {
   "cell_type": "code",
   "execution_count": null,
   "metadata": {},
   "outputs": [],
   "source": []
  }
 ],
 "metadata": {
  "kernelspec": {
   "display_name": "Python 3",
   "language": "python",
   "name": "python3"
  },
  "language_info": {
   "codemirror_mode": {
    "name": "ipython",
    "version": 3
   },
   "file_extension": ".py",
   "mimetype": "text/x-python",
   "name": "python",
   "nbconvert_exporter": "python",
   "pygments_lexer": "ipython3",
   "version": "3.8.2"
  }
 },
 "nbformat": 4,
 "nbformat_minor": 2
}
