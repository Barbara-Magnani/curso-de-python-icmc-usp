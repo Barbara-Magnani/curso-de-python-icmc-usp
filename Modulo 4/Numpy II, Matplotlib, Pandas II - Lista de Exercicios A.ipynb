{
 "cells": [
  {
   "cell_type": "markdown",
   "metadata": {},
   "source": [
    "# <span style=\"color:blue\">Programação Python para Ciência de Dados</span>\n",
    "\n",
    "## <span style=\"color:blue\">Homework: Numpy parte II, Matplotlib, Pandas parte II</span>\n",
    "---\n"
   ]
  },
  {
   "cell_type": "markdown",
   "metadata": {},
   "source": [
    "## <span style=\"color:blue\">Numpy - Parte II e Matplotlib</span>"
   ]
  },
  {
   "cell_type": "markdown",
   "metadata": {},
   "source": [
    "### 1)\n",
    "- Crie um array bi-dimensional  do numpy denominado A com 6 linhas e 3 colunas apenas broadcasting o  array [1 2 3 4 5 6].<br>\n",
    "- Crie arrays <font color='blue'>B</font> e <font color='blue'>C</font> onde <font color='blue'>B</font> é uma copia de A (?) e <font color='blue'>C</font> é uma view de <font color='blue'>A</font>, respectivamente. Use o método `copy()` e  `view()` do numpy junto do comando `id()` para ter certeza que <font color='blue'>B</font> e <font color='blue'>C</font> não se referem a mesma localização de <font color='blue'>A</font>. <br>\n",
    "- Reshape <font color='blue'>C</font> para ter 9 linhas e 2 colunas. Crie uma nova variável <font color='blue'>D</font> copiando as linhas 3,6, e 8 de <font color='blue'>C</font>. "
   ]
  },
  {
   "cell_type": "code",
   "execution_count": 198,
   "metadata": {},
   "outputs": [],
   "source": [
    "# solução \n",
    "\n",
    "import numpy as np\n",
    "import matplotlib.pyplot as plt\n",
    "%matplotlib inline"
   ]
  },
  {
   "cell_type": "code",
   "execution_count": 56,
   "metadata": {},
   "outputs": [
    {
     "name": "stdout",
     "output_type": "stream",
     "text": [
      "[[1. 1. 1.]\n",
      " [2. 2. 2.]\n",
      " [3. 3. 3.]\n",
      " [4. 4. 4.]\n",
      " [5. 5. 5.]\n",
      " [6. 6. 6.]]\n"
     ]
    }
   ],
   "source": [
    "# Crie um array bi-dimensional  do numpy denominado A com 6 linhas e 3 colunas apenas broadcasting o\n",
    "# array [1 2 3 4 5 6]\n",
    "a = np.arange(1,7,1).reshape(6,1)\n",
    "b = np.ones(3).reshape(1,3)\n",
    "A = a*b\n",
    "print(A)"
   ]
  },
  {
   "cell_type": "code",
   "execution_count": 72,
   "metadata": {},
   "outputs": [
    {
     "name": "stdout",
     "output_type": "stream",
     "text": [
      "140704004185584\n",
      "140704004190816\n",
      "140704004190736\n",
      "True\n",
      "True\n"
     ]
    }
   ],
   "source": [
    "# Crie arrays B e C onde B é uma cópia de A e C é uma view de A. Use o método `copy()` e  `view()` do numpy \n",
    "# junto do comando `id()` para ter certeza que B e C não se referem a mesma localização de A.\n",
    "B = A.copy()\n",
    "C = A.view()\n",
    "print(id(A))\n",
    "print(id(B))\n",
    "print(id(C))\n",
    "print(B is not A)\n",
    "print(C is not A)"
   ]
  },
  {
   "cell_type": "code",
   "execution_count": 89,
   "metadata": {},
   "outputs": [
    {
     "name": "stdout",
     "output_type": "stream",
     "text": [
      "[[3. 3.]\n",
      " [5. 5.]\n",
      " [6. 6.]]\n"
     ]
    }
   ],
   "source": [
    "# Reshape C para ter 9 linhas e 2 colunas.\n",
    "C = C.reshape(9,2)\n",
    "\n",
    "# Crie uma nova variável D copiando as linhas 3, 6 e 8 de C. \n",
    "D = C[[3,6,8]]\n",
    "print(D)"
   ]
  },
  {
   "cell_type": "markdown",
   "metadata": {},
   "source": [
    "### 2) \n",
    "Considere uma matriz <font color='blue'>A</font>,  $n\\times n,\\, n\\geq 2$ . Por exemplo, para $n=4$:\n",
    "$$\n",
    "A=\\left(\\begin{array}[cccc]\\\\\n",
    "1 & 3 & 2 & 6 \\\\\n",
    "3 & 5 & 1 & {7} \\\\\n",
    "{0} & 4 & {2} & {6} \\\\\n",
    "6 & 1 & 3 & {1} \n",
    "\\end{array}\\right)\n",
    "$$\n",
    "Crie uma matriz <font color='blue'>B</font>  2$\\times$2 onde a primeira linha corresponde aos elementos mínimos e máximos to triângulo superior (elementos acima da diagonal) de <font color='blue'>A</font>, e a segunda linha corresponde aos elementos mínimos e máximos do triângulo inferior (elementos abaixo da diagonal) de <font color='blue'>A</font>. \n",
    "\n",
    "A diagonal principal deve ser considerara como pertencente tanto ao triângulo superior como inferior de <font color='blue'>A</font>. Por exemplo, dado <font color='blue'>A</font> como acima a solução seria: \n",
    "$$\n",
    "B=\\left(\\begin{array}[cc]\\\\\n",
    "1 & 7  \\\\\n",
    "0 & 6  \n",
    "\\end{array}\\right)\n",
    "$$\n",
    "A sua solução deve funcionar para qualquer matriz $n\\times n,\\, n\\geq 2$.<br>\n",
    "\n",
    "\n",
    "__Dica__: Use os métodos \"triu_indices\"  e \"tril_indices\" do Numpy, combinados com \"max\" e \"min\"."
   ]
  },
  {
   "cell_type": "code",
   "execution_count": 142,
   "metadata": {},
   "outputs": [
    {
     "name": "stdout",
     "output_type": "stream",
     "text": [
      "Matriz A do exemplo:\n",
      "[[1 3 2 6]\n",
      " [3 5 1 7]\n",
      " [0 4 2 6]\n",
      " [6 1 3 1]]\n",
      "--------------------\n",
      "Matriz B:\n",
      "[[1. 7.]\n",
      " [0. 6.]]\n"
     ]
    }
   ],
   "source": [
    "# solução\n",
    "\n",
    "# Construindo uma matriz A de exemplo\n",
    "#A = np.arange(16).reshape(4,4)\n",
    "A = np.array([1,3,2,6,3,5,1,7,0,4,2,6,6,1,3,1]).reshape(4,4)\n",
    "\n",
    "print('Matriz A do exemplo:')\n",
    "print(A)\n",
    "print(20*'-')\n",
    "\n",
    "# Construindo uma matriz B de resultado\n",
    "B = np.zeros(4).reshape(2,2)\n",
    "\n",
    "# Índices acima da diagonal\n",
    "i_upper = np.triu_indices(A.shape[0])\n",
    "# Máximo dentre os elementos acima da diagonal\n",
    "A[i_upper].max()\n",
    "# Mínimo dentre os elementos acima da diagonal\n",
    "A[i_upper].min()\n",
    "\n",
    "# Alterando a primeira linha de B\n",
    "B[0] = [A[i_upper].min(), A[i_upper].max()]\n",
    "\n",
    "# Índices abaixo da diagonal\n",
    "i_lower = np.tril_indices(A.shape[0])\n",
    "# Máximo dentre os elementos acima da diagonal\n",
    "A[i_lower].max()\n",
    "# Mínimo dentre os elementos acima da diagonal\n",
    "A[i_lower].min()\n",
    "\n",
    "# Alterando a segunda linha de B\n",
    "B[1] = [A[i_lower].min(), A[i_lower].max()]\n",
    "\n",
    "print('Matriz B:')\n",
    "print(B)\n",
    "\n"
   ]
  },
  {
   "cell_type": "markdown",
   "metadata": {
    "collapsed": true
   },
   "source": [
    "### 3)   Regressão Linear\n",
    "Dado um conjunto de pontos $(x_0,y_0),(x_1,y_1),\\ldots,(x_n,y_n)$, podemos encaixar uma reta $y=\\alpha_0+\\alpha_1 x$ a esses pontos ao resolver o sistema linear na forma:\n",
    "\n",
    "$$\n",
    "A^\\top A\\alpha = A^\\top b\n",
    "$$\n",
    "\n",
    "onde $A^\\top$ é o transposto de A sendo:\n",
    "\n",
    "$$\n",
    "A=\\left(\\begin{array}{cc}\n",
    "1 & x_0 \\\\\n",
    "1 & x_1 \\\\\n",
    "\\vdots & \\vdots \\\\\n",
    "1 & x_n \n",
    "\\end{array}\\right),\n",
    "\\qquad\n",
    "\\alpha = \\left(\\begin{array}{c}\n",
    "\\alpha_0 \\\\\n",
    "\\alpha_1 \n",
    "\\end{array}\\right),\n",
    "\\qquad\n",
    "b = \\left(\\begin{array}{c}\n",
    "y_0 \\\\\n",
    "y_1 \\\\\n",
    "\\vdots \\\\\n",
    "y_n\n",
    "\\end{array}\\right)\n",
    "$$\n",
    "\n",
    "Suponha que os pontos $(x_i,y_i)$ são gerados pelo código:\n",
    "\n",
    "```python\n",
    "x = np.random.uniform(0,1,100)\n",
    "y = 1.0-x+np.random.uniform(-0.3,0.3,100)\n",
    "```\n",
    "\n",
    "1.  Construa a matriz $A$\n",
    "2.  Resolva o sistema linear $A^\\top A\\alpha = A^\\top b$ utilizando  \"numpy.linalg.solve\" e imprima o resultado $\\alpha_0$ e $\\alpha_1$.\n"
   ]
  },
  {
   "cell_type": "code",
   "execution_count": 197,
   "metadata": {},
   "outputs": [
    {
     "name": "stdout",
     "output_type": "stream",
     "text": [
      "Resultado:\n",
      "[ 1.04052793 -1.06980217]\n"
     ]
    }
   ],
   "source": [
    "# solução\n",
    "\n",
    "x = np.random.uniform(0,1,100)\n",
    "y = 1.0-x + np.random.uniform(-0.3,0.3,100)\n",
    "\n",
    "# Construa a matriz A\n",
    "A = np.ones(2*len(x)).reshape(len(x),2)\n",
    "A[:,1] = x\n",
    "\n",
    "\n",
    "# Resolva o sistema linear\n",
    "resultado = np.linalg.solve(np.dot(A.T, A), np.dot(A.T,y))\n",
    "reta = resultado[0]+resultado[1]*x\n",
    "\n",
    "print('Resultado:')\n",
    "print(resultado)"
   ]
  },
  {
   "cell_type": "markdown",
   "metadata": {},
   "source": [
    "###  4)  \n",
    "Utilizando o resultado da pergunta 3, plote os pontos (x_i,y_i)$ e a linha encontrada. O seu código deveria produzir uma figura parecida com a apresentada abaixo: \n",
    "\n",
    "![IMAGEM](linefit.png)\n",
    "\n",
    "__PS.__ A imagem _linefit.png_ deve estar no mesmo diretório desse notebook."
   ]
  },
  {
   "cell_type": "code",
   "execution_count": 210,
   "metadata": {},
   "outputs": [
    {
     "data": {
      "image/png": "[encoded data removed]",
      "text/plain": [
       "<Figure size 432x288 with 1 Axes>"
      ]
     },
     "metadata": {
      "needs_background": "light"
     },
     "output_type": "display_data"
    }
   ],
   "source": [
    "# Solução\n",
    "\n",
    "plt.plot(x,y,'b*');\n",
    "plt.plot(x,reta,'tab:orange');\n",
    "plt.xlabel('x');\n",
    "plt.ylabel('y');"
   ]
  },
  {
   "cell_type": "markdown",
   "metadata": {},
   "source": [
    "### 5)  \n",
    "Melhore o plot gerado na pergunta 4 incorporando uma legenda e uma anotação na  linha encontrada, como na figura abaixo:\n",
    "\n",
    "![IMAGEM](annotation.png)"
   ]
  },
  {
   "cell_type": "code",
   "execution_count": 216,
   "metadata": {},
   "outputs": [
    {
     "data": {
      "image/png": "[encoded data removed]",
      "text/plain": [
       "<Figure size 432x288 with 1 Axes>"
      ]
     },
     "metadata": {
      "needs_background": "light"
     },
     "output_type": "display_data"
    }
   ],
   "source": [
    "# Solução\n",
    "\n",
    "plt.plot(x,y,'b*',label = 'points');\n",
    "plt.plot(x,reta,'tab:orange',label = 'fitted line');\n",
    "plt.xlabel('x');\n",
    "plt.ylabel('y');\n",
    "plt.legend();\n",
    "plt.annotate('fitted line', xy=(0.5, 0.5), xytext=(0.2,0.2),\n",
    "             arrowprops=dict(facecolor='k'));"
   ]
  },
  {
   "cell_type": "markdown",
   "metadata": {},
   "source": [
    "## <span style=\"color:blue\">Pandas - Parte II</span>\n",
    "---"
   ]
  },
  {
   "cell_type": "markdown",
   "metadata": {},
   "source": [
    "Os exercícios abaixo fazem uso dos arquivos: \n",
    "\n",
    "- countries_info.csv\n",
    "- gdp_per_capita_ppp.csv"
   ]
  },
  {
   "cell_type": "markdown",
   "metadata": {},
   "source": [
    "###  1)  \n",
    "Leia o arquivo \"gdp\\_per\\_capita\\_ppp.csv\" como um DataFrame com as linhas indexadas por ano e as colunas pelo nome dos países. Imprima os primeiros 10 anos (linhas) e os primeiros 5 países (colunas).<br>\n",
    "__Dica:__ Use os operadores _transpose_ e _iloc_."
   ]
  },
  {
   "cell_type": "code",
   "execution_count": 217,
   "metadata": {},
   "outputs": [],
   "source": [
    "import pandas as pd\n",
    "import numpy as np"
   ]
  },
  {
   "cell_type": "code",
   "execution_count": 266,
   "metadata": {},
   "outputs": [
    {
     "data": {
      "text/html": [
       "<div>\n",
       "<style scoped>\n",
       "    .dataframe tbody tr th:only-of-type {\n",
       "        vertical-align: middle;\n",
       "    }\n",
       "\n",
       "    .dataframe tbody tr th {\n",
       "        vertical-align: top;\n",
       "    }\n",
       "\n",
       "    .dataframe thead th {\n",
       "        text-align: right;\n",
       "    }\n",
       "</style>\n",
       "<table border=\"1\" class=\"dataframe\">\n",
       "  <thead>\n",
       "    <tr style=\"text-align: right;\">\n",
       "      <th>GDP per capita</th>\n",
       "      <th>Abkhazia</th>\n",
       "      <th>Afghanistan</th>\n",
       "      <th>Akrotiri and Dhekelia</th>\n",
       "      <th>Albania</th>\n",
       "      <th>Algeria</th>\n",
       "    </tr>\n",
       "  </thead>\n",
       "  <tbody>\n",
       "    <tr>\n",
       "      <th>1800</th>\n",
       "      <td>NaN</td>\n",
       "      <td>472.0535</td>\n",
       "      <td>NaN</td>\n",
       "      <td>601.215222</td>\n",
       "      <td>766.253664</td>\n",
       "    </tr>\n",
       "    <tr>\n",
       "      <th>1801</th>\n",
       "      <td>NaN</td>\n",
       "      <td>NaN</td>\n",
       "      <td>NaN</td>\n",
       "      <td>NaN</td>\n",
       "      <td>NaN</td>\n",
       "    </tr>\n",
       "    <tr>\n",
       "      <th>1802</th>\n",
       "      <td>NaN</td>\n",
       "      <td>NaN</td>\n",
       "      <td>NaN</td>\n",
       "      <td>NaN</td>\n",
       "      <td>NaN</td>\n",
       "    </tr>\n",
       "    <tr>\n",
       "      <th>1803</th>\n",
       "      <td>NaN</td>\n",
       "      <td>NaN</td>\n",
       "      <td>NaN</td>\n",
       "      <td>NaN</td>\n",
       "      <td>NaN</td>\n",
       "    </tr>\n",
       "    <tr>\n",
       "      <th>1804</th>\n",
       "      <td>NaN</td>\n",
       "      <td>NaN</td>\n",
       "      <td>NaN</td>\n",
       "      <td>NaN</td>\n",
       "      <td>NaN</td>\n",
       "    </tr>\n",
       "    <tr>\n",
       "      <th>1805</th>\n",
       "      <td>NaN</td>\n",
       "      <td>NaN</td>\n",
       "      <td>NaN</td>\n",
       "      <td>NaN</td>\n",
       "      <td>NaN</td>\n",
       "    </tr>\n",
       "    <tr>\n",
       "      <th>1806</th>\n",
       "      <td>NaN</td>\n",
       "      <td>NaN</td>\n",
       "      <td>NaN</td>\n",
       "      <td>NaN</td>\n",
       "      <td>NaN</td>\n",
       "    </tr>\n",
       "    <tr>\n",
       "      <th>1807</th>\n",
       "      <td>NaN</td>\n",
       "      <td>NaN</td>\n",
       "      <td>NaN</td>\n",
       "      <td>NaN</td>\n",
       "      <td>NaN</td>\n",
       "    </tr>\n",
       "    <tr>\n",
       "      <th>1808</th>\n",
       "      <td>NaN</td>\n",
       "      <td>NaN</td>\n",
       "      <td>NaN</td>\n",
       "      <td>NaN</td>\n",
       "      <td>NaN</td>\n",
       "    </tr>\n",
       "    <tr>\n",
       "      <th>1809</th>\n",
       "      <td>NaN</td>\n",
       "      <td>NaN</td>\n",
       "      <td>NaN</td>\n",
       "      <td>NaN</td>\n",
       "      <td>NaN</td>\n",
       "    </tr>\n",
       "  </tbody>\n",
       "</table>\n",
       "</div>"
      ],
      "text/plain": [
       "GDP per capita  Abkhazia  Afghanistan  Akrotiri and Dhekelia     Albania  \\\n",
       "1800                 NaN     472.0535                    NaN  601.215222   \n",
       "1801                 NaN          NaN                    NaN         NaN   \n",
       "1802                 NaN          NaN                    NaN         NaN   \n",
       "1803                 NaN          NaN                    NaN         NaN   \n",
       "1804                 NaN          NaN                    NaN         NaN   \n",
       "1805                 NaN          NaN                    NaN         NaN   \n",
       "1806                 NaN          NaN                    NaN         NaN   \n",
       "1807                 NaN          NaN                    NaN         NaN   \n",
       "1808                 NaN          NaN                    NaN         NaN   \n",
       "1809                 NaN          NaN                    NaN         NaN   \n",
       "\n",
       "GDP per capita     Algeria  \n",
       "1800            766.253664  \n",
       "1801                   NaN  \n",
       "1802                   NaN  \n",
       "1803                   NaN  \n",
       "1804                   NaN  \n",
       "1805                   NaN  \n",
       "1806                   NaN  \n",
       "1807                   NaN  \n",
       "1808                   NaN  \n",
       "1809                   NaN  "
      ]
     },
     "execution_count": 266,
     "metadata": {},
     "output_type": "execute_result"
    }
   ],
   "source": [
    "# solução\n",
    "data = pd.read_csv('gdp_per_capita_ppp.csv', index_col = 0)\n",
    "df = data.T\n",
    "df.iloc[0:10,0:5]"
   ]
  },
  {
   "cell_type": "markdown",
   "metadata": {},
   "source": [
    "###  2)  \n",
    "Ainda considerando \"gdp_per_capita_ppp.csv\", plote a curva \"year\" $\\times$ \"GDP\" para os três países com o maior GDP ao longo dos anos. "
   ]
  },
  {
   "cell_type": "code",
   "execution_count": 371,
   "metadata": {},
   "outputs": [
    {
     "data": {
      "image/png": "[encoded data removed]",
      "text/plain": [
       "<Figure size 432x288 with 1 Axes>"
      ]
     },
     "metadata": {
      "needs_background": "light"
     },
     "output_type": "display_data"
    }
   ],
   "source": [
    "# solução\n",
    "# Lista com os valores máximos de GDP de cada país\n",
    "df.max()\n",
    "# Ordenando a lista do maior para o menor GDP\n",
    "df.max().sort_values(ascending = False)\n",
    "# Buscando os três primeiros países da lista\n",
    "lista_paises = df.max().sort_values(ascending = False)[0:3].index.values\n",
    "\n",
    "# Gráfico\n",
    "x = df.index.values.astype(int)\n",
    "for i in range(3):\n",
    "    y = df[lista_paises[i]].values\n",
    "    plt.plot(x, y, label = lista_paises[i])\n",
    "    \n",
    "   \n",
    "plt.xlim([1945,2020])\n",
    "plt.ylim([0,130000])\n",
    "plt.legend()\n",
    "plt.tight_layout()"
   ]
  },
  {
   "cell_type": "markdown",
   "metadata": {},
   "source": [
    "### 3)  \n",
    "Ainda considerando \"gdp_per_capita_ppp.csv\", imprima o nome de todos os países (se algum) que contêm um valor faltando para o seu GDP (isto é, um NaN). Plote o GDP desses países."
   ]
  },
  {
   "cell_type": "code",
   "execution_count": 413,
   "metadata": {},
   "outputs": [
    {
     "data": {
      "text/plain": [
       "0"
      ]
     },
     "execution_count": 413,
     "metadata": {},
     "output_type": "execute_result"
    }
   ],
   "source": [
    "# solução\n",
    "# Imprimindo todos os países que contêm um valor faltando para o seu GDP\n",
    "lista_paises2 = df.isna( )== True\n",
    "lista = lista_paises2.sum() == 1\n",
    "lista.sum()\n",
    "# A lista não contem um país com apenas um valor faltante para o GDP"
   ]
  },
  {
   "cell_type": "code",
   "execution_count": 391,
   "metadata": {},
   "outputs": [
    {
     "data": {
      "image/png": "[encoded data removed]",
      "text/plain": [
       "<Figure size 432x288 with 1 Axes>"
      ]
     },
     "metadata": {
      "needs_background": "light"
     },
     "output_type": "display_data"
    }
   ],
   "source": [
    "# Gráfico do GDP desses países\n",
    "x = df.index.values.astype(int)\n",
    "for i in range(len(lista_paises2)):\n",
    "    y = df[lista_paises2[i]].values\n",
    "    plt.plot(x, y, label = lista_paises2[i])\n",
    "    \n",
    "   \n",
    "#plt.xlim([1945,2020])\n",
    "#plt.ylim([0,130000])\n",
    "#plt.legend()\n",
    "#plt.tight_layout()"
   ]
  },
  {
   "cell_type": "markdown",
   "metadata": {},
   "source": [
    "###  4)  \n",
    "Crie um DataFrame com apenas 1 coluna e indexado por nome dos países, representando o GDP médio de cada país. Considere um valor faltante como sendo 0 na hora de calcular a média."
   ]
  },
  {
   "cell_type": "code",
   "execution_count": 40,
   "metadata": {},
   "outputs": [],
   "source": [
    "# solução "
   ]
  },
  {
   "cell_type": "markdown",
   "metadata": {},
   "source": [
    "### 4)  \n",
    "Leia o arquivo \"countries.csv\" contendo \"Life expectancy\", \"Population\" e \"Average GDP\" para cada país. Ordene o DataFrame em ordem decrescente considerando a coluna \"Average GDP\" e faça um _scatter plot_ de \"Population\" $\\times$ \"Life expectancy\" para os 100 primeiro países. Aplique a função logaritmíca à coluna \"Population\" antes de gerar o plot. Normalize a coluna \"Average GDP\" e pondere o tamanho dos pontos de acordo com o \"Average GDP\" normalizado (isto é, o tamanho do ponto deve ser proporcional ao GDB). Seu plot deve ser parecido com o apresentado abaixo:\n",
    "![IMAGEM](dfscatter.png)"
   ]
  },
  {
   "cell_type": "code",
   "execution_count": 54,
   "metadata": {},
   "outputs": [],
   "source": [
    "# solução"
   ]
  }
 ],
 "metadata": {
  "kernelspec": {
   "display_name": "Python 3",
   "language": "python",
   "name": "python3"
  },
  "language_info": {
   "codemirror_mode": {
    "name": "ipython",
    "version": 3
   },
   "file_extension": ".py",
   "mimetype": "text/x-python",
   "name": "python",
   "nbconvert_exporter": "python",
   "pygments_lexer": "ipython3",
   "version": "3.7.3"
  },
  "toc": {
   "base_numbering": 1,
   "nav_menu": {},
   "number_sections": true,
   "sideBar": true,
   "skip_h1_title": false,
   "title_cell": "Table of Contents",
   "title_sidebar": "Contents",
   "toc_cell": false,
   "toc_position": {},
   "toc_section_display": true,
   "toc_window_display": false
  }
 },
 "nbformat": 4,
 "nbformat_minor": 2
}
