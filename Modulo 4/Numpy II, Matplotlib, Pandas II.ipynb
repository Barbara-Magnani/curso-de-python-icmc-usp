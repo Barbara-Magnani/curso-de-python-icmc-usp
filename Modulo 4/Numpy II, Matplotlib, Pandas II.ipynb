{
 "cells": [
  {
   "cell_type": "markdown",
   "metadata": {},
   "source": [
    "# <span style=\"color:blue\">Programação Python para Ciência de Dados</span>\n",
    "## <span style=\"color:blue\">Aula 4: Numpy parte II, Matplotlib, Pandas parte II</span>\n",
    "---"
   ]
  },
  {
   "cell_type": "markdown",
   "metadata": {},
   "source": [
    "## Numpy e Matplotlib:\n",
    "### Numpy - Parte II\n",
    "- *\"Broadcasting\"* (extensão) e funções aritmétricas\n",
    "- Comparação\n",
    "- Operações avançadas\n",
    "\n",
    "__References:__<br>\n",
    "[https://www.datacamp.com/community/tutorials/python-numpy-tutorial](https://www.datacamp.com/community/tutorials/python-numpy-tutorial)\n",
    "\n",
    "### Matplotlib\n",
    "- Introdução\n",
    "- Componentes\n",
    "- Texto\n",
    "- Anotações\n",
    "- Legendas\n",
    "- Outros plots\n",
    "\n",
    "__Referencias:__<br>\n",
    "[https://www.datacamp.com/community/tutorials/matplotlib-tutorial-python](https://www.datacamp.com/community/tutorials/matplotlib-tutorial-python)<br>\n",
    "[http://matplotlib.org/Matplotlib.pdf](http://matplotlib.org/Matplotlib.pdf)\n",
    "\n",
    "### Pandas - Parte II\n",
    "- Caregando arquivos\n",
    "- Dados faltantes\n",
    "- Processamento\n",
    "- Agrupar e remodelar\n",
    "- Estatísticas\n",
    "- Dados categóricos\n",
    "- Criação de gráficos\n",
    "- Aplicar funções\n",
    "\n",
    "__Referências__ <br>\n",
    "- [Pandas: powerful Python data analysis toolkit: Wes McKinney & PyData Devel. Team](https://pandas.pydata.org/pandas-docs/stable/pandas.pdf)\n",
    "- [http://pandas.pydata.org/pandas-docs/stable/index.html](http://pandas.pydata.org/pandas-docs/stable/index.html)"
   ]
  },
  {
   "cell_type": "markdown",
   "metadata": {},
   "source": [
    "---\n",
    "## Numpy - Parte II"
   ]
  },
  {
   "cell_type": "markdown",
   "metadata": {},
   "source": [
    "### *\"Broadcasting\"*\n",
    "- Operações básica em arrays (soma, multiplicação, etc) são feitas elemento por elemento (*\"element-wise\"*)\n",
    "- Essas operações funcionam em arrays com mesma dimensão\n",
    "- __Broadcasting__ é um mecanismo para realizar operações em arrays com dimensões diferentes\n",
    "  - Ele transforma os arrays de modo que todos tenham a mesma dimensão"
   ]
  },
  {
   "cell_type": "markdown",
   "metadata": {},
   "source": [
    "#### Broadcasting por um escalar\n",
    "Utilizado em operações que envolvam um array e um escalar."
   ]
  },
  {
   "cell_type": "code",
   "execution_count": 1,
   "metadata": {},
   "outputs": [
    {
     "name": "stdout",
     "output_type": "stream",
     "text": [
      "[[ 0  1  2  3  4]\n",
      " [ 5  6  7  8  9]\n",
      " [10 11 12 13 14]\n",
      " [15 16 17 18 19]\n",
      " [20 21 22 23 24]]\n",
      "[[ 5  6  7  8  9]\n",
      " [10 11 12 13 14]\n",
      " [15 16 17 18 19]\n",
      " [20 21 22 23 24]\n",
      " [25 26 27 28 29]]\n"
     ]
    }
   ],
   "source": [
    "import numpy as np\n",
    "\n",
    "# Cria uma matriz 5x5 com números aleatórios\n",
    "A = np.arange(25).reshape(5,5)\n",
    "\n",
    "# define um escalar\n",
    "s = 5\n",
    "\n",
    "# O opeador \"+\" é aplicado elemento por elemento (caso contrário não seria definido)\n",
    "B = s + A\n",
    "\n",
    "print(A)\n",
    "print(B)"
   ]
  },
  {
   "cell_type": "markdown",
   "metadata": {},
   "source": [
    "Quando somamos um escalar a um array, o numpy primeiro replica o escalar em um array com o mesma dimensão do array envolvido na operação - no examplo acima, 5x5\n",
    "\n",
    "$$\n",
    "B = s + A = \\left[\\begin{array}{ccccc}\n",
    "5 & 5 & 5 & 5 & 5\\\\\n",
    "5 & 5 & 5 & 5 & 5\\\\\n",
    "5 & 5 & 5 & 5 & 5\\\\\n",
    "5 & 5 & 5 & 5 & 5\\\\\n",
    "5 & 5 & 5 & 5 & 5\n",
    "\\end{array}\\right] + \n",
    "\\left[\\begin{array}{ccccc} \n",
    "0  & 1 & 2 & 3 & 4 \\\\\n",
    "5  & 6 & 7 & 8 & 9\\\\\n",
    "10 & 11 & 12 & 13 & 14\\\\\n",
    "15 & 16 & 17 & 18 & 19\\\\\n",
    "20 & 21 & 22 & 23 & 24\n",
    "\\end{array}\\right]\n",
    "$$"
   ]
  },
  {
   "cell_type": "markdown",
   "metadata": {},
   "source": [
    "#### Broadcasting em arrays\n",
    "    Broadcasting tambem é aplicado quando operações são aplicadas em pares de arrays, porém algumas restrições devem ser respeitadas:\n",
    "- Os dois arryas devem possuir dimensões compatíveis:\n",
    "  - As dimensões devem ser compatíveis em algum(s) dos eixos, sendo os demais com dimensão 1\n",
    "- O broadcasting é então aplicado nos eixos com dimensão 1"
   ]
  },
  {
   "cell_type": "code",
   "execution_count": 17,
   "metadata": {},
   "outputs": [
    {
     "name": "stdout",
     "output_type": "stream",
     "text": [
      "(5, 5)\n",
      "(5,)\n",
      "[0 1 2 3 4] \n",
      "\n",
      "[[ 0  1  2  3  4]\n",
      " [ 5  6  7  8  9]\n",
      " [10 11 12 13 14]\n",
      " [15 16 17 18 19]\n",
      " [20 21 22 23 24]] \n",
      "\n",
      "[[ 0  1  4  9 16]\n",
      " [ 0  6 14 24 36]\n",
      " [ 0 11 24 39 56]\n",
      " [ 0 16 34 54 76]\n",
      " [ 0 21 44 69 96]]\n"
     ]
    }
   ],
   "source": [
    "A = np.arange(25).reshape(5,5)\n",
    "print(A.shape)\n",
    "\n",
    "v = np.arange(5)\n",
    "print(v.shape)\n",
    "\n",
    "# A operação de \"*\" é feita elemento por elemento, broadcasting o array \"v\" \n",
    "# A segunda dimensão não é especificada então \"v\" é considerado um array com uma dimensão\n",
    "B = v * A\n",
    "\n",
    "print(v,'\\n')\n",
    "print(A,'\\n')\n",
    "print(B)"
   ]
  },
  {
   "cell_type": "markdown",
   "metadata": {},
   "source": [
    "$$\n",
    "B = v * A \n",
    "$$\n",
    "\n",
    "$$\n",
    "\\downarrow\n",
    "$$\n",
    "\n",
    "$$\n",
    "\\left[\\begin{array}{ccccc}\n",
    "0  & 1 & 2 & 3 & 4\n",
    "\\end{array}\\right] * \n",
    "\\left[\\begin{array}{ccccc} \n",
    "0  & 1 & 2 & 3 & 4 \\\\\n",
    "5  & 6 & 7 & 8 & 9\\\\\n",
    "10 & 11 & 12 & 13 & 14\\\\\n",
    "15 & 16 & 17 & 18 & 19\\\\\n",
    "20 & 21 & 22 & 23 & 24\n",
    "\\end{array}\\right] \n",
    "$$\n",
    "\n",
    "$$\n",
    "\\downarrow\n",
    "$$\n",
    "\n",
    "$$\n",
    "\\left[\\begin{array}{ccccc}\n",
    "0  & 1 & 2 & 3 & 4\\\\\n",
    "0  & 1 & 2 & 3 & 4\\\\\n",
    "0  & 1 & 2 & 3 & 4\\\\\n",
    "0  & 1 & 2 & 3 & 4\\\\\n",
    "0  & 1 & 2 & 3 & 4\n",
    "\\end{array}\\right] * \n",
    "\\left[\\begin{array}{ccccc} \n",
    "0  & 1 & 2 & 3 & 4 \\\\\n",
    "5  & 6 & 7 & 8 & 9\\\\\n",
    "10 & 11 & 12 & 13 & 14\\\\\n",
    "15 & 16 & 17 & 18 & 19\\\\\n",
    "20 & 21 & 22 & 23 & 24\n",
    "\\end{array}\\right]\n",
    "$$"
   ]
  },
  {
   "cell_type": "markdown",
   "metadata": {},
   "source": [
    "__Cuidado__: A operação `*` corresponde a uma multiplicação elemento por elemento, e não uma multiplicação matricial."
   ]
  },
  {
   "cell_type": "code",
   "execution_count": 18,
   "metadata": {},
   "outputs": [
    {
     "name": "stdout",
     "output_type": "stream",
     "text": [
      "(5, 5)\n",
      "(5, 1)\n",
      "[[0]\n",
      " [1]\n",
      " [2]\n",
      " [3]\n",
      " [4]] \n",
      "\n",
      "[[ 0  1  2  3  4]\n",
      " [ 5  6  7  8  9]\n",
      " [10 11 12 13 14]\n",
      " [15 16 17 18 19]\n",
      " [20 21 22 23 24]] \n",
      "\n",
      "[[ 0  0  0  0  0]\n",
      " [ 5  6  7  8  9]\n",
      " [20 22 24 26 28]\n",
      " [45 48 51 54 57]\n",
      " [80 84 88 92 96]]\n"
     ]
    }
   ],
   "source": [
    "A = np.arange(25).reshape(5,5)\n",
    "print(A.shape)\n",
    "\n",
    "v = np.arange(5).reshape(5,1)\n",
    "print(v.shape)\n",
    "\n",
    "# A operação \"*\" é feita elemento por elemento, broadcasting v primeiro\n",
    "# Agora \"v\" é um vetor coluna\n",
    "B =  v * A\n",
    "\n",
    "print(v,'\\n')\n",
    "print(A,'\\n')\n",
    "print(B)"
   ]
  },
  {
   "cell_type": "markdown",
   "metadata": {},
   "source": [
    "Broadcasting também é feito automaticamente quando os dois operandos são arrays unidimensionais"
   ]
  },
  {
   "cell_type": "code",
   "execution_count": 2,
   "metadata": {},
   "outputs": [
    {
     "name": "stdout",
     "output_type": "stream",
     "text": [
      "(5,)\n",
      "(3, 1)\n",
      "[0 1 2 3 4] \n",
      "\n",
      "[[0]\n",
      " [1]\n",
      " [2]] \n",
      "\n",
      "[[0 1 2 3 4]\n",
      " [1 2 3 4 5]\n",
      " [2 3 4 5 6]]\n"
     ]
    }
   ],
   "source": [
    "v = np.arange(5) # segunda dimensão não especificada\n",
    "print(v.shape)\n",
    "\n",
    "w = np.arange(3).reshape(3,1)\n",
    "print(w.shape)\n",
    "\n",
    "# A operação \"+\" é feita elemento por elemento, broadcasting \"v\" e \"w\" simultaneamente\n",
    "# Neste caso \"W\" é um vetor coluna e \"v\" é tratado como vetor linha\n",
    "Z =  v + w\n",
    "\n",
    "print(v,'\\n')\n",
    "print(w,'\\n')\n",
    "print(Z)"
   ]
  },
  {
   "cell_type": "markdown",
   "metadata": {},
   "source": [
    "$$\n",
    "Z = v + w\n",
    "$$\n",
    "\n",
    "$$\n",
    "\\downarrow\n",
    "$$\n",
    "\n",
    "$$\n",
    "\\left[\\begin{array}{ccccc}\n",
    "0  & 1 & 2 & 3 & 4\n",
    "\\end{array}\\right] + \n",
    "\\left[\\begin{array}{c} \n",
    "0  \\\\\n",
    "1 \\\\\n",
    "2\n",
    "\\end{array}\\right] \n",
    "$$\n",
    "\n",
    "$$\n",
    "\\downarrow\n",
    "$$\n",
    "\n",
    "$$\n",
    "\\left[\\begin{array}{ccccc}\n",
    "0  & 1 & 2 & 3 & 4\\\\\n",
    "0  & 1 & 2 & 3 & 4\\\\\n",
    "0  & 1 & 2 & 3 & 4\n",
    "\\end{array}\\right] + \n",
    "\\left[\\begin{array}{ccccc} \n",
    "0 & 0 & 0 & 0 & 0 \\\\\n",
    "1 & 1 & 1 & 1 & 1\\\\\n",
    "2 & 2 & 2 & 2 & 2\n",
    "\\end{array}\\right]\n",
    "$$"
   ]
  },
  {
   "cell_type": "markdown",
   "metadata": {},
   "source": [
    "Broadcasting também é usado em atribuiçoes"
   ]
  },
  {
   "cell_type": "code",
   "execution_count": 4,
   "metadata": {},
   "outputs": [
    {
     "name": "stdout",
     "output_type": "stream",
     "text": [
      "[0 1 2 3 4]\n",
      "[[0. 0. 0.]\n",
      " [1. 1. 1.]\n",
      " [2. 2. 2.]\n",
      " [3. 3. 3.]\n",
      " [4. 4. 4.]]\n",
      "[[-1. -2. -3.]\n",
      " [-1. -2. -3.]\n",
      " [-1. -2. -3.]\n",
      " [ 3.  3.  3.]\n",
      " [ 4.  4.  4.]]\n"
     ]
    }
   ],
   "source": [
    "A = np.zeros((5,3)) # matriz de zeros 5x3\n",
    "v = np.arange(5) # array de dimensão 5\n",
    "print(v)\n",
    "\n",
    "# o atributo np.newaxis transforma v em um vetor coluna\n",
    "A[:] = v[:,np.newaxis] # forçar compatibilização das dimensões das matrizes\n",
    "                       # np.newaxis no eixo onde eu quero repetir o array elementos\n",
    "print(A)\n",
    "\n",
    "#A[:3] = [[-1],[-2],[-3]] # por linha\n",
    "A[:3] = [-1,-2,-3] # por coluna\n",
    "print(A)"
   ]
  },
  {
   "cell_type": "markdown",
   "metadata": {},
   "source": [
    "### Comparações\n",
    "Comparações usando `==`, `>`,`<`,`>=`,`<=`, e `!=` também são feitas elemento por elemento."
   ]
  },
  {
   "cell_type": "code",
   "execution_count": 5,
   "metadata": {},
   "outputs": [
    {
     "name": "stdout",
     "output_type": "stream",
     "text": [
      "[[0 1]\n",
      " [2 3]] \n",
      "\n",
      "[[6 5]\n",
      " [4 3]] \n",
      "\n",
      "[[ True  True]\n",
      " [ True False]]\n"
     ]
    }
   ],
   "source": [
    "A = np.arange(4).reshape(2,2)\n",
    "B = np.arange(6,2,-1).reshape(2,2)\n",
    "\n",
    "M = B > A\n",
    "\n",
    "print(A,'\\n')\n",
    "print(B,'\\n')\n",
    "print(M)"
   ]
  },
  {
   "cell_type": "markdown",
   "metadata": {},
   "source": [
    "Comparações com um array devem ser feitas utilizando o método `array_equal` do numpy."
   ]
  },
  {
   "cell_type": "code",
   "execution_count": 7,
   "metadata": {},
   "outputs": [
    {
     "name": "stdout",
     "output_type": "stream",
     "text": [
      "False\n",
      "True\n"
     ]
    }
   ],
   "source": [
    "A = np.arange(4).reshape(2,2)\n",
    "B = np.arange(6,2,-1).reshape(2,2)\n",
    "C = A[:] # utilizar \"[:]\" para fazer uma cópia. Escrever \"C = A\" faz somente uma referência \n",
    "\n",
    "# A resposta é apenas um valor booleano\n",
    "print(np.array_equal(A,B))\n",
    "print(np.array_equal(A,C))"
   ]
  },
  {
   "cell_type": "markdown",
   "metadata": {},
   "source": [
    "### Reduções\n",
    "Funções de redução como  `sum`, `max`, `min`, `argmax` e `argmin` podem ser aplicadas ao array inteiro, às linhas, ou colunas."
   ]
  },
  {
   "cell_type": "code",
   "execution_count": 8,
   "metadata": {},
   "outputs": [
    {
     "data": {
      "text/plain": [
       "6"
      ]
     },
     "execution_count": 8,
     "metadata": {},
     "output_type": "execute_result"
    }
   ],
   "source": [
    "np.sum(A)"
   ]
  },
  {
   "cell_type": "code",
   "execution_count": 12,
   "metadata": {},
   "outputs": [
    {
     "name": "stdout",
     "output_type": "stream",
     "text": [
      "[[0. 1. 2. 3. 4.]\n",
      " [0. 1. 2. 3. 4.]\n",
      " [0. 1. 2. 3. 4.]\n",
      " [0. 1. 2. 3. 4.]\n",
      " [0. 1. 2. 3. 4.]] \n",
      "\n",
      "50.0\n",
      "[ 0.  5. 10. 15. 20.]\n",
      "[10. 10. 10. 10. 10.]\n"
     ]
    }
   ],
   "source": [
    "A = np.zeros((5,5))\n",
    "A[:] = np.arange(5)\n",
    "\n",
    "# A=np.arrange(25).reshape(5,5)\n",
    "print(A,'\\n')\n",
    "\n",
    "print(np.sum(A)) # todos os elementos\n",
    "print(np.sum(A,axis=0)) # por coluna\n",
    "print(np.sum(A,axis=1)) # por linha"
   ]
  },
  {
   "cell_type": "code",
   "execution_count": 15,
   "metadata": {},
   "outputs": [
    {
     "name": "stdout",
     "output_type": "stream",
     "text": [
      "[[15. 23. 25.  3. 20.]\n",
      " [ 0.  8. 20. 19. 26.]\n",
      " [25. 10. 15.  1. 18.]\n",
      " [28.  5.  5.  9.  1.]\n",
      " [20.  1.  5.  6. 28.]] \n",
      "\n",
      "28.0\n",
      "15\n",
      "[28. 23. 25. 19. 28.]\n",
      "[3 0 0 1 4]\n",
      "(5,)\n"
     ]
    }
   ],
   "source": [
    "A = np.random.randint(low=0,high=30,size=(5,5)).astype(float)\n",
    "print(A,'\\n')\n",
    "\n",
    "# todos os elementos\n",
    "print(np.max(A))  \n",
    "print(np.argmax(A)) # posição da matriz onde se encontra a primeira ocorrência do valor máximo\n",
    "\n",
    "# Por coluna\n",
    "print(np.max(A,axis=0))\n",
    "print(np.argmax(A,axis=0))\n",
    "print(np.max(A,axis=0).shape)"
   ]
  },
  {
   "cell_type": "markdown",
   "metadata": {},
   "source": [
    "Reduções estatísticas como `mean`, `median` e `std` funcionam da mesma forma."
   ]
  },
  {
   "cell_type": "code",
   "execution_count": 10,
   "metadata": {},
   "outputs": [
    {
     "name": "stdout",
     "output_type": "stream",
     "text": [
      "[[ 2. 25. 19.  8.  3.]\n",
      " [17.  6.  0. 17.  5.]\n",
      " [23.  5. 10. 27.  9.]\n",
      " [17.  6. 20. 16.  6.]\n",
      " [25. 13. 12.  8. 28.]] \n",
      "\n",
      "13.08\n",
      "[16.8 11.  12.2 15.2 10.2]\n",
      "[11.4  9.  14.8 13.  17.2]\n"
     ]
    }
   ],
   "source": [
    "A = np.random.randint(low=0,high=30,size=(5,5)).astype(float)\n",
    "print(A,'\\n')\n",
    "\n",
    "print(np.mean(A))\n",
    "print(np.mean(A,axis=0))\n",
    "print(np.mean(A,axis=1))"
   ]
  },
  {
   "cell_type": "markdown",
   "metadata": {},
   "source": [
    "#### Redução lógica\n",
    "- `all` - se todos os elementos  do array satisfazem a condição (True)\n",
    "- `any` - se qualquer elementos  do array satisfazem a condição (True)"
   ]
  },
  {
   "cell_type": "code",
   "execution_count": 19,
   "metadata": {},
   "outputs": [
    {
     "name": "stdout",
     "output_type": "stream",
     "text": [
      "[ 0  1  2  3  4  5  6  7  8  9 10 11 12 13 14 15 16 17 18 19 20 21 22 23\n",
      " 24]\n",
      "True\n",
      "False\n",
      "True\n",
      "False\n",
      "True\n",
      "False\n"
     ]
    }
   ],
   "source": [
    "A = np.arange(25)\n",
    "print(A)\n",
    "M1 = A >= 0\n",
    "M2 = A > 10\n",
    "M3 = A > 25\n",
    "\n",
    "print(np.all(M1))\n",
    "print(np.all(M2))\n",
    "print(np.any(M2))\n",
    "print(np.any(M3))\n",
    "\n",
    "print(np.any(A==0))\n",
    "print(np.all(A==0))"
   ]
  },
  {
   "cell_type": "markdown",
   "metadata": {},
   "source": [
    "### Ordenação \n",
    "A ordenação de um array pode ser feita diretamente nele mesmo (inplace) ou numa cópia (sem modificação do original).\n",
    "- Por padrão ordena por coluna\n",
    "- Ordena por linha se axis = 0"
   ]
  },
  {
   "cell_type": "code",
   "execution_count": 23,
   "metadata": {},
   "outputs": [
    {
     "name": "stdout",
     "output_type": "stream",
     "text": [
      "[[16. 18.  4. 20.  6.]\n",
      " [ 2.  4.  0. 20. 25.]\n",
      " [28. 26. 14.  6. 14.]\n",
      " [23. 27. 15.  5. 16.]\n",
      " [ 7. 21.  8.  3. 12.]] \n",
      "\n",
      "[[ 4.  6. 16. 18. 20.]\n",
      " [ 0.  2.  4. 20. 25.]\n",
      " [ 6. 14. 14. 26. 28.]\n",
      " [ 5. 15. 16. 23. 27.]\n",
      " [ 3.  7.  8. 12. 21.]]\n",
      "----------------------------------------------------------------------------------------------------\n",
      "[[ 2.  4.  0.  3.  6.]\n",
      " [ 7. 18.  4.  5. 12.]\n",
      " [16. 21.  8.  6. 14.]\n",
      " [23. 26. 14. 20. 16.]\n",
      " [28. 27. 15. 20. 25.]] \n",
      "\n",
      "\n",
      "[[ 4.  6. 16. 18. 20.]\n",
      " [ 0.  2.  4. 20. 25.]\n",
      " [ 6. 14. 14. 26. 28.]\n",
      " [ 5. 15. 16. 23. 27.]\n",
      " [ 3.  7.  8. 12. 21.]]\n"
     ]
    }
   ],
   "source": [
    "# ORDENAR POR LINHA OU POR COLUNA\n",
    "\n",
    "A = np.random.randint(low=0,high=30,size=(5,5)).astype(float)\n",
    "print(A,'\\n')\n",
    "\n",
    "B = np.sort(A) # ordenar fazendo uma cópia\n",
    "print(B)\n",
    "\n",
    "print(100*'-')\n",
    "\n",
    "A.sort(axis=0) # ordenar A por linhas, modificando inplace\n",
    "\n",
    "print(A,'\\n\\n')\n",
    "print(B)\n",
    "\n",
    "# PARA ORDENAR TODOS OS ELEMENTOS, USAR O FLATTEN DEPOIS RESHAPE"
   ]
  },
  {
   "cell_type": "markdown",
   "metadata": {},
   "source": [
    "`argsort` retorna um vetor de indícies que ordena o vetor original."
   ]
  },
  {
   "cell_type": "code",
   "execution_count": 24,
   "metadata": {},
   "outputs": [
    {
     "name": "stdout",
     "output_type": "stream",
     "text": [
      "[[ 6. 26.  9. 13. 25.]\n",
      " [ 3. 16. 22. 25. 12.]\n",
      " [26.  2.  6.  0.  6.]\n",
      " [10. 29.  1. 29. 23.]\n",
      " [ 0. 29. 27. 20. 27.]] \n",
      "\n",
      "[[0 2 3 4 1]\n",
      " [0 4 1 2 3]\n",
      " [3 1 2 4 0]\n",
      " [2 0 4 1 3]\n",
      " [0 3 2 4 1]] \n",
      "\n"
     ]
    }
   ],
   "source": [
    "A = np.random.randint(low=0,high=30,size=(5,5)).astype(float)\n",
    "print(A,'\\n')\n",
    "\n",
    "I = np.argsort(A)\n",
    "print(I,'\\n')"
   ]
  },
  {
   "cell_type": "markdown",
   "metadata": {},
   "source": [
    "### Aritmétrica vetorial e matricial\n",
    "A multiplicação matriz e vetor (ou matriz e matriz) comumente empregada no contexto de sistemas lineares é feita utilizando o método `dot`.\n",
    "- As dimensões devem ser compatíveis\n",
    "- resultado diferente de `*` "
   ]
  },
  {
   "cell_type": "markdown",
   "metadata": {},
   "source": [
    "$$\n",
    "b1 = \\left[\\begin{array}{cc}\n",
    "           1 & 1 \\\\\n",
    "           2 & 2\n",
    "    \\end{array}\\right]\\cdot\n",
    "    \\left[\\begin{array}{c}\n",
    "           1  \\\\\n",
    "           2 \n",
    "    \\end{array}\\right] = \\left[\\begin{array}{c}\n",
    "           3  \\\\\n",
    "           6 \n",
    "    \\end{array}\\right]\n",
    "$$\n",
    "\n",
    "$$\n",
    "b2 = \\left[\\begin{array}{cc}\n",
    "           1 & 2 \n",
    "    \\end{array}\\right]\\cdot\n",
    "\\left[\\begin{array}{cc}\n",
    "           1 & 1 \\\\\n",
    "           2 & 2\n",
    "    \\end{array}\\right]\\cdot\n",
    "     = \\left[\\begin{array}{cc}\n",
    "           5 & 5\n",
    "    \\end{array}\\right]\n",
    "$$"
   ]
  },
  {
   "cell_type": "code",
   "execution_count": 30,
   "metadata": {},
   "outputs": [
    {
     "name": "stdout",
     "output_type": "stream",
     "text": [
      "[[1. 1.]\n",
      " [2. 2.]]\n",
      "[[1]\n",
      " [2]]\n",
      "----------\n",
      "(2, 2)\n",
      "(2, 1)\n",
      "[[3.]\n",
      " [6.]] (2, 1)\n",
      "----------\n",
      "[[5. 5.]] (1, 2)\n"
     ]
    }
   ],
   "source": [
    "A = np.zeros((2,2))\n",
    "A[:] = [[1],[2]]\n",
    "v = np.array([1,2]).reshape(2,1)\n",
    "\n",
    "print(A)\n",
    "print(v)\n",
    "print(10*\"-\")\n",
    "\n",
    "print(A.shape)\n",
    "print(v.shape)\n",
    "\n",
    "b1 = np.dot(A,v)   # v e b1 são vetores colunas \n",
    "print(b1,b1.shape)\n",
    "print(10*\"-\")\n",
    "      \n",
    "# np.dot(v,A) não é definido pois as dimensões não são compatíveis (tente e dará um erro)\n",
    "# mas podemos transpor v\n",
    "b2 = np.dot(v.T,A) # \"v.T\" (T é a operação de transpor) é um vetor linha, assim como b2\n",
    "print(b2,b2.shape)"
   ]
  },
  {
   "cell_type": "markdown",
   "metadata": {},
   "source": [
    "## Muito mais...\n",
    "- `numpy.linalg` biblioteca de algebra linear\n",
    "   - resolução de sistema\n",
    "   - decomposição em eigen vetores\n",
    "- numpy.polynomial\n",
    "   - aritmétrica polynomial\n",
    "   - estimativa polynomial \n",
    "   - interpolação polynomial\n",
    "- numpy.fft\n",
    "   - transformação de Fourier \n",
    "- ...\n"
   ]
  },
  {
   "cell_type": "markdown",
   "metadata": {},
   "source": [
    "---\n",
    "## Matplotlib\n",
    "###  Introdução\n",
    "```python\n",
    "import matplotlib.pyplot as plt  \n",
    "```\n",
    "- Utiliza NumPy para garantir um bom desempenho\n",
    "- Supõe que os dados são arrays do numpy. Se lista normais forem utilizadas, elas são convertidas para numpy array internamente."
   ]
  },
  {
   "cell_type": "markdown",
   "metadata": {},
   "source": [
    "### Plot\n",
    "Reazila um plot simples<br>\n",
    "Regular function plot\n",
    "- supõe valores discretos para os eixos x e y\n",
    "    - se apenas um array é utilizado, supõe que x representa inteiros igualmente espaçados\n",
    "- possui diversos argumentos que personalizam o estilo do plot\n",
    "    - [https://matplotlib.org/users/pyplot_tutorial.html](https://matplotlib.org/users/pyplot_tutorial.html)"
   ]
  },
  {
   "cell_type": "code",
   "execution_count": 34,
   "metadata": {},
   "outputs": [
    {
     "data": {
      "text/plain": [
       "[<matplotlib.lines.Line2D at 0x7f506bcd6278>]"
      ]
     },
     "execution_count": 34,
     "metadata": {},
     "output_type": "execute_result"
    },
    {
     "data": {
      "image/png": "[encoded data removed]",
      "text/plain": [
       "<Figure size 432x288 with 1 Axes>"
      ]
     },
     "metadata": {
      "needs_background": "light"
     },
     "output_type": "display_data"
    }
   ],
   "source": [
    "import numpy as np\n",
    "import matplotlib.pyplot as plt\n",
    "# mantem os gráficos como parte do notebook\n",
    "%matplotlib inline  \n",
    "\n",
    "x = np.linspace(0,1,20)\n",
    "y = x**2\n",
    "plt.plot(x,y)"
   ]
  },
  {
   "cell_type": "code",
   "execution_count": 45,
   "metadata": {},
   "outputs": [
    {
     "data": {
      "text/plain": [
       "[<matplotlib.lines.Line2D at 0x7f506b7b2518>]"
      ]
     },
     "execution_count": 45,
     "metadata": {},
     "output_type": "execute_result"
    },
    {
     "data": {
      "image/png": "[encoded data removed]",
      "text/plain": [
       "<Figure size 432x288 with 1 Axes>"
      ]
     },
     "metadata": {
      "needs_background": "light"
     },
     "output_type": "display_data"
    }
   ],
   "source": [
    "#plt.plot(x,y,color='red',linewidth = 5, linestyle = '--')\n",
    "#plt.plot(x,y,color='red', linestyle = '-',marker='s')\n",
    "plt.plot(x,y,'g--s')"
   ]
  },
  {
   "cell_type": "code",
   "execution_count": 49,
   "metadata": {},
   "outputs": [
    {
     "data": {
      "text/plain": [
       "[None, None, None]"
      ]
     },
     "execution_count": 49,
     "metadata": {},
     "output_type": "execute_result"
    },
    {
     "data": {
      "image/png": "[encoded data removed]",
      "text/plain": [
       "<Figure size 432x288 with 1 Axes>"
      ]
     },
     "metadata": {
      "needs_background": "light"
     },
     "output_type": "display_data"
    }
   ],
   "source": [
    "line_2_3 = plt.plot(x,y,x,x**3) # mais de 1 plot simultaneamente\n",
    "plt.setp(line_2_3,color='red',linewidth = 5, linestyle = '--')\n",
    "line_4 = plt.plot(x,x**4) # mais de 1 plot simultaneamente\n",
    "plt.setp(line_4,color='orange',linewidth = 2, linestyle = ':')"
   ]
  },
  {
   "cell_type": "markdown",
   "metadata": {},
   "source": [
    "### Componentes da Figura (baixe plt_components.png)\n",
    "<img src=\"plt_components.png\" width=\"200\" height=\"200\">\n",
    "\n",
    "- Um __axes__ é o que geralmente imaginamos como um \"plot\". Podem haver vários axes em uma figura.\n",
    "- Um __axis__ é um objeto que define os limites do gráfico e mostra os __ticks__ e seus valores. Existem sempre 2 axis em um axes."
   ]
  },
  {
   "cell_type": "markdown",
   "metadata": {},
   "source": [
    "### Figuras e Axes\n",
    "- Matplotlib tem o conceito de uma figura e um axes atual\n",
    "- Muito dos comandos do matplotlib operam na figura/axes atual (como plot())\n",
    "- A função __gca()__ retorna o axes atual, a __sca()__ especifica o axes atual e a  __cla()__ limpa o axes atual\n",
    "- A função __gcf()__ retorna a figura atual, a __figure()__ especifica a figura atual ou cria uma nova (ela recebe um número como parâmetro) e a __clf()__ limpa a figura atual \n",
    "- Uma figura e axes iniciais são criados automaticamente"
   ]
  },
  {
   "cell_type": "markdown",
   "metadata": {},
   "source": [
    "### Subplots\n",
    "- subplot é outro nome para __axes__\n",
    "- __subplot()__ cria novos axes e organiza-os em um grid de acordo com os argumentos\n",
    "- Os parâmetros do Subplot são `num_rows`, `num_cols`, and `subplot_number`\n",
    "- Se quiser especificar o __axes__ manualmente (não organizado como um grid) utilize funções para especifica _left_, _bottom_, _width_, _height_"
   ]
  },
  {
   "cell_type": "code",
   "execution_count": 56,
   "metadata": {},
   "outputs": [
    {
     "data": {
      "text/plain": [
       "[<matplotlib.lines.Line2D at 0x7f506b389d30>]"
      ]
     },
     "execution_count": 56,
     "metadata": {},
     "output_type": "execute_result"
    },
    {
     "data": {
      "image/png": "[encoded data removed]",
      "text/plain": [
       "<Figure size 432x288 with 2 Axes>"
      ]
     },
     "metadata": {
      "needs_background": "light"
     },
     "output_type": "display_data"
    }
   ],
   "source": [
    "import numpy as np\n",
    "import matplotlib.pyplot as plt\n",
    "\n",
    "def f(t):\n",
    "    return(np.exp(-t) * np.cos(2.0*np.pi*t))\n",
    "\n",
    "t1 = np.linspace(0.0, 5.0, 50)\n",
    "t2 = np.linspace(0.0, 5.0, 100)\n",
    "\n",
    "plt.figure(1) # redundante. O subplot já cria a figura\n",
    "plt.subplot(2, 1, 1) # 2 linhas , 1 coluna, posição no flatten\n",
    "plt.plot(t1, f(t1), 'bo', t2, f(t2), 'k') # k de black\n",
    "\n",
    "plt.subplot(2, 1, 2)\n",
    "plt.plot(t2, np.cos(2.0*np.pi*t2), 'r--')\n",
    "\n",
    "plt.subplot(2, 1, 2)\n",
    "plt.plot(t2, np.cos(2.0*np.pi*t2), 'r--')\n"
   ]
  },
  {
   "cell_type": "markdown",
   "metadata": {},
   "source": [
    "### Texto\n",
    "- Texto pode ser adicionado em qualquer localização da figura, ou nos axes\n",
    "- Características podem ser customizadas através de keyword arguments ou utilizando __setp()__ \n",
    "- Os seguintes comandos são úteis para incluir texto nos plots:\n",
    "    - text() - adiciona texto aos axes numa localazição aleátoria dos axes\n",
    "    - xlabel() - adiciona um rótulo ao eixo x\n",
    "    - ylabel() - adiciona um rótulo ao eixo y\n",
    "    - title() - adiciona um título aos axes\n",
    "    - figtext() - adiciona texto à figura  numa localazição aleátoria \n",
    "    - suptitle() - adiciona um título à figura\n",
    "    - annotate() - adiciona uma anotação (com uma seta opcional) aos axes\n",
    "- Várias [outras propriedades](https://matplotlib.org/api/text_api.html)"
   ]
  },
  {
   "cell_type": "code",
   "execution_count": 58,
   "metadata": {},
   "outputs": [
    {
     "data": {
      "text/plain": [
       "[5, 15, 0, 0.5]"
      ]
     },
     "execution_count": 58,
     "metadata": {},
     "output_type": "execute_result"
    },
    {
     "data": {
      "image/png": "[encoded data removed]",
      "text/plain": [
       "<Figure size 432x288 with 1 Axes>"
      ]
     },
     "metadata": {
      "needs_background": "light"
     },
     "output_type": "display_data"
    }
   ],
   "source": [
    "import numpy as np\n",
    "import matplotlib.pyplot as plt\n",
    "\n",
    "mu, sigma = 10.0, 1.0\n",
    "x = np.random.normal(mu,sigma,size=10000)\n",
    "\n",
    "# gera um histograma de x\n",
    "plt.hist(x,50,density=1,facecolor='g',alpha=0.75)\n",
    "plt.xlabel('Smarts')\n",
    "plt.ylabel('Probability')\n",
    "plt.title('Histogram of x')\n",
    "\n",
    "# posiciona o texto usando fontes do latex \n",
    "plt.text(6.0, 0.35, r'$\\mu=10,\\ \\sigma=1.0$') # r para dizer que o comando vai ser latex\n",
    "# limita a extensão de x e y\n",
    "plt.axis([5, 15, 0, 0.5])\n",
    "\n",
    "# coloca uma grade no fundo\n",
    "#plt.grid(True)"
   ]
  },
  {
   "cell_type": "code",
   "execution_count": 63,
   "metadata": {},
   "outputs": [
    {
     "data": {
      "text/plain": [
       "Text(3, 1.3, 'local max')"
      ]
     },
     "execution_count": 63,
     "metadata": {},
     "output_type": "execute_result"
    },
    {
     "data": {
      "image/png": "[encoded data removed]",
      "text/plain": [
       "<Figure size 432x288 with 1 Axes>"
      ]
     },
     "metadata": {
      "needs_background": "light"
     },
     "output_type": "display_data"
    }
   ],
   "source": [
    "import numpy as np\n",
    "import matplotlib.pyplot as plt\n",
    "\n",
    "ax = plt.subplot(111)\n",
    "t = np.arange(0.0, 5.0, 0.01)\n",
    "s = np.cos(2*np.pi*t)\n",
    "line, = plt.plot(t, s, lw=2)\n",
    "plt.axis([0.0, 5.0, -1.0, 1.5])\n",
    "\n",
    "plt.annotate('local max', xy=(2.05,1.05), xytext=(3,1.3), \n",
    "             arrowprops=dict(facecolor='k'))"
   ]
  },
  {
   "cell_type": "markdown",
   "metadata": {},
   "source": [
    "### Legenda"
   ]
  },
  {
   "cell_type": "code",
   "execution_count": 65,
   "metadata": {},
   "outputs": [
    {
     "data": {
      "text/plain": [
       "<matplotlib.legend.Legend at 0x7f506b07b0f0>"
      ]
     },
     "execution_count": 65,
     "metadata": {},
     "output_type": "execute_result"
    },
    {
     "data": {
      "image/png": "[encoded data removed]",
      "text/plain": [
       "<Figure size 432x288 with 1 Axes>"
      ]
     },
     "metadata": {
      "needs_background": "light"
     },
     "output_type": "display_data"
    }
   ],
   "source": [
    "import numpy as np\n",
    "import matplotlib.pyplot as plt\n",
    "\n",
    "plt.plot([1,2,3],\"--\", label=\"label1\")\n",
    "plt.plot([4,3,2], label=\"label2\")\n",
    "\n",
    "plt.legend()"
   ]
  },
  {
   "cell_type": "markdown",
   "metadata": {},
   "source": [
    "__Outros plots úteis:__\n",
    "- bar()\n",
    "- scatter()\n",
    "- stackplot()\n",
    "- matshow()\n",
    "\n",
    "[Mais informações](https://realpython.com/python-matplotlib-guide/)"
   ]
  },
  {
   "cell_type": "markdown",
   "metadata": {},
   "source": [
    "---\n",
    "\n",
    "\n",
    "\n",
    "<br>\n",
    "<br>\n",
    "\n"
   ]
  },
  {
   "cell_type": "markdown",
   "metadata": {},
   "source": [
    "##  <span style=\"color:blue\">Pandas - Part II</span>"
   ]
  },
  {
   "cell_type": "markdown",
   "metadata": {},
   "source": [
    "## Relembrando\n",
    "__Series__\n",
    "- Objeto similar a um array unidimensional, contendo dados e rótulos (indice de linhas)\n",
    "\n",
    "__DataFrame__\n",
    "- Similar a uma planilha, conjunto ordenado de colunas\n",
    "- Pode ser considerado um dicionário de Series (colunas), onde todas as Series compartilham o mesmo indice de linhas"
   ]
  },
  {
   "cell_type": "markdown",
   "metadata": {},
   "source": [
    "## Carregando arquivos\n",
    "Pandas permite diversas maneiras de carregas arquivos, como vimos na última aula:\n",
    "- Arquivos de texto\n",
    "- Dados estruturados (JSON, XML, HTML, CSV)\n",
    "- Excel (depende das biblitoecas xlrd e  openpyxl)\n",
    "- Direto de base de dados\n",
    "  - pandas.io.sql module (read_frame)"
   ]
  },
  {
   "cell_type": "code",
   "execution_count": 66,
   "metadata": {},
   "outputs": [
    {
     "name": "stdout",
     "output_type": "stream",
     "text": [
      "Writing simple.csv\n"
     ]
    }
   ],
   "source": [
    "%%writefile simple.csv\n",
    "a,b,c,d,message\n",
    "1,2,3,4,hello\n",
    "5,6,7,8,world\n",
    "9,10,11,12,foo"
   ]
  },
  {
   "cell_type": "code",
   "execution_count": 67,
   "metadata": {},
   "outputs": [
    {
     "name": "stdout",
     "output_type": "stream",
     "text": [
      "['a' 'b' 'c' 'd' 'message']\n"
     ]
    },
    {
     "data": {
      "text/html": [
       "<div>\n",
       "<style scoped>\n",
       "    .dataframe tbody tr th:only-of-type {\n",
       "        vertical-align: middle;\n",
       "    }\n",
       "\n",
       "    .dataframe tbody tr th {\n",
       "        vertical-align: top;\n",
       "    }\n",
       "\n",
       "    .dataframe thead th {\n",
       "        text-align: right;\n",
       "    }\n",
       "</style>\n",
       "<table border=\"1\" class=\"dataframe\">\n",
       "  <thead>\n",
       "    <tr style=\"text-align: right;\">\n",
       "      <th></th>\n",
       "      <th>a</th>\n",
       "      <th>b</th>\n",
       "      <th>c</th>\n",
       "      <th>d</th>\n",
       "      <th>message</th>\n",
       "    </tr>\n",
       "  </thead>\n",
       "  <tbody>\n",
       "    <tr>\n",
       "      <th>0</th>\n",
       "      <td>1</td>\n",
       "      <td>2</td>\n",
       "      <td>3</td>\n",
       "      <td>4</td>\n",
       "      <td>hello</td>\n",
       "    </tr>\n",
       "    <tr>\n",
       "      <th>1</th>\n",
       "      <td>5</td>\n",
       "      <td>6</td>\n",
       "      <td>7</td>\n",
       "      <td>8</td>\n",
       "      <td>world</td>\n",
       "    </tr>\n",
       "    <tr>\n",
       "      <th>2</th>\n",
       "      <td>9</td>\n",
       "      <td>10</td>\n",
       "      <td>11</td>\n",
       "      <td>12</td>\n",
       "      <td>foo</td>\n",
       "    </tr>\n",
       "  </tbody>\n",
       "</table>\n",
       "</div>"
      ],
      "text/plain": [
       "   a   b   c   d message\n",
       "0  1   2   3   4   hello\n",
       "1  5   6   7   8   world\n",
       "2  9  10  11  12     foo"
      ]
     },
     "execution_count": 67,
     "metadata": {},
     "output_type": "execute_result"
    }
   ],
   "source": [
    "# Carregar um CSV simples\n",
    "import pandas as pd # importamos a bilbioteca\n",
    "\n",
    "# a primeira linah vira os índices das colunas\n",
    "df = pd.read_csv('simple.csv')\n",
    "print(df.columns.values)\n",
    "df.head()"
   ]
  },
  {
   "cell_type": "markdown",
   "metadata": {},
   "source": [
    "`read_csv` Suporta muitos outros parâmetros\n",
    "\n",
    "[https://pandas.pydata.org/pandas-docs/stable/generated/pandas.read_csv.html](https://pandas.pydata.org/pandas-docs/stable/generated/pandas.read_csv.html)"
   ]
  },
  {
   "cell_type": "code",
   "execution_count": 45,
   "metadata": {},
   "outputs": [
    {
     "name": "stdout",
     "output_type": "stream",
     "text": [
      "['message' 'hello' 'world' 'foo']\n"
     ]
    },
    {
     "data": {
      "text/html": [
       "<div>\n",
       "<style scoped>\n",
       "    .dataframe tbody tr th:only-of-type {\n",
       "        vertical-align: middle;\n",
       "    }\n",
       "\n",
       "    .dataframe tbody tr th {\n",
       "        vertical-align: top;\n",
       "    }\n",
       "\n",
       "    .dataframe thead th {\n",
       "        text-align: right;\n",
       "    }\n",
       "</style>\n",
       "<table border=\"1\" class=\"dataframe\">\n",
       "  <thead>\n",
       "    <tr style=\"text-align: right;\">\n",
       "      <th></th>\n",
       "      <th>c0</th>\n",
       "      <th>c1</th>\n",
       "      <th>c2</th>\n",
       "      <th>c3</th>\n",
       "    </tr>\n",
       "    <tr>\n",
       "      <th>c4</th>\n",
       "      <th></th>\n",
       "      <th></th>\n",
       "      <th></th>\n",
       "      <th></th>\n",
       "    </tr>\n",
       "  </thead>\n",
       "  <tbody>\n",
       "    <tr>\n",
       "      <th>message</th>\n",
       "      <td>a</td>\n",
       "      <td>b</td>\n",
       "      <td>c</td>\n",
       "      <td>d</td>\n",
       "    </tr>\n",
       "    <tr>\n",
       "      <th>hello</th>\n",
       "      <td>1</td>\n",
       "      <td>2</td>\n",
       "      <td>3</td>\n",
       "      <td>4</td>\n",
       "    </tr>\n",
       "    <tr>\n",
       "      <th>world</th>\n",
       "      <td>5</td>\n",
       "      <td>6</td>\n",
       "      <td>7</td>\n",
       "      <td>8</td>\n",
       "    </tr>\n",
       "    <tr>\n",
       "      <th>foo</th>\n",
       "      <td>9</td>\n",
       "      <td>10</td>\n",
       "      <td>11</td>\n",
       "      <td>12</td>\n",
       "    </tr>\n",
       "  </tbody>\n",
       "</table>\n",
       "</div>"
      ],
      "text/plain": [
       "        c0  c1  c2  c3\n",
       "c4                    \n",
       "message  a   b   c   d\n",
       "hello    1   2   3   4\n",
       "world    5   6   7   8\n",
       "foo      9  10  11  12"
      ]
     },
     "execution_count": 45,
     "metadata": {},
     "output_type": "execute_result"
    }
   ],
   "source": [
    "# uma coluna pode virar o índice das linhas;\n",
    "# podemos também dar nomes as colunas\n",
    "df = pd.read_csv('simple.csv',\n",
    "                 names=['c0','c1','c2','c3','c4'],\n",
    "                 index_col='c4')\n",
    "#df = pd.read_csv('simple.csv',index_col='c5')\n",
    "print(df.index.values)\n",
    "df.head()"
   ]
  },
  {
   "cell_type": "markdown",
   "metadata": {},
   "source": [
    "## Dados faltantes\n",
    "Pandas fornece diversas funcionalidades para lidar com dados faltantes:\n",
    "- detectar dados faltantes com isnull e notnull\n",
    "- remoção de linhas usando dropna\n",
    "   - linhas faltando qualquer dado \n",
    "   - linhas faltando todos os dados\n",
    "   - linhas faltando um número específico de dados\n",
    "- Substituir NaN com um valor específico usando fillna\n",
    "- Especificar valores de substituição quando utilizando funções aritmétricas"
   ]
  },
  {
   "cell_type": "code",
   "execution_count": 68,
   "metadata": {},
   "outputs": [
    {
     "name": "stdout",
     "output_type": "stream",
     "text": [
      "Writing missing.csv\n"
     ]
    }
   ],
   "source": [
    "%%writefile missing.csv\n",
    "Colorado,,,,\n",
    "Ohio,3,5,6,\n",
    "Oregon,,,,\n",
    "Texas,9,12,,\n",
    "Utah,,,,"
   ]
  },
  {
   "cell_type": "code",
   "execution_count": 69,
   "metadata": {},
   "outputs": [
    {
     "name": "stdout",
     "output_type": "stream",
     "text": [
      "          0    1     2    3   4\n",
      "0  Colorado  NaN   NaN  NaN NaN\n",
      "1      Ohio  3.0   5.0  6.0 NaN\n",
      "2    Oregon  NaN   NaN  NaN NaN\n",
      "3     Texas  9.0  12.0  NaN NaN\n",
      "4      Utah  NaN   NaN  NaN NaN\n"
     ]
    }
   ],
   "source": [
    "df = pd.read_csv('missing.csv',header=None)\n",
    "print(df)"
   ]
  },
  {
   "cell_type": "code",
   "execution_count": 24,
   "metadata": {},
   "outputs": [
    {
     "name": "stdout",
     "output_type": "stream",
     "text": [
      "       0      1      2      3     4\n",
      "0  False   True   True   True  True\n",
      "1  False  False  False  False  True\n",
      "2  False   True   True   True  True\n",
      "3  False  False  False   True  True\n",
      "4  False   True   True   True  True\n"
     ]
    }
   ],
   "source": [
    "# encontrar dados faltantes\n",
    "print(df.isnull())"
   ]
  },
  {
   "cell_type": "code",
   "execution_count": 25,
   "metadata": {},
   "outputs": [
    {
     "name": "stdout",
     "output_type": "stream",
     "text": [
      "Empty DataFrame\n",
      "Columns: [0, 1, 2, 3, 4]\n",
      "Index: []\n"
     ]
    }
   ],
   "source": [
    "# remove linhas com pelo menos 1 dado faltando\n",
    "print(df.dropna())"
   ]
  },
  {
   "cell_type": "code",
   "execution_count": 12,
   "metadata": {},
   "outputs": [
    {
     "name": "stdout",
     "output_type": "stream",
     "text": [
      "          0    1     2    3   4\n",
      "0  Colorado  NaN   NaN  NaN NaN\n",
      "1      Ohio  3.0   5.0  6.0 NaN\n",
      "2    Oregon  NaN   NaN  NaN NaN\n",
      "3     Texas  9.0  12.0  NaN NaN\n",
      "4      Utah  NaN   NaN  NaN NaN\n",
      "-----\n",
      "          0    1     2    3\n",
      "0  Colorado  NaN   NaN  NaN\n",
      "1      Ohio  3.0   5.0  6.0\n",
      "2    Oregon  NaN   NaN  NaN\n",
      "3     Texas  9.0  12.0  NaN\n",
      "4      Utah  NaN   NaN  NaN\n"
     ]
    }
   ],
   "source": [
    "# remove linhas com todos os dados faltando\n",
    "print(df.dropna(how='all'))\n",
    "\n",
    "print(5*'-')\n",
    "# remove colunas com todos os dados faltando\n",
    "print(df.dropna(how='all',axis=1))"
   ]
  },
  {
   "cell_type": "code",
   "execution_count": 27,
   "metadata": {},
   "outputs": [
    {
     "name": "stdout",
     "output_type": "stream",
     "text": [
      "       0    1     2    3   4\n",
      "1   Ohio  3.0   5.0  6.0 NaN\n",
      "3  Texas  9.0  12.0  NaN NaN\n"
     ]
    }
   ],
   "source": [
    "# remove linhas com k+1 dados faltando\n",
    "print(df.dropna(thresh=2))"
   ]
  },
  {
   "cell_type": "code",
   "execution_count": 70,
   "metadata": {},
   "outputs": [
    {
     "name": "stdout",
     "output_type": "stream",
     "text": [
      "          0    1     2    3    4\n",
      "0  Colorado  0.0   0.0  0.0  0.0\n",
      "1      Ohio  3.0   5.0  6.0  0.0\n",
      "2    Oregon  0.0   0.0  0.0  0.0\n",
      "3     Texas  9.0  12.0  0.0  0.0\n",
      "4      Utah  0.0   0.0  0.0  0.0\n",
      "-----\n",
      "          0    1     2    3    4\n",
      "0  Colorado -1.0   NaN  0.0  1.0\n",
      "1      Ohio  3.0   5.0  6.0  1.0\n",
      "2    Oregon -1.0   NaN  0.0  1.0\n",
      "3     Texas  9.0  12.0  0.0  1.0\n",
      "4      Utah -1.0   NaN  0.0  1.0\n"
     ]
    }
   ],
   "source": [
    "# Substitui valores faltantes\n",
    "print(df.fillna(0))\n",
    "\n",
    "print(5*'-')\n",
    "# Substitui valores faltantes com um valor diferente por coluna\n",
    "print(df.fillna({1:-1,3:0,4:1})) # dicionário com as chaves sendo os nomes das colunas que quero alterar e\n",
    "                                 #  o valor do dicionário sendo o valor que quero colocar no lugar do NaN."
   ]
  },
  {
   "cell_type": "code",
   "execution_count": 14,
   "metadata": {},
   "outputs": [
    {
     "name": "stdout",
     "output_type": "stream",
     "text": [
      "          0    1     2    3   4\n",
      "0  Colorado  6.0   8.5  6.0 NaN\n",
      "1      Ohio  3.0   5.0  6.0 NaN\n",
      "2    Oregon  6.0   8.5  6.0 NaN\n",
      "3     Texas  9.0  12.0  6.0 NaN\n",
      "4      Utah  6.0   8.5  6.0 NaN\n"
     ]
    }
   ],
   "source": [
    "# Substitui valores faltantes com uma média\n",
    "print(df.fillna(df.mean(axis=0)))"
   ]
  },
  {
   "cell_type": "markdown",
   "metadata": {},
   "source": [
    "## Processando os dados\n",
    "\n",
    "- Encontar e remover linhas duplicadas\n",
    "   - usar `duplicated` e `drop_duplicates`\n",
    "- Transformar valores\n",
    "   - Usar `map` para transformar valores ou adicionar colunas\n",
    "- Substituir valores\n",
    "   - Usar `replace` para substituir um valor específico ou utilizar uma expressão regular\n",
    "- Renomear os índices\n",
    "   - Usar `rename` para mudar os índices das linhas ou colunas"
   ]
  },
  {
   "cell_type": "markdown",
   "metadata": {},
   "source": [
    "#### Linhas duplicadas"
   ]
  },
  {
   "cell_type": "code",
   "execution_count": 73,
   "metadata": {},
   "outputs": [
    {
     "name": "stdout",
     "output_type": "stream",
     "text": [
      "Overwriting duplicate.csv\n"
     ]
    }
   ],
   "source": [
    "%%writefile duplicate.csv\n",
    "c0,c1\n",
    "one,1\n",
    "one,1\n",
    "one,2\n",
    "two,3\n",
    "two,3\n",
    "two,4\n",
    "two,4"
   ]
  },
  {
   "cell_type": "code",
   "execution_count": 74,
   "metadata": {},
   "outputs": [],
   "source": [
    "df = pd.read_csv('duplicate.csv')"
   ]
  },
  {
   "cell_type": "code",
   "execution_count": 75,
   "metadata": {},
   "outputs": [
    {
     "name": "stdout",
     "output_type": "stream",
     "text": [
      "0    False\n",
      "1     True\n",
      "2    False\n",
      "3    False\n",
      "4     True\n",
      "5    False\n",
      "6     True\n",
      "dtype: bool\n",
      "---------------\n",
      "    c0  c1\n",
      "0  one   1\n",
      "2  one   2\n",
      "3  two   3\n",
      "5  two   4\n"
     ]
    }
   ],
   "source": [
    "# detectar linhas duplicadas\n",
    "print(df.duplicated())\n",
    "\n",
    "print(15*'-')\n",
    "# remover linhas duplicadas\n",
    "print(df.drop_duplicates())"
   ]
  },
  {
   "cell_type": "markdown",
   "metadata": {},
   "source": [
    "### Método `map`"
   ]
  },
  {
   "cell_type": "markdown",
   "metadata": {},
   "source": [
    "#### Transformando valores"
   ]
  },
  {
   "cell_type": "code",
   "execution_count": 76,
   "metadata": {},
   "outputs": [
    {
     "name": "stdout",
     "output_type": "stream",
     "text": [
      "     food  ounces   type\n",
      "0   Bread       4  grain\n",
      "1   Apple       3  fruit\n",
      "2  Cheese      12  dairy\n"
     ]
    }
   ],
   "source": [
    "dt = {'food': ['Bread','Apple','Cheese'],\n",
    "      'ounces': [4,3,12],\n",
    "      'type':['grain','fruit','dairy']\n",
    "     }\n",
    "df = pd.DataFrame(dt)\n",
    "print(df)"
   ]
  },
  {
   "cell_type": "markdown",
   "metadata": {},
   "source": [
    "#### Criando colunas com base em outra coluna"
   ]
  },
  {
   "cell_type": "code",
   "execution_count": 18,
   "metadata": {},
   "outputs": [
    {
     "name": "stdout",
     "output_type": "stream",
     "text": [
      "     food  ounces   type\n",
      "0   BREAD       4  grain\n",
      "1   APPLE       3  fruit\n",
      "2  CHEESE      12  dairy\n",
      "-----\n",
      "     food  ounces   type calories\n",
      "0   BREAD       4  grain      low\n",
      "1   APPLE       3  fruit      low\n",
      "2  CHEESE      12  dairy     high\n"
     ]
    }
   ],
   "source": [
    "# transformar os dados\n",
    "df['food'] = df['food'].map(lambda x : x.upper())\n",
    "print(df)\n",
    "\n",
    "print(5*'-')\n",
    "# criar uma coluna nova a partir de outra\n",
    "calories_by_type = {'grain':'low','fruit':'low','dairy':'high'}\n",
    "df['calories'] = df['type'].map(calories_by_type)\n",
    "print(df)"
   ]
  },
  {
   "cell_type": "markdown",
   "metadata": {},
   "source": [
    "### Método `replace`"
   ]
  },
  {
   "cell_type": "markdown",
   "metadata": {},
   "source": [
    "#### Substituindo valores"
   ]
  },
  {
   "cell_type": "code",
   "execution_count": 77,
   "metadata": {},
   "outputs": [
    {
     "data": {
      "text/html": [
       "<div>\n",
       "<style scoped>\n",
       "    .dataframe tbody tr th:only-of-type {\n",
       "        vertical-align: middle;\n",
       "    }\n",
       "\n",
       "    .dataframe tbody tr th {\n",
       "        vertical-align: top;\n",
       "    }\n",
       "\n",
       "    .dataframe thead th {\n",
       "        text-align: right;\n",
       "    }\n",
       "</style>\n",
       "<table border=\"1\" class=\"dataframe\">\n",
       "  <thead>\n",
       "    <tr style=\"text-align: right;\">\n",
       "      <th></th>\n",
       "      <th>c1</th>\n",
       "      <th>c2</th>\n",
       "      <th>c3</th>\n",
       "      <th>c4</th>\n",
       "    </tr>\n",
       "  </thead>\n",
       "  <tbody>\n",
       "    <tr>\n",
       "      <th>0</th>\n",
       "      <td>1</td>\n",
       "      <td>2</td>\n",
       "      <td>bla</td>\n",
       "      <td>cla</td>\n",
       "    </tr>\n",
       "    <tr>\n",
       "      <th>1</th>\n",
       "      <td>2</td>\n",
       "      <td>4</td>\n",
       "      <td>cla</td>\n",
       "      <td>bla</td>\n",
       "    </tr>\n",
       "    <tr>\n",
       "      <th>2</th>\n",
       "      <td>3</td>\n",
       "      <td>6</td>\n",
       "      <td>dla</td>\n",
       "      <td>fla</td>\n",
       "    </tr>\n",
       "    <tr>\n",
       "      <th>3</th>\n",
       "      <td>4</td>\n",
       "      <td>8</td>\n",
       "      <td>ela</td>\n",
       "      <td>ela</td>\n",
       "    </tr>\n",
       "    <tr>\n",
       "      <th>4</th>\n",
       "      <td>5</td>\n",
       "      <td>10</td>\n",
       "      <td>fla</td>\n",
       "      <td>dla</td>\n",
       "    </tr>\n",
       "  </tbody>\n",
       "</table>\n",
       "</div>"
      ],
      "text/plain": [
       "   c1  c2   c3   c4\n",
       "0   1   2  bla  cla\n",
       "1   2   4  cla  bla\n",
       "2   3   6  dla  fla\n",
       "3   4   8  ela  ela\n",
       "4   5  10  fla  dla"
      ]
     },
     "execution_count": 77,
     "metadata": {},
     "output_type": "execute_result"
    }
   ],
   "source": [
    "dfr = pd.DataFrame({'c1':[1,2,3,4,5],'c2':[2,4,6,8,10],'c3':['bla','cla','dla','ela','fla'],\n",
    "                   'c4':['cla','bla','fla','ela','dla']})\n",
    "dfr"
   ]
  },
  {
   "cell_type": "code",
   "execution_count": 78,
   "metadata": {},
   "outputs": [
    {
     "name": "stdout",
     "output_type": "stream",
     "text": [
      "   c1  c2    c3    c4\n",
      "0   1  -2   bla  clam\n",
      "1  -2   4  clam   bla\n",
      "2   3   6   dla   fla\n",
      "3   4   8   ela   ela\n",
      "4   5  10   fla   dla\n"
     ]
    }
   ],
   "source": [
    "# substitui valores em todo dataframe\n",
    "print(dfr.replace([2,'cla'],[-2,'clam']))"
   ]
  },
  {
   "cell_type": "code",
   "execution_count": 24,
   "metadata": {},
   "outputs": [
    {
     "name": "stdout",
     "output_type": "stream",
     "text": [
      "   c1  c2    c3    c4\n",
      "0   1   2   bla   cla\n",
      "1   2  -4   cla   bla\n",
      "2   3   6   dla  palm\n",
      "3  -4   8   ela   ela\n",
      "4   5  10  palm   dla\n"
     ]
    }
   ],
   "source": [
    "# substitui baseado em um dicionario em todo dataframe\n",
    "print(dfr.replace({4:-4,'fla':'palm'}))"
   ]
  },
  {
   "cell_type": "code",
   "execution_count": 30,
   "metadata": {},
   "outputs": [
    {
     "name": "stdout",
     "output_type": "stream",
     "text": [
      "   c1  c2   c3   c4\n",
      "0   1   2  bla  cla\n",
      "1   2   4  cla  bla\n",
      "2   3   6  dla  fla\n",
      "3  -4   8   -4  ela\n",
      "4   5  10  fla  dla\n",
      "-----\n",
      "   c1  c2    c3   c4\n",
      "0   1   2   bla  cla\n",
      "1   2   4   cla  bla\n",
      "2   3   6   dla  fla\n",
      "3  -4   8  eles  ela\n",
      "4   5  10   fla  dla\n"
     ]
    }
   ],
   "source": [
    "# substitui valores em colunas específicas\n",
    "print(dfr.replace({'c1':4,'c3':'ela'},value=-4))\n",
    "\n",
    "print(5*'-')\n",
    "# especificando valores diferentes em cada coluna\n",
    "print(dfr.replace({'c1':{4:-4},'c3':{'ela':'eles'}}))"
   ]
  },
  {
   "cell_type": "markdown",
   "metadata": {},
   "source": [
    "#### Renomeando índices"
   ]
  },
  {
   "cell_type": "code",
   "execution_count": 32,
   "metadata": {},
   "outputs": [
    {
     "name": "stdout",
     "output_type": "stream",
     "text": [
      "   a   b   c   d message\n",
      "0  1   2   3   4   hello\n",
      "1  5   6   7   8   world\n",
      "2  9  10  11  12     foo\n",
      "-----\n",
      "    A   B   C   D MESSAGE\n",
      "0a  1   2   3   4   hello\n",
      "1a  5   6   7   8   world\n",
      "2a  9  10  11  12     foo\n"
     ]
    }
   ],
   "source": [
    "# `rename` pode ser utilizado para renomear índices de linhas ou colunas\n",
    "df = pd.read_csv('simple.csv')\n",
    "print(df)\n",
    "\n",
    "print(5*'-')\n",
    "print(df.rename(index=lambda x: str(x)+'a', columns=lambda x: x.upper()))"
   ]
  },
  {
   "cell_type": "markdown",
   "metadata": {},
   "source": [
    "## Combinando e transformando\n",
    "- A operação de _Merge_ combina dados vinculando linhas por uma ou mais chave\n",
    "- A operação _Concatenate_ combina dados a partir de um eixo específico\n",
    "- _Reshaping_ é utilizado para transformar as linhas/colunas e realizar análises diferentes"
   ]
  },
  {
   "cell_type": "markdown",
   "metadata": {},
   "source": [
    "#### Merge (fundir)\n",
    "- Merge um-para-muitos (interseção padrão)\n",
    "- Merge utilizando várias chaves\n",
    "- Merge utilizando o index de um DataFrame como chave\n",
    "- Merge utilizando índices dos dois DataFrame\n",
    "- Também existe o método join para merge por index"
   ]
  },
  {
   "cell_type": "code",
   "execution_count": 79,
   "metadata": {},
   "outputs": [
    {
     "name": "stdout",
     "output_type": "stream",
     "text": [
      "  key  data1\n",
      "0   b      0\n",
      "1   b      1\n",
      "2   a      2\n",
      "3   c      3\n",
      "4   a      4\n",
      "5   a      5\n",
      "6   b      6\n",
      "  key  data2\n",
      "0   a      0\n",
      "1   b      1\n",
      "2   d      2\n",
      "3   b      3\n"
     ]
    }
   ],
   "source": [
    "df1 = pd.DataFrame({'key': ['b','b','a','c','a','a','b'], \n",
    "                   'data1': range(7)})\n",
    "\n",
    "df2 = pd.DataFrame({'key': ['a','b','d','b'], \n",
    "                   'data2': range(4)})\n",
    "\n",
    "print(df1)\n",
    "print(df2)"
   ]
  },
  {
   "cell_type": "code",
   "execution_count": 36,
   "metadata": {},
   "outputs": [
    {
     "name": "stdout",
     "output_type": "stream",
     "text": [
      "  key  data1  data2\n",
      "0   b      0      1\n",
      "1   b      0      3\n",
      "2   b      1      1\n",
      "3   b      1      3\n",
      "4   b      6      1\n",
      "5   b      6      3\n",
      "6   a      2      0\n",
      "7   a      4      0\n",
      "8   a      5      0\n"
     ]
    }
   ],
   "source": [
    "# merge baseado em uma coluna (por intersecção, o comportamento padrão)\n",
    "print(pd.merge(df1,df2,on='key'))"
   ]
  },
  {
   "cell_type": "code",
   "execution_count": 80,
   "metadata": {},
   "outputs": [
    {
     "name": "stdout",
     "output_type": "stream",
     "text": [
      "   key  data1  data2\n",
      "0    b    0.0    1.0\n",
      "1    b    0.0    3.0\n",
      "2    b    1.0    1.0\n",
      "3    b    1.0    3.0\n",
      "4    b    6.0    1.0\n",
      "5    b    6.0    3.0\n",
      "6    a    2.0    0.0\n",
      "7    a    4.0    0.0\n",
      "8    a    5.0    0.0\n",
      "9    c    3.0    NaN\n",
      "10   d    NaN    2.0\n"
     ]
    }
   ],
   "source": [
    "# Outras maneiras podem ser realizadas através do parâmetro \"how\"\n",
    "# how = 'outer' --> união entre os dados\n",
    "# how = 'inner' --> intersecção entre os dados\n",
    "\n",
    "print(pd.merge(df1,df2,on='key',how='outer'))"
   ]
  },
  {
   "cell_type": "code",
   "execution_count": 81,
   "metadata": {},
   "outputs": [
    {
     "name": "stdout",
     "output_type": "stream",
     "text": [
      "  key  value\n",
      "0   a      0\n",
      "1   b      1\n",
      "2   a      2\n",
      "3   a      3\n",
      "4   b      4\n",
      "5   c      5\n",
      "   group_val\n",
      "a        3.5\n",
      "b        7.0\n",
      "-----\n",
      "  key  value  group_val\n",
      "0   a      0        3.5\n",
      "2   a      2        3.5\n",
      "3   a      3        3.5\n",
      "1   b      1        7.0\n",
      "4   b      4        7.0\n",
      "5   c      5        NaN\n"
     ]
    }
   ],
   "source": [
    "# merge utilizando coluna e index\n",
    "df1 = pd.DataFrame({'key': ['a','b','a','a','b','c'], 'value': range(6)})\n",
    "\n",
    "df2 = pd.DataFrame({'group_val': [3.5, 7]}, index=['a', 'b'])\n",
    "\n",
    "print(df1)\n",
    "print(df2)\n",
    "\n",
    "print(5*'-')\n",
    "print(pd.merge(df1, df2, left_on='key', right_index=True, how='outer'))"
   ]
  },
  {
   "cell_type": "code",
   "execution_count": 42,
   "metadata": {},
   "outputs": [
    {
     "name": "stdout",
     "output_type": "stream",
     "text": [
      "   Ohio  Nevada\n",
      "a     1       2\n",
      "c     3       4\n",
      "e     5       6\n",
      "   Missouri  Alabama\n",
      "b         7        8\n",
      "c         9       10\n",
      "d        11       12\n",
      "e        13       14\n",
      "-----\n",
      "   Ohio  Nevada  Missouri  Alabama\n",
      "a   1.0     2.0       NaN      NaN\n",
      "b   NaN     NaN       7.0      8.0\n",
      "c   3.0     4.0       9.0     10.0\n",
      "d   NaN     NaN      11.0     12.0\n",
      "e   5.0     6.0      13.0     14.0\n"
     ]
    }
   ],
   "source": [
    "# merge utilizando índices dos dois DataFrames\n",
    "df1 = pd.DataFrame([[1,2],[3,4],[5,6]], \n",
    "        index=['a','c','e'], columns=['Ohio','Nevada'])\n",
    "\n",
    "df2 = pd.DataFrame([[7,8],[9,10],[11,12],[13,14]], \n",
    "        index=['b','c','d','e'],\n",
    "        columns=['Missouri','Alabama'])\n",
    "\n",
    "print(df1)\n",
    "print(df2)\n",
    "\n",
    "print(5*'-')\n",
    "print(pd.merge(df1, df2, left_index=True, \n",
    "        right_index=True, how='outer'))"
   ]
  },
  {
   "cell_type": "markdown",
   "metadata": {},
   "source": [
    "#### Concatenação\n",
    "- Combinar dados utilizando um eixo\n",
    "   - Por padrão, concatena por linhas (axis = 0)\n",
    "- Concatenar Series por coluna (axis = 1) resulta em um DataFrame"
   ]
  },
  {
   "cell_type": "code",
   "execution_count": 85,
   "metadata": {},
   "outputs": [
    {
     "name": "stdout",
     "output_type": "stream",
     "text": [
      "a    0\n",
      "b    1\n",
      "dtype: int64\n",
      "----------\n",
      "c    2\n",
      "d    3\n",
      "e    4\n",
      "dtype: int64\n",
      "----------\n",
      "f    5\n",
      "g    6\n",
      "dtype: int64\n",
      "----------\n",
      "a    0\n",
      "b    1\n",
      "c    2\n",
      "d    3\n",
      "e    4\n",
      "f    5\n",
      "g    6\n",
      "dtype: int64\n"
     ]
    }
   ],
   "source": [
    "import numpy as np\n",
    "import pandas as pd\n",
    "\n",
    "s1 = pd.Series([0, 1], index=['a', 'b'])\n",
    "s2 = pd.Series([2, 3, 4], index=['c', 'd', 'e'])\n",
    "s3 = pd.Series([5, 6], index=['f', 'g']) \n",
    "print(s1)\n",
    "print(10*\"-\")\n",
    "print(s2)\n",
    "print(10*\"-\")\n",
    "print(s3)\n",
    "print(10*\"-\")\n",
    "print(pd.concat([s1,s2,s3]))"
   ]
  },
  {
   "cell_type": "code",
   "execution_count": 86,
   "metadata": {},
   "outputs": [
    {
     "name": "stdout",
     "output_type": "stream",
     "text": [
      "     0    1    2\n",
      "a  0.0  NaN  NaN\n",
      "b  1.0  NaN  NaN\n",
      "c  NaN  2.0  NaN\n",
      "d  NaN  3.0  NaN\n",
      "e  NaN  4.0  NaN\n",
      "f  NaN  NaN  5.0\n",
      "g  NaN  NaN  6.0\n"
     ]
    },
    {
     "name": "stderr",
     "output_type": "stream",
     "text": [
      "/home/barbara/anaconda3/lib/python3.7/site-packages/ipykernel_launcher.py:2: FutureWarning: Sorting because non-concatenation axis is not aligned. A future version\n",
      "of pandas will change to not sort by default.\n",
      "\n",
      "To accept the future behavior, pass 'sort=False'.\n",
      "\n",
      "To retain the current behavior and silence the warning, pass 'sort=True'.\n",
      "\n",
      "  \n"
     ]
    }
   ],
   "source": [
    "# por colunas resulta em um dataframe\n",
    "print(pd.concat([s1,s2,s3],axis=1))"
   ]
  },
  {
   "cell_type": "markdown",
   "metadata": {},
   "source": [
    "## Estatísticas\n",
    "- [Existem vários métodos](https://chrisalbon.com/python/data_wrangling/pandas_dataframe_descriptive_stats/) para realizar análise estatística em dataframes\n",
    "- A maioria são agregrações, isto é, produzem um resultado de dimensionalide menor\n",
    "- Quando aplicados a um DataFrame, aceitam um argumento axis\n",
    "   - O padrão é ”index” (axis = 0)"
   ]
  },
  {
   "cell_type": "code",
   "execution_count": 87,
   "metadata": {},
   "outputs": [
    {
     "name": "stdout",
     "output_type": "stream",
     "text": [
      "         c0        c1        c2\n",
      "0  7.177705  1.728994  4.986428\n",
      "1  6.371104  1.447788  1.436235\n",
      "2  3.292839  4.296426  3.586400\n",
      "3  4.614004  2.402558  2.981278\n",
      "4  6.720537  6.301229  5.329905\n"
     ]
    }
   ],
   "source": [
    "import numpy as np\n",
    "import pandas as pd\n",
    "\n",
    "D = np.random.uniform(low=0.0,high=10,size=(10,3))\n",
    "df = pd.DataFrame(data=D,columns=['c0','c1','c2'])\n",
    "print(df.head())"
   ]
  },
  {
   "cell_type": "code",
   "execution_count": 52,
   "metadata": {},
   "outputs": [
    {
     "name": "stdout",
     "output_type": "stream",
     "text": [
      "soma colunas\n",
      "c0    56.932189\n",
      "c1    68.087343\n",
      "c2    68.600507\n",
      "dtype: float64\n",
      "soma linhas\n",
      "0    17.943490\n",
      "1    20.501484\n",
      "2    21.414199\n",
      "3    22.038214\n",
      "4    18.450649\n",
      "5    17.665188\n",
      "6    24.771869\n",
      "7    17.894516\n",
      "8    12.481017\n",
      "9    20.459411\n",
      "dtype: float64\n",
      "-----\n",
      "media colunas\n",
      "c0    5.693219\n",
      "c1    6.808734\n",
      "c2    6.860051\n",
      "dtype: float64\n",
      "media linhas\n",
      "0    5.981163\n",
      "1    6.833828\n",
      "2    7.138066\n",
      "3    7.346071\n",
      "4    6.150216\n",
      "5    5.888396\n",
      "6    8.257290\n",
      "7    5.964839\n",
      "8    4.160339\n",
      "9    6.819804\n",
      "dtype: float64\n"
     ]
    }
   ],
   "source": [
    "# soma por eixo\n",
    "print('soma colunas')\n",
    "print(df.sum(axis=0))\n",
    "print('soma linhas')\n",
    "print(df.sum(axis=1))\n",
    "\n",
    "print(5*'-')\n",
    "# média por eixo\n",
    "print('media colunas')\n",
    "print(df.mean(axis=0))\n",
    "print('media linhas')\n",
    "print(df.mean(axis=1))"
   ]
  },
  {
   "cell_type": "code",
   "execution_count": 53,
   "metadata": {},
   "outputs": [
    {
     "name": "stdout",
     "output_type": "stream",
     "text": [
      "              c0         c1         c2\n",
      "count  10.000000  10.000000  10.000000\n",
      "mean    5.693219   6.808734   6.860051\n",
      "std     2.980142   2.452790   2.547828\n",
      "min     0.204009   2.805853   2.399081\n",
      "25%     3.467489   4.900568   5.597106\n",
      "50%     6.468013   7.446301   7.076185\n",
      "75%     7.954400   8.388900   9.063026\n",
      "max     9.239908   9.877927   9.912989\n"
     ]
    }
   ],
   "source": [
    "# resumo estatístico\n",
    "print(df.describe())"
   ]
  },
  {
   "cell_type": "code",
   "execution_count": 55,
   "metadata": {},
   "outputs": [
    {
     "name": "stdout",
     "output_type": "stream",
     "text": [
      "         c0        c1        c2\n",
      "0  4.623471  7.048776  6.271244\n",
      "1  3.082162  8.112558  9.306764\n",
      "2  2.577903  9.556812  9.279485\n",
      "3  8.078598  6.192426  7.767190\n",
      "4  8.608306  4.469949  5.372394\n",
      "5  7.581805  3.698204  6.385179\n",
      "6  7.015055  7.843825  9.912989\n",
      "7  5.920972  8.481014  3.492531\n",
      "8  0.204009  9.877927  2.399081\n",
      "9  9.239908  2.805853  8.413651\n",
      "          c0         c1         c2\n",
      "0   4.623471   7.048776   6.271244\n",
      "1   7.705633  15.161334  15.578008\n",
      "2  10.283535  24.718146  24.857492\n",
      "3  18.362133  30.910572  32.624683\n",
      "4  26.970439  35.380521  37.997077\n",
      "5  34.552245  39.078725  44.382256\n",
      "6  41.567300  46.922550  54.295244\n",
      "7  47.488272  55.403564  57.787775\n",
      "8  47.692281  65.281490  60.186856\n",
      "9  56.932189  68.087343  68.600507\n"
     ]
    }
   ],
   "source": [
    "# soma cumulativa\n",
    "print(df)\n",
    "print(df.cumsum())"
   ]
  },
  {
   "cell_type": "markdown",
   "metadata": {},
   "source": [
    "## Dados categóricos\n",
    "- O tipo  `Categorical` corresponde a uma variável categórica \n",
    "- Um dado categórico só pode assumir uma quantidade limitada e geralmente fixa de valores\n",
    "- A ordenação é definida pela ordem de aparição e não a pela ordem lexicográfica\n",
    "- Esse tipo pode ser criado explicitamente mas é também frequentemente retornado por outros métodos"
   ]
  },
  {
   "cell_type": "markdown",
   "metadata": {},
   "source": [
    "#### Discretização e Bin (pandas cut)"
   ]
  },
  {
   "cell_type": "code",
   "execution_count": 42,
   "metadata": {},
   "outputs": [
    {
     "name": "stdout",
     "output_type": "stream",
     "text": [
      "[(18, 25], (18, 25], (18, 25], (25, 35], (18, 25], ..., (25, 35], (60, 100], (35, 60], (35, 60], (25, 35]]\n",
      "Length: 12\n",
      "Categories (4, interval[int64]): [(18, 25] < (25, 35] < (35, 60] < (60, 100]]\n"
     ]
    }
   ],
   "source": [
    "ages = [20,22,25,27,21,23,37,31,61,45,41,32]\n",
    "bins = [18,25,35,60,100]\n",
    "catego = pd.cut(ages,bins)\n",
    "\n",
    "print(catego)"
   ]
  },
  {
   "cell_type": "code",
   "execution_count": 130,
   "metadata": {},
   "outputs": [
    {
     "name": "stdout",
     "output_type": "stream",
     "text": [
      "[0 0 0 1 0 0 2 1 3 2 2 1]\n",
      "IntervalIndex([(18, 25], (25, 35], (35, 60], (60, 100]]\n",
      "              closed='right',\n",
      "              dtype='interval[int64]')\n",
      "(18, 25]     5\n",
      "(35, 60]     3\n",
      "(25, 35]     3\n",
      "(60, 100]    1\n",
      "dtype: int64\n"
     ]
    }
   ],
   "source": [
    "print(catego.codes)\n",
    "print(catego.categories)\n",
    "print(pd.value_counts(catego))"
   ]
  },
  {
   "cell_type": "code",
   "execution_count": 44,
   "metadata": {},
   "outputs": [
    {
     "name": "stdout",
     "output_type": "stream",
     "text": [
      "(0.798, 0.896]      8\n",
      "(0.00862, 0.108]    7\n",
      "(0.699, 0.798]      6\n",
      "(0.207, 0.305]      6\n",
      "(0.896, 0.995]      5\n",
      "(0.108, 0.207]      5\n",
      "(0.305, 0.404]      4\n",
      "(0.601, 0.699]      3\n",
      "(0.502, 0.601]      3\n",
      "(0.404, 0.502]      3\n",
      "dtype: int64\n"
     ]
    }
   ],
   "source": [
    "# o método cut pode ser usado de várias formas\n",
    "x = np.random.uniform(low=0,high=1,size=50)\n",
    "distr = pd.cut(x,10) # cria 10 bins igualmente espaçados\n",
    "\n",
    "hist = pd.value_counts(distr)\n",
    "print(hist)"
   ]
  }
 ],
 "metadata": {
  "kernelspec": {
   "display_name": "Python 3",
   "language": "python",
   "name": "python3"
  },
  "language_info": {
   "codemirror_mode": {
    "name": "ipython",
    "version": 3
   },
   "file_extension": ".py",
   "mimetype": "text/x-python",
   "name": "python",
   "nbconvert_exporter": "python",
   "pygments_lexer": "ipython3",
   "version": "3.8.2"
  },
  "toc": {
   "base_numbering": 1,
   "nav_menu": {},
   "number_sections": true,
   "sideBar": true,
   "skip_h1_title": false,
   "title_cell": "Table of Contents",
   "title_sidebar": "Contents",
   "toc_cell": false,
   "toc_position": {},
   "toc_section_display": true,
   "toc_window_display": false
  }
 },
 "nbformat": 4,
 "nbformat_minor": 2
}
