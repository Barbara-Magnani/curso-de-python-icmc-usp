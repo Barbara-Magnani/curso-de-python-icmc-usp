{
 "cells": [
  {
   "cell_type": "markdown",
   "metadata": {},
   "source": [
    "# <span style=\"color:blue\">Programação Python para Ciência de Dados</span>\n",
    "\n",
    "## <span style=\"color:blue\">Prática Módulo 1: Python I</span>\n",
    "\n",
    "Nesses exercícios estaremos lidando com dados reais de gastos de deputados. Temos informações referentes a diversos pedidos de reembolso, tendo o nome do deputado, seu estado, seu partido e o valor do reembolso solicitado.\n",
    "\n",
    "\n",
    "Estaremos usando uma versão tratada da seguinte base de dados:\n",
    "\n",
    "https://www.kaggle.com/epattaro/brazils-house-of-deputies-reimbursements"
   ]
  },
  {
   "cell_type": "markdown",
   "metadata": {},
   "source": [
    "Ignore o código a seguir por enquanto, estamos somente carregando os dados. Logo veremos tudo que é necessário para entender como ele funciona."
   ]
  },
  {
   "cell_type": "code",
   "execution_count": 2,
   "metadata": {},
   "outputs": [],
   "source": [
    "def carregar_dados():\n",
    "    \"\"\"\n",
    "    Função que carrega a base de dados como uma lista de tuplas\n",
    "    \"\"\"\n",
    "    with open('gastos_deputados.csv', 'r', encoding = 'utf-8') as f:\n",
    "        content = f.readlines()\n",
    "    content = [x.strip() for x in content]\n",
    "    data = [line.split(',') for line in content]\n",
    "    for line in data:\n",
    "        line[-1] = float(line[-1])\n",
    "    data = [tuple(line) for line in data]\n",
    "\n",
    "    return data"
   ]
  },
  {
   "cell_type": "markdown",
   "metadata": {},
   "source": [
    "O código abaixo carrega os dados que iremos trabalhar. Eles estão organizados em uma lista de tuplas, onde cada tupla contém as informações de um reembolso. Como a seguir:\n",
    "\n",
    "```python\n",
    "dados = [(NOME, ESTADO, PARTIDO, VALOR),\n",
    "         (NOME, ESTADO, PARTIDO, VALOR),\n",
    "         ...\n",
    "         (NOME, ESTADO, PARTIDO, VALOR)]\n",
    "```"
   ]
  },
  {
   "cell_type": "code",
   "execution_count": 3,
   "metadata": {},
   "outputs": [],
   "source": [
    "dados = carregar_dados()"
   ]
  },
  {
   "cell_type": "markdown",
   "metadata": {},
   "source": [
    "### Perguntas\n",
    "#### 1- Qual é o valor total solicitado em reembolsos?\n",
    "#### 2- Qual é o valor médio solicitado em reembolsos?\n",
    "#### 3- Qual estado possui um valor total maior em reembolsos, GO ou MT?\n",
    "#### 4- Qual região possui um valor médio menor em reembolsos, sul ou sudeste?\n",
    "#### 6- Qual o total de pedidos realizados por deputados do DEM-RJ?\n",
    "#### 7- Crie uma lista apenas com os pedidos maiores que 500 reais\n",
    "#### 8- Qual é o número de pedidos realizados por cada partido?\n",
    "#### 9- Liste todos os partidos presentes na base (dica: pesquise pelo tipo de dados *set*)\n",
    "#### 10 **- Liste os deputados que possuem solicitações de reembolso maiores que 10 mil reais  \n",
    "\n",
    "** faça upload de um notebook com a solução da questão 10 no google drive no diretório: <br><br>\n",
    "[http://tiny.cc/dsvycz](http://tiny.cc/dsvycz)\n",
    "\n",
    "O nome do notebook deve ser: <br><br>\n",
    "_seuprimeironome-seuultimonome-modulo1.ipynb_\n",
    "\n",
    "Por exemplo: _gustavo-nonato-modulo1.ipynb_\n"
   ]
  },
  {
   "cell_type": "code",
   "execution_count": 96,
   "metadata": {},
   "outputs": [
    {
     "name": "stdout",
     "output_type": "stream",
     "text": [
      "Valor total: R$ 2041293.08\n"
     ]
    }
   ],
   "source": [
    "# 1- Qual é o valor total solicitado em reembolsos?\n",
    "valores = [linha[3] for linha in dados]\n",
    "total = sum(valores)\n",
    "print('Valor total: R$ %.2f' %total)"
   ]
  },
  {
   "cell_type": "code",
   "execution_count": 97,
   "metadata": {},
   "outputs": [
    {
     "name": "stdout",
     "output_type": "stream",
     "text": [
      "Valor médio: R$ 603.58\n"
     ]
    }
   ],
   "source": [
    "# 2- Qual é o valor médio solicitado em reembolsos?\n",
    "from statistics import mean\n",
    "print('Valor médio: R$ %.2f' %mean(valores))"
   ]
  },
  {
   "cell_type": "code",
   "execution_count": 98,
   "metadata": {},
   "outputs": [
    {
     "name": "stdout",
     "output_type": "stream",
     "text": [
      "GO possui maior valor em reembolsos.\n"
     ]
    }
   ],
   "source": [
    "# 3- Qual estado possui um valor total maior em reembolsos, GO ou MT?\n",
    "lista_GO = [linha[3] for linha in dados if 'GO' in linha]\n",
    "lista_MT = [linha[3] for linha in dados if 'MT' in linha] # -> lista de dados do MT\n",
    "\n",
    "if sum(lista_GO) > sum(lista_MT):\n",
    "    print('GO possui maior valor em reembolsos.')\n",
    "elif sum(lista_GO) < sum(lista_MT):\n",
    "    print('MT possui maior valor em reembolsos.')\n",
    "else:\n",
    "    print('Os valores são iguais.')"
   ]
  },
  {
   "cell_type": "code",
   "execution_count": null,
   "metadata": {},
   "outputs": [],
   "source": [
    "# 4- Qual região possui um valor médio menor em reembolsos, sul ou sudeste?\n",
    "estados_sudeste = ['ES','MG','RJ','SP']\n",
    "estados_sul = ['PR','RS','SC']\n",
    "\n",
    "media_sul = mean([linha[3] for linha in dados if linha[1] in estados_sul])\n",
    "media_sudeste = mean([linha[3] for linha in dados if linha[1] in estados_sudeste])\n",
    "\n",
    "dic_medias = dict(zip(['sul','sudeste'],[media_sul, media_sudeste]))\n",
    "for k,v in dic_medias.items():\n",
    "    if v == max(dic_medias.values()):\n",
    "        print('Região {}.'.format(k))"
   ]
  },
  {
   "cell_type": "code",
   "execution_count": 99,
   "metadata": {},
   "outputs": [
    {
     "name": "stdout",
     "output_type": "stream",
     "text": [
      "Total DEM-RJ: R$ 26682.97\n"
     ]
    }
   ],
   "source": [
    "# 6- Qual o total de pedidos realizados por deputados do DEM-RJ\n",
    "total_DEM_RJ = sum([linha[3] for linha in dados if {'DEM', 'RJ'}.issubset(linha)])\n",
    "print('Total DEM-RJ: R$ %.2f'%total_DEM_RJ)"
   ]
  },
  {
   "cell_type": "code",
   "execution_count": 100,
   "metadata": {},
   "outputs": [],
   "source": [
    "# 7- Crie uma lista apenas com os pedidos maiores que 500 reais\n",
    "maior_500 = [linha[3] for linha in dados if linha[3] > 500]\n",
    "# print(maior_500)"
   ]
  },
  {
   "cell_type": "code",
   "execution_count": 101,
   "metadata": {},
   "outputs": [
    {
     "data": {
      "text/plain": [
       "Counter({'PSB': 207,\n",
       "         'PTB': 114,\n",
       "         'PMDB': 429,\n",
       "         'PSOL': 36,\n",
       "         'SD': 83,\n",
       "         'PSDB': 349,\n",
       "         'PTN': 90,\n",
       "         'PT': 485,\n",
       "         'PDT': 116,\n",
       "         'PPS': 61,\n",
       "         'PP': 320,\n",
       "         'PR': 283,\n",
       "         'PSD': 173,\n",
       "         'PROS': 33,\n",
       "         'PRB': 129,\n",
       "         'PHS': 50,\n",
       "         'DEM': 160,\n",
       "         'REDE': 26,\n",
       "         'PV': 54,\n",
       "         'PCdoB': 96,\n",
       "         'PMB': 6,\n",
       "         'PSC': 29,\n",
       "         'PTdoB': 19,\n",
       "         'PEN': 10,\n",
       "         'PRP': 3,\n",
       "         'PSL': 18,\n",
       "         'PRTB': 3})"
      ]
     },
     "execution_count": 101,
     "metadata": {},
     "output_type": "execute_result"
    }
   ],
   "source": [
    "# 8- Qual é o número de pedidos realizados por cada partido?\n",
    "from collections import Counter\n",
    "Counter([linha[2] for linha in dados])\n",
    "  "
   ]
  },
  {
   "cell_type": "code",
   "execution_count": 102,
   "metadata": {},
   "outputs": [
    {
     "data": {
      "text/plain": [
       "{'DEM',\n",
       " 'PCdoB',\n",
       " 'PDT',\n",
       " 'PEN',\n",
       " 'PHS',\n",
       " 'PMB',\n",
       " 'PMDB',\n",
       " 'PP',\n",
       " 'PPS',\n",
       " 'PR',\n",
       " 'PRB',\n",
       " 'PROS',\n",
       " 'PRP',\n",
       " 'PRTB',\n",
       " 'PSB',\n",
       " 'PSC',\n",
       " 'PSD',\n",
       " 'PSDB',\n",
       " 'PSL',\n",
       " 'PSOL',\n",
       " 'PT',\n",
       " 'PTB',\n",
       " 'PTN',\n",
       " 'PTdoB',\n",
       " 'PV',\n",
       " 'REDE',\n",
       " 'SD'}"
      ]
     },
     "execution_count": 102,
     "metadata": {},
     "output_type": "execute_result"
    }
   ],
   "source": [
    "# 9- Liste todos os partidos presentes na base (dica: pesquise pelo tipo de dados *set*)\n",
    "set([linha[2] for linha in dados])"
   ]
  },
  {
   "cell_type": "code",
   "execution_count": 4,
   "metadata": {},
   "outputs": [
    {
     "name": "stdout",
     "output_type": "stream",
     "text": [
      "['BENITO GAMA', 'MAJOR OLIMPIO', 'BETINHO GOMES', 'PAULO ABI-ACKEL', 'ADELMO CARNEIRO LEÃO', 'JOZI ARAÚJO', 'ELIZIANE GAMA', 'ZECA DIRCEU', 'CRISTIANE BRASIL', 'WALDENOR PEREIRA', 'RODRIGO MAIA', 'MARCO MAIA', 'MÁRIO HERINGER', 'LEÔNIDAS CRISTINO', 'MISAEL VARELLA', 'SANDRO ALEX', 'MÁRIO NEGROMONTE JR.', 'ELIZEU DIONIZIO', 'OTAVIO LEITE', 'DR. JORGE SILVA', 'LUIS CARLOS HEINZE', 'ADALBERTO CAVALCANTI', 'JÉSSICA SALES', 'JUSCELINO FILHO', 'MARCELO SQUASSONI', 'GORETE PEREIRA', 'EFRAIM FILHO', 'AFONSO FLORENCE', 'JÚLIA MARINHO', 'DANIEL ALMEIDA', 'MOISÉS DINIZ', 'OSMAR SERRAGLIO', 'JOÃO RODRIGUES', 'ORLANDO SILVA', 'NELSON MARCHEZAN JUNIOR', 'JONY MARCOS', 'JOSÉ CARLOS ALELUIA', 'JEAN WYLLYS', 'ALEXANDRE BALDY', 'ROBERTO ALVES', 'HIRAN GONÇALVES', 'MILTON MONTI', 'TAKAYAMA', 'FÁBIO MITIDIERI', 'JOÃO CASTELO', 'JHONATAN DE JESUS']\n"
     ]
    }
   ],
   "source": [
    "# 10 **- Liste os deputados que possuem solicitações de reembolso maiores que 10 mil reais\n",
    "\n",
    "###     SOLUÇÃO 1     ###\n",
    "\n",
    "dic = {}\n",
    "\n",
    "for deputado, _, _, valor in dados:\n",
    "    \n",
    "    if deputado not in dic:\n",
    "        dic[deputado] = valor\n",
    "        \n",
    "    else:\n",
    "        dic[deputado] += valor\n",
    "        \n",
    "lista_10_mil = []\n",
    "\n",
    "for deputado, valor in dic.items():\n",
    "    \n",
    "    if valor >= 10000:\n",
    "        lista_10_mil += [deputado]\n",
    "        \n",
    "print( lista_10_mil)\n",
    "\n"
   ]
  },
  {
   "cell_type": "code",
   "execution_count": 105,
   "metadata": {},
   "outputs": [
    {
     "name": "stdout",
     "output_type": "stream",
     "text": [
      "['JOÃO CASTELO', 'BENITO GAMA', 'GORETE PEREIRA', 'ORLANDO SILVA', 'MÁRIO NEGROMONTE JR.', 'WALDENOR PEREIRA', 'OSMAR SERRAGLIO', 'MILTON MONTI', 'JOSÉ CARLOS ALELUIA', 'AFONSO FLORENCE', 'SANDRO ALEX', 'ELIZIANE GAMA', 'TAKAYAMA', 'MAJOR OLIMPIO', 'ROBERTO ALVES', 'LEÔNIDAS CRISTINO', 'ADELMO CARNEIRO LEÃO', 'ELIZEU DIONIZIO', 'FÁBIO MITIDIERI', 'MARCELO SQUASSONI', 'JÉSSICA SALES', 'BETINHO GOMES', 'OTAVIO LEITE', 'NELSON MARCHEZAN JUNIOR', 'ZECA DIRCEU', 'JOÃO RODRIGUES', 'JONY MARCOS', 'MOISÉS DINIZ', 'EFRAIM FILHO', 'JOZI ARAÚJO', 'JUSCELINO FILHO', 'JEAN WYLLYS', 'ADALBERTO CAVALCANTI', 'DR. JORGE SILVA', 'ALEXANDRE BALDY', 'MARCO MAIA', 'MÁRIO HERINGER', 'HIRAN GONÇALVES', 'JHONATAN DE JESUS', 'RODRIGO MAIA', 'CRISTIANE BRASIL', 'DANIEL ALMEIDA', 'JÚLIA MARINHO', 'PAULO ABI-ACKEL', 'LUIS CARLOS HEINZE', 'MISAEL VARELLA']\n"
     ]
    }
   ],
   "source": [
    "###     SOLUÇÃO 2     ###\n",
    "\n",
    "lista_deputados = list(set(linha[0] for linha in dados))\n",
    "lista_total = []\n",
    "for deputado in lista_deputados:\n",
    "    gastos = [linha[3] for linha in dados if deputado in linha]\n",
    "    lista_total += [sum(gastos)]\n",
    "\n",
    "dic_gastos = dict(zip(lista_deputados,lista_total))\n",
    "\n",
    "lista_maior_10_mil = []\n",
    "for deputado, gasto in dic_gastos.items():\n",
    "    if gasto >= 10000:\n",
    "        lista_maior_10_mil += [deputado]\n",
    "        \n",
    "print(lista_maior_10_mil)"
   ]
  },
  {
   "cell_type": "code",
   "execution_count": 23,
   "metadata": {},
   "outputs": [
    {
     "data": {
      "text/plain": [
       "[11210.45,\n",
       " 11767.42,\n",
       " 12893.34,\n",
       " 13236.17,\n",
       " 15120.839999999998,\n",
       " 10227.01,\n",
       " 11412.19,\n",
       " 12504.970000000001,\n",
       " 15798.320000000002,\n",
       " 17859.039999999997,\n",
       " 20917.33,\n",
       " 11695.41,\n",
       " 10607.789999999999,\n",
       " 10248.16,\n",
       " 12735.74,\n",
       " 28843.02,\n",
       " 10992.800000000001,\n",
       " 11140.7,\n",
       " 10240.99,\n",
       " 10763.53,\n",
       " 10546.39,\n",
       " 13495.65,\n",
       " 17821.26,\n",
       " 21076.31,\n",
       " 11624.19,\n",
       " 12950.39,\n",
       " 12161.07,\n",
       " 32023.54,\n",
       " 55772.42,\n",
       " 13496.93,\n",
       " 24500.0,\n",
       " 17687.0,\n",
       " 11263.57,\n",
       " 16957.16,\n",
       " 17300.190000000002,\n",
       " 11247.65,\n",
       " 10148.65,\n",
       " 10080.0,\n",
       " 21739.37,\n",
       " 11602.89,\n",
       " 12061.34,\n",
       " 11120.529999999999,\n",
       " 17657.540000000005,\n",
       " 11940.119999999999,\n",
       " 20670.34,\n",
       " 10500.0]"
      ]
     },
     "execution_count": 23,
     "metadata": {},
     "output_type": "execute_result"
    }
   ],
   "source": [
    "def maior_10000(num):\n",
    "    return num>10000\n",
    "\n",
    "list(filter(maior_10000,list(dic.values())))"
   ]
  },
  {
   "cell_type": "code",
   "execution_count": null,
   "metadata": {},
   "outputs": [],
   "source": []
  }
 ],
 "metadata": {
  "kernelspec": {
   "display_name": "Python 3",
   "language": "python",
   "name": "python3"
  },
  "language_info": {
   "codemirror_mode": {
    "name": "ipython",
    "version": 3
   },
   "file_extension": ".py",
   "mimetype": "text/x-python",
   "name": "python",
   "nbconvert_exporter": "python",
   "pygments_lexer": "ipython3",
   "version": "3.7.3"
  },
  "toc": {
   "base_numbering": 1,
   "nav_menu": {},
   "number_sections": true,
   "sideBar": true,
   "skip_h1_title": false,
   "title_cell": "Table of Contents",
   "title_sidebar": "Contents",
   "toc_cell": false,
   "toc_position": {},
   "toc_section_display": true,
   "toc_window_display": false
  }
 },
 "nbformat": 4,
 "nbformat_minor": 2
}
