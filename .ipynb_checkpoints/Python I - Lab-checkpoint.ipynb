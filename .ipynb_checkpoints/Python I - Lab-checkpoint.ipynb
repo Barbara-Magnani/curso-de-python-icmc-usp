{
 "cells": [
  {
   "cell_type": "markdown",
   "metadata": {},
   "source": [
    "# <span style=\"color:blue\">Programação Python para Ciência de Dados</span>\n",
    "\n",
    "## <span style=\"color:blue\">Exercícios Python I</span>"
   ]
  },
  {
   "cell_type": "markdown",
   "metadata": {},
   "source": [
    "#### 1) Declare uma variável *preco_dolar* e outra *preco_celular* com os valores 3.98 e 849, respectivamente. Realize a conversão do preço desse celular para real e imprima o resultado"
   ]
  },
  {
   "cell_type": "code",
   "execution_count": 3,
   "metadata": {},
   "outputs": [
    {
     "name": "stdout",
     "output_type": "stream",
     "text": [
      "3379.02\n"
     ]
    }
   ],
   "source": [
    "preco_dolar = 3.98\n",
    "preco_celular = 849\n",
    "preco_celular_real = preco_dolar*preco_celular\n",
    "print(preco_celular_real)"
   ]
  },
  {
   "cell_type": "markdown",
   "metadata": {},
   "source": [
    "#### 2) Supondo produtos que custam 35.90, 23.40 e 12.49 calcule a média de preço entre eles utilizando os operadores do Python"
   ]
  },
  {
   "cell_type": "code",
   "execution_count": 7,
   "metadata": {},
   "outputs": [
    {
     "name": "stdout",
     "output_type": "stream",
     "text": [
      "23.929999999999996\n"
     ]
    }
   ],
   "source": [
    "p=[35.9,23.4,12.49]\n",
    "media_p=sum(p)/len(p)\n",
    "print(media_p)"
   ]
  },
  {
   "cell_type": "code",
   "execution_count": 55,
   "metadata": {},
   "outputs": [
    {
     "name": "stdout",
     "output_type": "stream",
     "text": [
      "23.93\n"
     ]
    }
   ],
   "source": [
    "from statistics import mean # shift tab para help\n",
    "p=[35.9,23.4,12.49]\n",
    "print(mean(p))"
   ]
  },
  {
   "cell_type": "markdown",
   "metadata": {},
   "source": [
    "#### 3) Imprima os primeiros quatro elementos da lista a seguir"
   ]
  },
  {
   "cell_type": "code",
   "execution_count": 9,
   "metadata": {},
   "outputs": [
    {
     "name": "stdout",
     "output_type": "stream",
     "text": [
      "['python', 'java', 'c++', 'javascript']\n"
     ]
    }
   ],
   "source": [
    "minha_lista = ['python', 'java', 'c++', 'javascript', 'c#', 'go', 'r']\n",
    "\n",
    "# Insira seu código a partir daqui\n",
    "print(minha_lista[:4])"
   ]
  },
  {
   "cell_type": "code",
   "execution_count": 62,
   "metadata": {},
   "outputs": [
    {
     "name": "stdout",
     "output_type": "stream",
     "text": [
      "python\n",
      "java\n",
      "c++\n",
      "javascript\n"
     ]
    }
   ],
   "source": [
    "for i in minha_lista[:4]:\n",
    "    print(i)"
   ]
  },
  {
   "cell_type": "markdown",
   "metadata": {},
   "source": [
    "#### 4) Dada a seguinte lista com valores calcule e imprima a soma total"
   ]
  },
  {
   "cell_type": "code",
   "execution_count": 10,
   "metadata": {},
   "outputs": [
    {
     "name": "stdout",
     "output_type": "stream",
     "text": [
      "368\n"
     ]
    }
   ],
   "source": [
    "lista_valores = [4, 6, 2, 34, 76, 123, 1, 9, 5, 76, 32]\n",
    "\n",
    "# Insira seu código a partir daqui\n",
    "print(sum(lista_valores))"
   ]
  },
  {
   "cell_type": "markdown",
   "metadata": {},
   "source": [
    "#### 5) Dada lista de nomes a seguir:"
   ]
  },
  {
   "cell_type": "code",
   "execution_count": 22,
   "metadata": {},
   "outputs": [],
   "source": [
    "meus_nomes = ['Matheus', 'Gabriel', 'Gustavo', 'Hugo', 'Ricardo', 'Rui', 'Guilherme', 'Luiz']"
   ]
  },
  {
   "cell_type": "markdown",
   "metadata": {},
   "source": [
    "##### a) Imprima apenas nomes que começam com a letra G"
   ]
  },
  {
   "cell_type": "code",
   "execution_count": 21,
   "metadata": {},
   "outputs": [
    {
     "name": "stdout",
     "output_type": "stream",
     "text": [
      "Gabriel\n",
      "Gustavo\n",
      "Guilherme\n"
     ]
    }
   ],
   "source": [
    "for name in meus_nomes:\n",
    "    if name[0]=='G':\n",
    "        print(name)"
   ]
  },
  {
   "cell_type": "code",
   "execution_count": 87,
   "metadata": {},
   "outputs": [
    {
     "name": "stdout",
     "output_type": "stream",
     "text": [
      "['Matheus', 'Gabriel', 'Gustavo', 'Hugo', 'Ricardo', 'Rui', 'Guilherme', 'Luiz']\n"
     ]
    }
   ],
   "source": [
    "meus_nomes_G = [name for name in meus_nomes]\n",
    "print(meus_nomes_G)"
   ]
  },
  {
   "cell_type": "markdown",
   "metadata": {},
   "source": [
    "##### b) Imprima apenas nomes que começam com seis ou menos letras"
   ]
  },
  {
   "cell_type": "code",
   "execution_count": 24,
   "metadata": {},
   "outputs": [
    {
     "name": "stdout",
     "output_type": "stream",
     "text": [
      "Hugo\n",
      "Rui\n",
      "Luiz\n"
     ]
    }
   ],
   "source": [
    "for name in meus_nomes:\n",
    "    if len(name)<=6:\n",
    "        print(name)"
   ]
  },
  {
   "cell_type": "markdown",
   "metadata": {},
   "source": [
    "#### 6) Dada a lista de números a seguir, crie uma lista apenas com os números multiplos de 3"
   ]
  },
  {
   "cell_type": "code",
   "execution_count": 28,
   "metadata": {},
   "outputs": [
    {
     "name": "stdout",
     "output_type": "stream",
     "text": [
      "[342, 12, 45, 123, 567]\n"
     ]
    }
   ],
   "source": [
    "meus_numeros = [1, 56, 342, 12, 781, 23, 43, 45, 123, 567]\n",
    "\n",
    "# Insira seu código a partir daqui\n",
    "lista=[]\n",
    "for num in meus_numeros:\n",
    "    if num%3==0:\n",
    "        lista+=[num]\n",
    "print(lista)"
   ]
  },
  {
   "cell_type": "code",
   "execution_count": 112,
   "metadata": {},
   "outputs": [
    {
     "name": "stdout",
     "output_type": "stream",
     "text": [
      "[342, 12, 45, 123, 567]\n"
     ]
    }
   ],
   "source": [
    "lista=[num for num in meus_numeros if num%3==0]\n",
    "print(lista)"
   ]
  },
  {
   "cell_type": "markdown",
   "metadata": {},
   "source": [
    "#### 7) Considerando uma lista onde cada elemento é uma lista que representa notas dadas a um produto, calcule a média de notas de cada produto, salvando o resultado em uma nova lista"
   ]
  },
  {
   "cell_type": "code",
   "execution_count": 41,
   "metadata": {},
   "outputs": [
    {
     "name": "stdout",
     "output_type": "stream",
     "text": [
      "[2.6666666666666665, 5.7749999999999995, 8.16, 8.7, 3.5250000000000004]\n"
     ]
    }
   ],
   "source": [
    "minhas_notas = [[2.3, 4.5, 1.2], # Notas do produto 1\n",
    "                [5.4, 3.6, 7.9, 6.2], # Notas do produto 2\n",
    "                [8.1, 8.9, 6.5, 7.9, 9.4], # ...\n",
    "                [9.8, 7.6],\n",
    "                [3.2, 4.5, 1.6, 4.8]]\n",
    "\n",
    "# Insira seu código a partir daqui\n",
    "lista_media=[]\n",
    "for notas in minhas_notas:\n",
    "    media_notas=sum(notas)/len(notas)\n",
    "    lista_media+=[media_notas]\n",
    "    \n",
    "print(lista_media)\n"
   ]
  },
  {
   "cell_type": "markdown",
   "metadata": {},
   "source": [
    "#### 8) Dado o dicionário abaixo, o qual contém preços de imóveis em uma cidade, escreva códigos para encontrar:"
   ]
  },
  {
   "cell_type": "code",
   "execution_count": 2,
   "metadata": {},
   "outputs": [],
   "source": [
    "preco_imoveis = {'Apartamento centro': 1250000,\n",
    "               'Apartamento suburbio': 500000,\n",
    "               'Casa cinco quartos': 750000,\n",
    "               'Casa com garagem': 300000,\n",
    "               'Casa com piscina': 1200000,\n",
    "               'Sitio pequeno': 3000000,\n",
    "               'Sitio com lago': 5500000}"
   ]
  },
  {
   "cell_type": "markdown",
   "metadata": {},
   "source": [
    "##### a) Qual é o preço total?"
   ]
  },
  {
   "cell_type": "code",
   "execution_count": 3,
   "metadata": {},
   "outputs": [
    {
     "data": {
      "text/plain": [
       "12500000"
      ]
     },
     "execution_count": 3,
     "metadata": {},
     "output_type": "execute_result"
    }
   ],
   "source": [
    "sum(preco_imoveis.values())"
   ]
  },
  {
   "cell_type": "markdown",
   "metadata": {},
   "source": [
    "##### b) Quem possui o maior preço?"
   ]
  },
  {
   "cell_type": "code",
   "execution_count": 4,
   "metadata": {},
   "outputs": [
    {
     "name": "stdout",
     "output_type": "stream",
     "text": [
      "Sitio com lago\n"
     ]
    }
   ],
   "source": [
    "for k,v in preco_imoveis.items():\n",
    "    if v == max(preco_imoveis.values()):\n",
    "        print(k)"
   ]
  },
  {
   "cell_type": "code",
   "execution_count": 41,
   "metadata": {},
   "outputs": [],
   "source": [
    "# repetir o exercicio sem o for com funções nativas itemgetter\n"
   ]
  },
  {
   "cell_type": "markdown",
   "metadata": {},
   "source": [
    "#### 9) Escreva código para contar o número de ocorrencias de cada letra na string fornecida"
   ]
  },
  {
   "cell_type": "code",
   "execution_count": 32,
   "metadata": {},
   "outputs": [
    {
     "name": "stdout",
     "output_type": "stream",
     "text": [
      "{'c': 2, 'i': 3, 'v': 1, 't': 1, 'n': 2, 's': 2, 'e': 2, 'a': 1}\n"
     ]
    }
   ],
   "source": [
    "minha_string = \"scientia vinces\"\n",
    "\n",
    "# Insira seu código a partir daqui\n",
    "lista_letra=[]\n",
    "lista_contagem=[]\n",
    "for letra in set(''.join(minha_string.split())):\n",
    "    lista_letra+=[letra]\n",
    "    lista_contagem+=[minha_string.count(letra)]\n",
    "    \n",
    "lista=dict(zip(lista_letra,lista_contagem))\n",
    "\n",
    "print(lista)"
   ]
  },
  {
   "cell_type": "code",
   "execution_count": 165,
   "metadata": {},
   "outputs": [
    {
     "data": {
      "text/plain": [
       "Counter({'s': 2,\n",
       "         'c': 2,\n",
       "         'i': 3,\n",
       "         'e': 2,\n",
       "         'n': 2,\n",
       "         't': 1,\n",
       "         'a': 1,\n",
       "         ' ': 1,\n",
       "         'v': 1})"
      ]
     },
     "execution_count": 165,
     "metadata": {},
     "output_type": "execute_result"
    }
   ],
   "source": [
    "from collections import Counter\n",
    "Counter(minha_string)"
   ]
  },
  {
   "cell_type": "markdown",
   "metadata": {},
   "source": [
    "#### 10) Escreva código que seleciona aleatóriamente um nome da lista de nomes fornecida"
   ]
  },
  {
   "cell_type": "code",
   "execution_count": 166,
   "metadata": {},
   "outputs": [
    {
     "name": "stdout",
     "output_type": "stream",
     "text": [
      "Zico\n"
     ]
    }
   ],
   "source": [
    "meus_nomes = ['Waldir Peres', 'Luizinho', 'Oscar', \n",
    "              'Junior', 'Leandro', 'Cerezo', \n",
    "              'Falcão', 'Éder', 'Zico', 'Sócrates', 'Serginho']\n",
    "\n",
    "# Insira seu código a partir daqui\n",
    "import random\n",
    "print(meus_nomes[random.randrange(len(meus_nomes))])"
   ]
  },
  {
   "cell_type": "code",
   "execution_count": null,
   "metadata": {},
   "outputs": [],
   "source": []
  }
 ],
 "metadata": {
  "kernelspec": {
   "display_name": "Python 3",
   "language": "python",
   "name": "python3"
  },
  "language_info": {
   "codemirror_mode": {
    "name": "ipython",
    "version": 3
   },
   "file_extension": ".py",
   "mimetype": "text/x-python",
   "name": "python",
   "nbconvert_exporter": "python",
   "pygments_lexer": "ipython3",
   "version": "3.7.3"
  },
  "toc": {
   "base_numbering": 1,
   "nav_menu": {},
   "number_sections": true,
   "sideBar": true,
   "skip_h1_title": false,
   "title_cell": "Table of Contents",
   "title_sidebar": "Contents",
   "toc_cell": false,
   "toc_position": {},
   "toc_section_display": true,
   "toc_window_display": false
  }
 },
 "nbformat": 4,
 "nbformat_minor": 2
}
