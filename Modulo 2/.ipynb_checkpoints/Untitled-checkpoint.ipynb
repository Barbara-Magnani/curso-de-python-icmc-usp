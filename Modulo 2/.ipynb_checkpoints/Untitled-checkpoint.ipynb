{
 "cells": [
  {
   "cell_type": "markdown",
   "id": "7d8d8a1c-8953-49a3-b99e-8183d9c83553",
   "metadata": {},
   "source": [
    "Comparador de investimentos"
   ]
  },
  {
   "cell_type": "code",
   "execution_count": 14,
   "id": "466fc087-4c99-4a50-a124-2929c0ea730f",
   "metadata": {
    "tags": []
   },
   "outputs": [],
   "source": [
    "taxaDI=0.1304"
   ]
  },
  {
   "cell_type": "code",
   "execution_count": 15,
   "id": "abe3d9d8-d1a4-400c-8a70-7bf2243f6eb2",
   "metadata": {},
   "outputs": [],
   "source": [
    "def imposto(n):\n",
    "    if n<=180:\n",
    "        return 0.225\n",
    "    elif n<=360:\n",
    "        return 0.20\n",
    "    elif n<=720:\n",
    "        return 0.175\n",
    "    else:\n",
    "        return 0.15\n",
    "\n",
    "    "
   ]
  },
  {
   "cell_type": "code",
   "execution_count": 22,
   "id": "9db8b1d3-5ca5-434b-b5b1-cc5cbf00c514",
   "metadata": {
    "tags": []
   },
   "outputs": [],
   "source": [
    "def RCDB(n, P):\n",
    "    return 100*(((((1+taxaDI)**(1/252) -1)*0.01*P)+1)**n -1)*(1-imposto(n))\n",
    "\n",
    "def RLCI(n, P):\n",
    "    return 100*(((((1+taxaDI)**(1/252) -1)*0.01*P)+1)**n -1)\n",
    "\n"
   ]
  },
  {
   "cell_type": "code",
   "execution_count": 25,
   "id": "ae2f0ae7-f7fb-4db3-b9d3-59aa5989966d",
   "metadata": {
    "tags": []
   },
   "outputs": [
    {
     "data": {
      "text/plain": [
       "11.077305809098558"
      ]
     },
     "execution_count": 25,
     "metadata": {},
     "output_type": "execute_result"
    }
   ],
   "source": [
    "RCDB(180,120)\n",
    "RLCI(180,120)"
   ]
  },
  {
   "cell_type": "code",
   "execution_count": null,
   "id": "b999d5b3-7832-4a3d-aa6e-af025e3bc8c7",
   "metadata": {},
   "outputs": [],
   "source": []
  }
 ],
 "metadata": {
  "kernelspec": {
   "display_name": "Python 3 (ipykernel)",
   "language": "python",
   "name": "python3"
  },
  "language_info": {
   "codemirror_mode": {
    "name": "ipython",
    "version": 3
   },
   "file_extension": ".py",
   "mimetype": "text/x-python",
   "name": "python",
   "nbconvert_exporter": "python",
   "pygments_lexer": "ipython3",
   "version": "3.11.5"
  }
 },
 "nbformat": 4,
 "nbformat_minor": 5
}
