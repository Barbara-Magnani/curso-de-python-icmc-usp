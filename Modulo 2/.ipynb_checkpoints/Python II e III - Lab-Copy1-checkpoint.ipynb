{
 "cells": [
  {
   "cell_type": "markdown",
   "metadata": {},
   "source": [
    "# Programação Python para Ciência de Dados\n",
    "\n",
    "## Exercícios Python II e III"
   ]
  },
  {
   "cell_type": "markdown",
   "metadata": {},
   "source": [
    "#### 1) Refaça a lista de pessoas, coloque 'Super-Gustavo' no início da lista.<br> \n",
    "OBS: Existem muitas maneiras de realizar esta tarefa."
   ]
  },
  {
   "cell_type": "code",
   "execution_count": null,
   "metadata": {},
   "outputs": [],
   "source": [
    "pessoas = ['Coelho-Bruno', 'Sutter-Gustavo', 'Veiga-Tobias', 'Super-Gustavo']"
   ]
  },
  {
   "cell_type": "code",
   "execution_count": 2,
   "metadata": {},
   "outputs": [
    {
     "name": "stdout",
     "output_type": "stream",
     "text": [
      "['Super-Gustavo', 'Coelho-Bruno', 'Sutter-Gustavo', 'Veiga-Tobias']\n"
     ]
    }
   ],
   "source": [
    "pessoas.insert(0,pessoas.pop())\n",
    "print(pessoas)"
   ]
  },
  {
   "cell_type": "markdown",
   "metadata": {},
   "source": [
    "#### 3) Encontre o nome mais curto e o nome mais longo da lista. Encontre duas formas de realizar a tarefa e tente imaginar qual é a mais eficiente."
   ]
  },
  {
   "cell_type": "code",
   "execution_count": 3,
   "metadata": {},
   "outputs": [
    {
     "name": "stdout",
     "output_type": "stream",
     "text": [
      "Coelho-Bruno Sutter-Gustavo\n"
     ]
    }
   ],
   "source": [
    "ordenado = sorted(pessoas, key=len)\n",
    "print(ordenado[0], ordenado[-1])"
   ]
  },
  {
   "cell_type": "code",
   "execution_count": 4,
   "metadata": {},
   "outputs": [
    {
     "name": "stdout",
     "output_type": "stream",
     "text": [
      "Coelho-Bruno\n",
      "Sutter-Gustavo\n"
     ]
    }
   ],
   "source": [
    "menor = print(min(pessoas, key=len))\n",
    "maior = print(max(pessoas, key=len))"
   ]
  },
  {
   "cell_type": "markdown",
   "metadata": {},
   "source": [
    "#### 4) Modifique a lista `pessoas` adicionando a substring 'er' no final de cada entrada. Para isso utilize o comando append."
   ]
  },
  {
   "cell_type": "code",
   "execution_count": 5,
   "metadata": {},
   "outputs": [
    {
     "name": "stdout",
     "output_type": "stream",
     "text": [
      "['Super-Gustavoer', 'Coelho-Brunoer', 'Sutter-Gustavoer', 'Veiga-Tobiaser']\n"
     ]
    }
   ],
   "source": [
    "out = []\n",
    "for nome in pessoas:\n",
    "    out.append(nome + 'er')\n",
    "print(out)"
   ]
  },
  {
   "cell_type": "markdown",
   "metadata": {},
   "source": [
    "#### 5) Modifique a lista `pessoas` adicionando a substring 'er' no final de cada entrada. Para isso utilize  list comprehension."
   ]
  },
  {
   "cell_type": "code",
   "execution_count": 6,
   "metadata": {},
   "outputs": [
    {
     "name": "stdout",
     "output_type": "stream",
     "text": [
      "['Super-Gustavoer', 'Coelho-Brunoer', 'Sutter-Gustavoer', 'Veiga-Tobiaser']\n"
     ]
    }
   ],
   "source": [
    "out2 = [nome + 'er' for nome in pessoas]\n",
    "print(out2)"
   ]
  },
  {
   "cell_type": "markdown",
   "metadata": {},
   "source": [
    "#### 6) Crie um dicionário cujas chaves são as strings criadas no exercício anterior e como valor o comprimento das strings."
   ]
  },
  {
   "cell_type": "code",
   "execution_count": 7,
   "metadata": {},
   "outputs": [
    {
     "name": "stdout",
     "output_type": "stream",
     "text": [
      "{'Super-Gustavo': 13, 'Coelho-Bruno': 12, 'Sutter-Gustavo': 14, 'Veiga-Tobias': 12}\n"
     ]
    }
   ],
   "source": [
    "dic = {nome:len(nome) for nome in pessoas}\n",
    "print(dic)"
   ]
  },
  {
   "cell_type": "markdown",
   "metadata": {},
   "source": [
    "#### 7) Crie uma função que retorna a substring que ocorre antes de cada hífen de cada entrada da lista `pessoas`.\n",
    "\n",
    "_Dica_: use uma função para encontrar o índice do hífen em cada entrada da lista."
   ]
  },
  {
   "cell_type": "code",
   "execution_count": 8,
   "metadata": {},
   "outputs": [
    {
     "name": "stdout",
     "output_type": "stream",
     "text": [
      "Super\n",
      "Coelho\n",
      "Sutter\n",
      "Veiga\n"
     ]
    }
   ],
   "source": [
    "for nome in pessoas:\n",
    "    print(nome.split('-')[0])"
   ]
  },
  {
   "cell_type": "code",
   "execution_count": 9,
   "metadata": {},
   "outputs": [
    {
     "data": {
      "text/plain": [
       "['Super', 'Coelho', 'Sutter', 'Veiga']"
      ]
     },
     "execution_count": 9,
     "metadata": {},
     "output_type": "execute_result"
    }
   ],
   "source": [
    "[nome.split('-')[0] for nome in pessoas]"
   ]
  },
  {
   "cell_type": "markdown",
   "metadata": {},
   "source": [
    "#### 8) Escreva cada nome da lista em um arquivo separado.\n",
    "\n",
    "*Dica*: Dê nomes simples aos arquivos como 'arquivo1.txt' para facilitar o uso destes arquivos nos próximos exercícios. Um exemplo de comando para gerar um nome simples seria:\n",
    "```python\n",
    "'arquivo' + str(i) + '.txt'\n",
    "```\n",
    "onde `i` é um índice para iterar na sequência de nomes."
   ]
  },
  {
   "cell_type": "code",
   "execution_count": null,
   "metadata": {},
   "outputs": [],
   "source": [
    "#for nome in pessoas:\n",
    "#    with open('arquivo' + str(nome) + '.txt', 'w') as f:\n",
    "#        f.writelines(nome)"
   ]
  },
  {
   "cell_type": "code",
   "execution_count": 10,
   "metadata": {},
   "outputs": [],
   "source": [
    "for indice, nome in enumerate(pessoas):\n",
    "    with open('arquivo' + str(indice) + '.txt', 'w') as f:\n",
    "        f.writelines(nome)"
   ]
  },
  {
   "cell_type": "markdown",
   "metadata": {},
   "source": [
    "#### 9) Para cada arquivo criado no exercício anterior, leia o arquivo, aplique a função criada no exercício 7) para pegar a substring que precede o hífen e escreva esta substringue no mesmo arquivo."
   ]
  },
  {
   "cell_type": "code",
   "execution_count": 11,
   "metadata": {},
   "outputs": [
    {
     "name": "stdout",
     "output_type": "stream",
     "text": [
      "Super\n",
      "Coelho\n",
      "Sutter\n",
      "Veiga\n"
     ]
    }
   ],
   "source": [
    "for indice, nome in enumerate(pessoas):\n",
    "    with open('arquivo' + str(indice) + '.txt', 'r') as f:  \n",
    "        print(nome.split('-')[0])\n",
    "    "
   ]
  },
  {
   "cell_type": "code",
   "execution_count": null,
   "metadata": {},
   "outputs": [],
   "source": [
    "# Criar um arquivo para cada pessoa na lista\n",
    "lista = ['Eduardo', 'Barbara', 'Livia']\n",
    "\n",
    "for indice, nome in enumerate(lista):\n",
    "    with open('arquivo_' + nome[0] + '.txt', 'w') as f:\n",
    "        f.write('Lista de {}:\\n'.format(nome))"
   ]
  },
  {
   "cell_type": "code",
   "execution_count": null,
   "metadata": {},
   "outputs": [],
   "source": [
    "# Escrevendo nos arquivos usando condicional\n",
    "for indice, nome in enumerate(lista):\n",
    "    with open('arquivo_' + nome[0] + '.txt', 'a') as f:\n",
    "        if nome == 'Eduardo':\n",
    "            f.write('maçã verde\\n'.format(nome))\n",
    "        if nome == 'Livia':\n",
    "            f.write('banana\\n')\n",
    "        if nome == 'Barbara':\n",
    "            f.write('nectarina\\n')"
   ]
  },
  {
   "cell_type": "code",
   "execution_count": null,
   "metadata": {},
   "outputs": [],
   "source": [
    "%%writefile -a arquivo_E.txt\n",
    "laranja"
   ]
  },
  {
   "cell_type": "code",
   "execution_count": null,
   "metadata": {},
   "outputs": [],
   "source": [
    "def antes_do_hifen(nome):\n",
    "    return nome.split('-')[0]\n",
    "\n",
    "for indice, nome in enumerate(pessoas):\n",
    "    with open('arquivo' + str(indice) + '.txt', 'r') as f:  \n",
    "        print(antes_do_hifen(nome))"
   ]
  },
  {
   "cell_type": "markdown",
   "metadata": {},
   "source": [
    "#### 10) Crie uma classe que contém,  como métodos, algumas das funções desenvolvidas nos exercícios anteriores. A especificação mais detalhada encontra-se abaixo."
   ]
  },
  {
   "cell_type": "markdown",
   "metadata": {},
   "source": [
    "A classe deve seguir possuir:\n",
    "- Um inicializador que\n",
    "    - recebe o nome de um arquivo de saída\n",
    "    - salva esse nome numa variável\n",
    "- Um método chamado `string_inicial` que retorna a substring que precede um hífen presente em uma string enviada como parâmetro.\n",
    "- Um método chamado `escrever` que:\n",
    "     - recebe uma string\n",
    "     - extrai a substring que precede o hífen\n",
    "     - escreve esta substring no final do arquivo de saída\n",
    "- Um método chamado `alterar_saida` que altera o nome do arquivo de saída utilizando como novo nome o parâmetro de entrada\n",
    "- Uma sobrecarga no método padrão **\\_\\_del\\_\\_** de maneira que, antes de uma instância ser removida da lista enviada como parâmetro,  a mensagem _'Adeus!'_ seja impressa. "
   ]
  },
  {
   "cell_type": "code",
   "execution_count": 17,
   "metadata": {},
   "outputs": [],
   "source": [
    "class MaquinaDeNomes():\n",
    "    \n",
    "    def __init__(self, arquivo_saida):\n",
    "        self.arquivo_saida = arquivo_saida\n",
    "        \n",
    "    def string_inicial(self, nome):\n",
    "        return nome.split('-')[0]\n",
    "    \n",
    "    def escrever(self, string):\n",
    "        primeiro_nome = self.string_inicial(string)\n",
    "        with open(self.arquivo_saida, 'a') as f:\n",
    "            f.write(primeiro_nome)\n",
    "                \n",
    "    def alterar_saida(self, novo_nome):\n",
    "         self.arquivo_saida = novo_nome\n",
    "        \n",
    "    def __del__(self):\n",
    "        print(\"Adeus!\")\n",
    "        del self\n",
    "        "
   ]
  },
  {
   "cell_type": "code",
   "execution_count": 20,
   "metadata": {},
   "outputs": [
    {
     "name": "stdout",
     "output_type": "stream",
     "text": [
      "LiviaLiviaVeigaVeigaarquivo1.txtarquivo2.txtarquivo1.txtarquivo2.txtJoãoMaria\n",
      "LiviaLiviaVeigaVeigaarquivo0.txtarquivo3.txtarquivo0.txtarquivo3.txtarquivo0.txtarquivo3.txt\n",
      "Adeus!\n"
     ]
    }
   ],
   "source": [
    "# Utilize o código abaixo para testar sua classe -> ALTERADO\n",
    "\n",
    "maq = MaquinaDeNomes('maqtest1.txt')\n",
    "\n",
    "maq.escrever('João-Paulo')\n",
    "maq.escrever('Maria-José')\n",
    "\n",
    "with open('maqtest1.txt') as f:\n",
    "    print(f.read())\n",
    "    \n",
    "maq.alterar_saida('maqtest2.txt')\n",
    "\n",
    "maq.escrever('arquivo0.txt')\n",
    "maq.escrever('arquivo3.txt')\n",
    "\n",
    "with open('maqtest2.txt') as f:\n",
    "    print(f.read())\n",
    "    \n",
    "del maq"
   ]
  },
  {
   "cell_type": "code",
   "execution_count": 19,
   "metadata": {},
   "outputs": [
    {
     "name": "stdout",
     "output_type": "stream",
     "text": [
      "LiviaLiviaVeigaVeigaarquivo1.txtarquivo2.txtarquivo1.txtarquivo2.txt\n",
      "LiviaLiviaVeigaVeigaarquivo0.txtarquivo3.txtarquivo0.txtarquivo3.txt\n",
      "Adeus!\n"
     ]
    }
   ],
   "source": [
    "# Utilize o código abaixo para testar sua classe\n",
    "\n",
    "maq = MaquinaDeNomes('maqtest1.txt')\n",
    "\n",
    "maq.escrever('arquivo1.txt')\n",
    "maq.escrever('arquivo2.txt')\n",
    "\n",
    "with open('maqtest1.txt') as f:\n",
    "    print(f.read())\n",
    "    \n",
    "maq.alterar_saida('maqtest2.txt')\n",
    "\n",
    "maq.escrever('arquivo0.txt')\n",
    "maq.escrever('arquivo3.txt')\n",
    "\n",
    "with open('maqtest2.txt') as f:\n",
    "    print(f.read())\n",
    "    \n",
    "del maq"
   ]
  },
  {
   "cell_type": "code",
   "execution_count": 16,
   "metadata": {},
   "outputs": [
    {
     "data": {
      "text/plain": [
       "'maqtest1.txt'"
      ]
     },
     "execution_count": 16,
     "metadata": {},
     "output_type": "execute_result"
    }
   ],
   "source": [
    "maq = MaquinaDeNomes('maqtest1.txt')\n",
    "\n",
    "maq.arquivo_saida"
   ]
  },
  {
   "cell_type": "markdown",
   "metadata": {},
   "source": [
    "#### 11) Crie um módulo que contenha a classe criada. Insira os casos de teste no módulo também, mas de maneira que eles não sejam executados sempre que o módulo for importado."
   ]
  },
  {
   "cell_type": "code",
   "execution_count": null,
   "metadata": {},
   "outputs": [],
   "source": [
    "%%writefile modulo.py\n"
   ]
  }
 ],
 "metadata": {
  "kernelspec": {
   "display_name": "Python 3",
   "language": "python",
   "name": "python3"
  },
  "language_info": {
   "codemirror_mode": {
    "name": "ipython",
    "version": 3
   },
   "file_extension": ".py",
   "mimetype": "text/x-python",
   "name": "python",
   "nbconvert_exporter": "python",
   "pygments_lexer": "ipython3",
   "version": "3.7.3"
  }
 },
 "nbformat": 4,
 "nbformat_minor": 2
}
