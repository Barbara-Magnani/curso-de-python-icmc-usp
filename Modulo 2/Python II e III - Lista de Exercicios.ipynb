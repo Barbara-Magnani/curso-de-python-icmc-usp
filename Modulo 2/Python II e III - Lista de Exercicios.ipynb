{
 "cells": [
  {
   "cell_type": "markdown",
   "metadata": {},
   "source": [
    "# Programação Python para Ciência de Dados\n",
    "\n",
    "## Homework Python II e III"
   ]
  },
  {
   "cell_type": "markdown",
   "metadata": {},
   "source": [
    "#### 1) Considere a matriz (lista de listas) abaixo:"
   ]
  },
  {
   "cell_type": "code",
   "execution_count": 1,
   "metadata": {},
   "outputs": [],
   "source": [
    "mat = [\n",
    "    ['supervisor', 'producao', 'Carlos'],\n",
    "    ['assistente', 'producao', 'Lucas'],\n",
    "    ['iniciante', 'pesquisador', 'Jeremias'],\n",
    "    ['supervisor', 'manufatura', 'Alberto'],\n",
    "    ['gerente', 'manufatura', 'Ricardo'],\n",
    "    ['engenheiro', 'manufatura', 'Fernando'],\n",
    "]"
   ]
  },
  {
   "cell_type": "markdown",
   "metadata": {},
   "source": [
    "##### a) Utilize list comprehension para gerar uma lista que contenha o nome dos funcionários que não são pesquisadores. Se o funcionário for gerente, inclua '_g' no final de seu nome.\n",
    "\n",
    "_Dica: lembre que é possível iterar vários elementos de uma vez usando um_ `for` _. Exemplo:_\n",
    "\n",
    "```python\n",
    "var = [\n",
    "    [1, 0],\n",
    "    [0, 2],\n",
    "    [0, 0]\n",
    "]\n",
    "for a, b in var:\n",
    "    print(b, a)\n",
    "```\n",
    "    output:\n",
    "    0 1\n",
    "    2 0\n",
    "    0 0"
   ]
  },
  {
   "cell_type": "code",
   "execution_count": 2,
   "metadata": {},
   "outputs": [
    {
     "data": {
      "text/plain": [
       "['Carlos', 'Lucas', 'Alberto', 'Ricardo_g', 'Fernando']"
      ]
     },
     "execution_count": 2,
     "metadata": {},
     "output_type": "execute_result"
    }
   ],
   "source": [
    "# Usando list comprehension \n",
    "[linha[-1] + '_g' if 'gerente' in linha\n",
    " else linha[-1]\n",
    " for linha in filter(lambda linha: 'pesquisador' not in linha, mat)]"
   ]
  },
  {
   "cell_type": "code",
   "execution_count": 3,
   "metadata": {},
   "outputs": [
    {
     "name": "stdout",
     "output_type": "stream",
     "text": [
      "['Carlos', 'Lucas', 'Alberto', 'Ricardo_g', 'Fernando']\n"
     ]
    }
   ],
   "source": [
    "# Usando for:\n",
    "l1=[]\n",
    "for linha in mat:\n",
    "    if 'gerente' in linha:\n",
    "        l1 += [linha[-1]+'_g']\n",
    "    elif 'pesquisador' not in linha:\n",
    "        l1 += [linha[-1]]\n",
    "        \n",
    "print(l1)"
   ]
  },
  {
   "cell_type": "markdown",
   "metadata": {},
   "source": [
    "##### b) Refaça o exercício anterior, porém utilizando os comando `map` e `filter` em vez de  list comprehension"
   ]
  },
  {
   "cell_type": "code",
   "execution_count": 4,
   "metadata": {},
   "outputs": [
    {
     "data": {
      "text/plain": [
       "['Carlos', 'Lucas', 'Alberto', 'Ricardo_g', 'Fernando']"
      ]
     },
     "execution_count": 4,
     "metadata": {},
     "output_type": "execute_result"
    }
   ],
   "source": [
    "# Usando map e filter:\n",
    "\n",
    "# Filtrando as linhas da lista para retornarem sem 'pesquisador':\n",
    "filtro = filter(lambda linha: 'pesquisador' not in linha, mat)\n",
    "\n",
    "# Criando uma função que retorna o último elemento da lista modificado ou não\n",
    "def condicoes(linha):\n",
    "    if 'gerente' in linha:\n",
    "        return linha[-1] + '_g'\n",
    "    else:\n",
    "        return linha[-1]\n",
    "\n",
    "# mapeando as linhas com a função acima:\n",
    "list(map(condicoes,filtro))"
   ]
  },
  {
   "cell_type": "markdown",
   "metadata": {},
   "source": [
    "##### c) Crie um dicionário da forma `nome:(cargo, area)`. Utilize comprehension para isso."
   ]
  },
  {
   "cell_type": "code",
   "execution_count": 5,
   "metadata": {},
   "outputs": [
    {
     "name": "stdout",
     "output_type": "stream",
     "text": [
      "{'Carlos': ('supervisor', 'producao'), 'Lucas': ('assistente', 'producao'), 'Jeremias': ('iniciante', 'pesquisador'), 'Alberto': ('supervisor', 'manufatura'), 'Ricardo': ('gerente', 'manufatura'), 'Fernando': ('engenheiro', 'manufatura')}\n"
     ]
    }
   ],
   "source": [
    "dic = { nome: (cargo, area) for cargo, area, nome in mat}\n",
    "print(dic)"
   ]
  },
  {
   "cell_type": "markdown",
   "metadata": {},
   "source": [
    "#### d) Construa uma versão modificada da matriz `mat` de maneira que o nome apareça antes de cargo e área de atuação em cada entrada.\n"
   ]
  },
  {
   "cell_type": "code",
   "execution_count": 6,
   "metadata": {},
   "outputs": [
    {
     "data": {
      "text/plain": [
       "[['Carlos', 'supervisor', 'producao'],\n",
       " ['Lucas', 'assistente', 'producao'],\n",
       " ['Jeremias', 'iniciante', 'pesquisador'],\n",
       " ['Alberto', 'supervisor', 'manufatura'],\n",
       " ['Ricardo', 'gerente', 'manufatura'],\n",
       " ['Fernando', 'engenheiro', 'manufatura']]"
      ]
     },
     "execution_count": 6,
     "metadata": {},
     "output_type": "execute_result"
    }
   ],
   "source": [
    "[ [nome, cargo, area] for cargo, area, nome in mat ]"
   ]
  },
  {
   "cell_type": "markdown",
   "metadata": {},
   "source": [
    "#### 2) Utilize list comprehension para gerar a seguinte matriz\n",
    "\n",
    "```python\n",
    "[[1, 0, 0, 0],\n",
    " [0, 2, 0, 0],\n",
    " [0, 0, 3, 0],\n",
    " [0, 0, 0, 4]]\n",
    "\n",
    "```"
   ]
  },
  {
   "cell_type": "code",
   "execution_count": 7,
   "metadata": {},
   "outputs": [
    {
     "data": {
      "text/plain": [
       "[[1, 0, 0, 0], [0, 2, 0, 0], [0, 0, 3, 0], [0, 0, 0, 4]]"
      ]
     },
     "execution_count": 7,
     "metadata": {},
     "output_type": "execute_result"
    }
   ],
   "source": [
    "[ [i if i==linha else 0 for i in range(1,5)] for linha in range(1,5)]"
   ]
  },
  {
   "cell_type": "markdown",
   "metadata": {},
   "source": [
    "#### 3) Utilize list comprehension para gerar a seguinte estrutura\n",
    "\n",
    "```python\n",
    "[[1],\n",
    " [1, 2],\n",
    " [1, 2, 3],\n",
    " [1, 2, 3, 4]]\n",
    "\n",
    "```"
   ]
  },
  {
   "cell_type": "code",
   "execution_count": 8,
   "metadata": {},
   "outputs": [
    {
     "data": {
      "text/plain": [
       "[[1], [1, 2], [1, 2, 3], [1, 2, 3, 4]]"
      ]
     },
     "execution_count": 8,
     "metadata": {},
     "output_type": "execute_result"
    }
   ],
   "source": [
    "[ [i for i in range(1,linha+1) if i <= linha+1] for linha in range(1,5)]"
   ]
  },
  {
   "cell_type": "markdown",
   "metadata": {},
   "source": [
    "#### 4) Construa uma função que gera um dicionário onde as chaves são todas as variações de uma palavra com um caracter removido, e o valor é a palavra original. Por exemplo:\n",
    "\n",
    "- casa<br>\n",
    "dicionario gerado:<br>\n",
    "asa: casa<br>\n",
    "csa: casa<br>\n",
    "caa: casa<br>\n",
    "cas: casa<br>"
   ]
  },
  {
   "cell_type": "code",
   "execution_count": 9,
   "metadata": {},
   "outputs": [
    {
     "data": {
      "text/plain": [
       "{'asa': 'casa', 'csa': 'casa', 'caa': 'casa', 'cas': 'casa'}"
      ]
     },
     "execution_count": 9,
     "metadata": {},
     "output_type": "execute_result"
    }
   ],
   "source": [
    "def var(string):\n",
    "    \n",
    "    sub_lista = [] # -> para guardar as variações da string\n",
    "    \n",
    "    for i, letra in enumerate(string):\n",
    "        lista = list(string)\n",
    "        lista.pop(i) # -> removendo uma das letras\n",
    "        sub_lista += [''.join(lista)] # -> unindo as letras em uma string\n",
    "        \n",
    "    return {item:string for item in sub_lista}    \n",
    "        \n",
    "\n",
    "var('casa')"
   ]
  },
  {
   "cell_type": "markdown",
   "metadata": {},
   "source": [
    "#### 5) Construa uma função que recebe dois dicionários como parâmetros e concatena ambos em um único dicionário contendo as chaves e valores dos dois  dicionários enviados como parâmetros."
   ]
  },
  {
   "cell_type": "code",
   "execution_count": 10,
   "metadata": {},
   "outputs": [
    {
     "data": {
      "text/plain": [
       "{'asa': 'casa',\n",
       " 'csa': 'casa',\n",
       " 'caa': 'casa',\n",
       " 'cas': 'casa',\n",
       " 'ula': 'aula',\n",
       " 'ala': 'aula',\n",
       " 'aua': 'aula',\n",
       " 'aul': 'aula'}"
      ]
     },
     "execution_count": 10,
     "metadata": {},
     "output_type": "execute_result"
    }
   ],
   "source": [
    "def conc_dic(dic1, dic2):\n",
    "    chaves = list(dic1.keys()) + list(dic2.keys()) # -> lista de chaves\n",
    "    valores = list(dic1.values()) + list(dic2.values()) # -> lista de valores\n",
    "    return dict(zip(chaves,valores))\n",
    "\n",
    "dic1=var('casa')\n",
    "dic2=var('aula')\n",
    "\n",
    "conc_dic(dic1, dic2)"
   ]
  },
  {
   "cell_type": "code",
   "execution_count": 11,
   "metadata": {},
   "outputs": [
    {
     "data": {
      "text/plain": [
       "{'asa': 'casa',\n",
       " 'csa': 'casa',\n",
       " 'caa': 'casa',\n",
       " 'cas': 'casa',\n",
       " 'ula': 'aula',\n",
       " 'ala': 'aula',\n",
       " 'aua': 'aula',\n",
       " 'aul': 'aula'}"
      ]
     },
     "execution_count": 11,
     "metadata": {},
     "output_type": "execute_result"
    }
   ],
   "source": [
    "# Usando método update\n",
    "dic1=var('casa')\n",
    "dic2=var('aula')\n",
    "\n",
    "dic1.update(dic2)\n",
    "dic1"
   ]
  },
  {
   "cell_type": "code",
   "execution_count": 16,
   "metadata": {},
   "outputs": [
    {
     "data": {
      "text/plain": [
       "{'asa': 'casa',\n",
       " 'csa': 'casa',\n",
       " 'caa': 'casa',\n",
       " 'cas': 'casa',\n",
       " 'ula': 'aula',\n",
       " 'ala': 'aula',\n",
       " 'aua': 'aula',\n",
       " 'aul': 'aula',\n",
       " 'ato': 'gato',\n",
       " 'gto': 'gato',\n",
       " 'gao': 'gato',\n",
       " 'gat': 'gato'}"
      ]
     },
     "execution_count": 16,
     "metadata": {},
     "output_type": "execute_result"
    }
   ],
   "source": [
    "# concatenar n dicionarios de uma lista\n",
    "def conc_n_dic(*dics):\n",
    "    dic = {}\n",
    "    for item in dics:\n",
    "        dic.update(item)\n",
    "    return dic\n",
    " \n",
    "dic1=var('casa')\n",
    "dic2=var('aula')\n",
    "dic3=var('gato')\n",
    "\n",
    "conc_n_dic(dic1,dic2,dic3)"
   ]
  },
  {
   "cell_type": "code",
   "execution_count": 17,
   "metadata": {},
   "outputs": [
    {
     "data": {
      "text/plain": [
       "{'asa': 'casa',\n",
       " 'csa': 'casa',\n",
       " 'caa': 'casa',\n",
       " 'cas': 'casa',\n",
       " 'ula': 'aula',\n",
       " 'ala': 'aula',\n",
       " 'aua': 'aula',\n",
       " 'aul': 'aula',\n",
       " 'ato': 'gato',\n",
       " 'gto': 'gato',\n",
       " 'gao': 'gato',\n",
       " 'gat': 'gato'}"
      ]
     },
     "execution_count": 17,
     "metadata": {},
     "output_type": "execute_result"
    }
   ],
   "source": [
    "# concatenar n dicionarios de uma lista de dicionários\n",
    "def conc_lista_dic(lista):\n",
    "    dic = {}\n",
    "    for item in lista:\n",
    "        dic.update(item)\n",
    "    return dic\n",
    " \n",
    "dic1=var('casa')\n",
    "dic2=var('aula')\n",
    "dic3=var('gato')\n",
    "\n",
    "conc_lista_dic([dic1,dic2,dic3])"
   ]
  },
  {
   "cell_type": "markdown",
   "metadata": {},
   "source": [
    "#### 6) Construa uma classe chamada `Corretor` com as seguintes especificações:\n",
    "- o construtor da classe carrega o arquivo de palavras _corpus.txt_ (contém uma palavra por linha) e gera um dicionário como descrito no exercício 4). Para isso, a classe deve possuir métodos combinando as funções desenvolvidas no exercíos 4) e 5), gerando um único dicionário para todas as palavras lidas do arquivo. \n",
    "- a classe deve possuir um método chamado `sugere`, onde, dada uma palavra presente no arquivo _corpus.txt_, verifica a ortografia da mesma. Caso a palavra não esteja correta (um caracter faltante), o método deve apontar a ortografia correta.\n",
    "\n",
    "#### Crie um arquivo chamado YYY.py contendo a classe gerada."
   ]
  },
  {
   "cell_type": "code",
   "execution_count": 18,
   "metadata": {},
   "outputs": [
    {
     "name": "stdout",
     "output_type": "stream",
     "text": [
      "Overwriting YYY.py\n"
     ]
    }
   ],
   "source": [
    "%%writefile YYY.py\n",
    "\n",
    "class Corretor:\n",
    "    \n",
    "    def var(self, string):\n",
    "        ''' Cria as variações da string dada '''\n",
    "        sub_lista = [] \n",
    "        for i, letra in enumerate(string):\n",
    "            lista = list(string)\n",
    "            lista.pop(i) \n",
    "            sub_lista += [''.join(lista)] \n",
    "        return {item:string for item in sub_lista}    \n",
    "   \n",
    "    def conc_lista_dic(self, lista):\n",
    "        ''' Concatena os dicionários de uma lista '''\n",
    "        dic = {}\n",
    "        for item in lista:\n",
    "            dic.update(item)\n",
    "        return dic\n",
    "\n",
    "    def __init__(self,arquivo):\n",
    "        ''' Lê o arquivo linha a linha, cria uma lista de dicionarios e concatena a lista '''\n",
    "        with open(arquivo,'r') as f:\n",
    "            self.lista_dic = [self.var(item) for item in f.read().splitlines()]\n",
    "            self.dicionarios = self.conc_lista_dic(self.lista_dic)\n",
    "    \n",
    "    def sugere(self, string):\n",
    "        ''' Verifica se a string é chave do dicionario e retornar a palavra correta ''' \n",
    "        try:\n",
    "            return self.dicionarios[string]\n",
    "        except KeyError:\n",
    "            print('Palavra desconhecida.')"
   ]
  },
  {
   "cell_type": "markdown",
   "metadata": {},
   "source": [
    "#### 7)** O código abaixo deve resultar em uma lista onde todas as entradas são \"True\"."
   ]
  },
  {
   "cell_type": "code",
   "execution_count": 20,
   "metadata": {},
   "outputs": [
    {
     "name": "stdout",
     "output_type": "stream",
     "text": [
      "[True, True, True, True, True, True]\n"
     ]
    }
   ],
   "source": [
    "import YYY as Y # lista retorna tudo verdadeiro\n",
    "\n",
    "results = []\n",
    "x = Y.Corretor('corpus.txt')\n",
    "results.append(x.sugere('paavra') == 'palavra')\n",
    "results.append(x.sugere('cienci') == 'ciencia')\n",
    "results.append(x.sugere('daos') == 'dados')\n",
    "results.append(x.sugere('aditorio') == 'auditorio')\n",
    "results.append(x.sugere('estdo') == 'estudo')\n",
    "results.append(x.sugere('concntracao') == 'concentracao')\n",
    "\n",
    "print(results)"
   ]
  },
  {
   "cell_type": "markdown",
   "metadata": {},
   "source": [
    "__Extra:__\n",
    "\n",
    "O algoritmo acima só permite encontrar a sugestão de palavra correta quando apenas um caracter tenha sido removido. A versão completa desse algoritmo chama-se __SymSpell__ e permite encontrar sugestões mesmo quando uma letra trocou de posição com outra. \n",
    "\n",
    "Para mais detalhes veja:\n",
    "\n",
    "- https://medium.com/@wolfgarbe/1000x-faster-spelling-correction-algorithm-2012-8701fcd87a5f\n",
    "\n",
    "- https://github.com/wolfgarbe/SymSpell"
   ]
  },
  {
   "cell_type": "markdown",
   "metadata": {},
   "source": [
    "** faça upload de um notebook com a solução da questão 10 no google drive no diretório: <br><br>\n",
    "[http://tiny.cc/jadkdz](http://tiny.cc/jadkdz)\n",
    "\n",
    "O nome do notebook deve ser: <br><br>\n",
    "_seuprimeironome-seuultimonome-modulo1.ipynb_\n",
    "\n",
    "Por exemplo: _gustavo-nonato-modulo1.ipynb_"
   ]
  }
 ],
 "metadata": {
  "kernelspec": {
   "display_name": "Python 3 (ipykernel)",
   "language": "python",
   "name": "python3"
  },
  "language_info": {
   "codemirror_mode": {
    "name": "ipython",
    "version": 3
   },
   "file_extension": ".py",
   "mimetype": "text/x-python",
   "name": "python",
   "nbconvert_exporter": "python",
   "pygments_lexer": "ipython3",
   "version": "3.11.5"
  }
 },
 "nbformat": 4,
 "nbformat_minor": 4
}
